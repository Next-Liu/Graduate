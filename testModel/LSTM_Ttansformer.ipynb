{
 "cells": [
  {
   "cell_type": "code",
   "execution_count": 22,
   "metadata": {
    "collapsed": true,
    "ExecuteTime": {
     "end_time": "2024-10-31T02:58:47.982187800Z",
     "start_time": "2024-10-31T02:58:47.962882700Z"
    }
   },
   "outputs": [],
   "source": [
    "import numpy as np\n",
    "import pandas as pd\n",
    "from tqdm import tqdm\n",
    "import torch\n",
    "from torch import nn\n",
    "import torch.nn.functional as F\n",
    "from torch import tensor\n",
    "import torch.utils.data as Data\n",
    "import math\n",
    "from matplotlib import pyplot\n",
    "from datetime import datetime, timedelta\n",
    "from sklearn.model_selection import train_test_split\n",
    "import matplotlib.pyplot as plt\n",
    "import seaborn as sns\n",
    "import torch\n",
    "import torch.nn as nn\n",
    "import math\n",
    "import warnings\n",
    "\n",
    "warnings.filterwarnings(\"ignore\")\n",
    "plt.rcParams['font.sans-serif'] = ['SimHei']  # 用来正常显示中文标签\n",
    "plt.rcParams['axes.unicode_minus'] = False  # 用来正常显示负号\n",
    "import pandas as pd\n",
    "\n",
    "# 设置随机参数：保证实验结果可以重复\n",
    "SEED = 1234\n",
    "import random\n",
    "\n",
    "random.seed(SEED)\n",
    "np.random.seed(SEED)\n",
    "torch.manual_seed(SEED)\n",
    "torch.cuda.manual_seed(SEED)  # 适用于显卡训练\n",
    "torch.cuda.manual_seed_all(SEED)  # 适用于多显卡训练\n",
    "from torch.backends import cudnn\n",
    "\n",
    "cudnn.benchmark = False\n",
    "cudnn.deterministic = True\n",
    "device = torch.device('cuda' if torch.cuda.is_available() else 'cpu')"
   ]
  },
  {
   "cell_type": "code",
   "execution_count": 21,
   "outputs": [
    {
     "data": {
      "text/plain": "device(type='cuda')"
     },
     "execution_count": 21,
     "metadata": {},
     "output_type": "execute_result"
    }
   ],
   "source": [
    "device"
   ],
   "metadata": {
    "collapsed": false,
    "ExecuteTime": {
     "end_time": "2024-10-31T02:58:45.191251600Z",
     "start_time": "2024-10-31T02:58:45.152395100Z"
    }
   }
  },
  {
   "cell_type": "code",
   "execution_count": 23,
   "outputs": [
    {
     "name": "stdout",
     "output_type": "stream",
     "text": [
      "[ 1.5 77.  24.  57.   9.  54. ]\n",
      "1.5\n"
     ]
    }
   ],
   "source": [
    "filepath = '../data/DataProcess/station/1037A/1037A-2020-new.csv'\n",
    "data = pd.read_csv(filepath)\n",
    "data = data[['CO', 'PM10', 'SO2', 'NO2', 'O3', 'PM2.5']].values\n",
    "print(data[0])\n",
    "print(data[0][0])"
   ],
   "metadata": {
    "collapsed": false,
    "ExecuteTime": {
     "end_time": "2024-10-31T02:58:49.961915Z",
     "start_time": "2024-10-31T02:58:49.935189500Z"
    }
   }
  },
  {
   "cell_type": "code",
   "execution_count": 24,
   "outputs": [
    {
     "name": "stdout",
     "output_type": "stream",
     "text": [
      "8296 8296\n",
      "[array([ 1.5, 77. , 24. , 57. ,  9. , 54. ]), array([ 1.3, 84. , 21. , 56. ,  8. , 51. ]), array([ 1.5, 97. , 24. , 58. ,  8. , 55. ])]\n",
      "60.0\n"
     ]
    }
   ],
   "source": [
    "# 5个数据划分一组，前4个预测后一个\n",
    "sqe_len = 3\n",
    "len_int = 6\n",
    "data_2_x = []\n",
    "data_2_y = []\n",
    "for i in range(0, len(data) - 5, 1):  # 步长为5  （0：len(data_y） 不包含 len(data_y)\n",
    "    temp_x = []\n",
    "    temp_x.append(data[i][:])\n",
    "    temp_x.append(data[i + 1][:])\n",
    "    temp_x.append(data[i + 2][:])\n",
    "    # temp_x.append(data[i + 3][:-1])\n",
    "    data_2_x.append(temp_x)\n",
    "\n",
    "    data_2_y.append(data[i + 3][-1])\n",
    "\n",
    "print(len(data_2_x), len(data_2_y))\n",
    "print(data_2_x[0])\n",
    "print(data_2_y[0])\n",
    "data_2_x = np.array(data_2_x)  #,dtype=float)\n"
   ],
   "metadata": {
    "collapsed": false,
    "ExecuteTime": {
     "end_time": "2024-10-31T02:58:51.454003200Z",
     "start_time": "2024-10-31T02:58:51.419860300Z"
    }
   }
  },
  {
   "cell_type": "code",
   "execution_count": 25,
   "outputs": [],
   "source": [
    "class DataSet(Data.Dataset):  # 数据加载类\n",
    "    def __init__(self, data_inputs, data_targets):\n",
    "        self.inputs = torch.FloatTensor(data_inputs)\n",
    "        self.label = torch.FloatTensor(data_targets)\n",
    "\n",
    "    def __getitem__(self, index):\n",
    "        return self.inputs[index], self.label[index]\n",
    "\n",
    "    def __len__(self):\n",
    "        return len(self.inputs)"
   ],
   "metadata": {
    "collapsed": false,
    "ExecuteTime": {
     "end_time": "2024-10-31T02:58:53.152258900Z",
     "start_time": "2024-10-31T02:58:53.123693600Z"
    }
   }
  },
  {
   "cell_type": "code",
   "execution_count": 26,
   "outputs": [
    {
     "name": "stdout",
     "output_type": "stream",
     "text": [
      "TestDataLoader 的batch个数 6\n",
      "TrainDataLoader 的batch个数 25\n",
      "np.array(data_2_x).shape (8296, 3, 6)\n"
     ]
    }
   ],
   "source": [
    "Batch_Size = 256  #\n",
    "DataSet = DataSet(np.array(data_2_x), list(data_2_y))\n",
    "train_size = int(len(data_2_y) * 0.8)  # 自己计算\n",
    "test_size = len(data_2_y) - train_size\n",
    "train_dataset, test_dataset = torch.utils.data.random_split(DataSet, [train_size, test_size])\n",
    "TrainDataLoader = Data.DataLoader(train_dataset, batch_size=Batch_Size, shuffle=False, drop_last=True)\n",
    "TestDataLoader = Data.DataLoader(test_dataset, batch_size=Batch_Size, shuffle=False, drop_last=True)\n",
    "print(\"TestDataLoader 的batch个数\", TestDataLoader.__len__())\n",
    "print(\"TrainDataLoader 的batch个数\", TrainDataLoader.__len__())\n",
    "print(\"np.array(data_2_x).shape\", np.array(data_2_x).shape)\n"
   ],
   "metadata": {
    "collapsed": false,
    "ExecuteTime": {
     "end_time": "2024-10-31T02:58:54.306901800Z",
     "start_time": "2024-10-31T02:58:54.272957400Z"
    }
   }
  },
  {
   "cell_type": "code",
   "execution_count": 27,
   "outputs": [],
   "source": [
    "class PositionalEncoding(nn.Module):\n",
    "    def __init__(self, d_model, max_len=5000):\n",
    "        super(PositionalEncoding, self).__init__()\n",
    "        pe = torch.zeros(max_len, d_model)\n",
    "        position = torch.arange(0, max_len, dtype=torch.float).unsqueeze(1)\n",
    "        div_term = torch.exp(torch.arange(0, d_model, 2).float() * (-math.log(10000.0) / d_model))\n",
    "        pe[:, 0::2] = torch.sin(position * div_term)\n",
    "        pe[:, 1::2] = torch.cos(position * div_term)\n",
    "        pe = pe.unsqueeze(0).transpose(0, 1)\n",
    "        # pe.requires_grad = False\n",
    "        self.register_buffer('pe', pe)\n",
    "\n",
    "    def forward(self, x: torch.Tensor):\n",
    "        chunk = x.chunk(x.size(-1), dim=2)\n",
    "        out = torch.Tensor([]).to(x.device)\n",
    "        for i in range(len(chunk)):\n",
    "            out = torch.cat((out, chunk[i] + self.pe[:chunk[i].size(0), ...]), dim=2)\n",
    "        return out\n",
    "\n",
    "\n",
    "def transformer_generate_tgt_mask(length, device):\n",
    "    mask = torch.tril(torch.ones(length, length, device=device)) == 1\n",
    "    mask = (\n",
    "        mask.float()\n",
    "        .masked_fill(mask == 0, float(\"-inf\"))\n",
    "        .masked_fill(mask == 1, float(0.0))\n",
    "    )\n",
    "    return mask\n",
    "\n",
    "\n",
    "class Transformer(nn.Module):  # lstm+transformer+dnn\n",
    "    \"\"\"标准的Transformer编码器-解码器结构\"\"\"\n",
    "\n",
    "    def __init__(self, n_encoder_inputs, n_decoder_inputs, Sequence_length, d_model=512, dropout=0.1, num_layer=8):\n",
    "        \"\"\"\n",
    "        初始化\n",
    "        :param n_encoder_inputs:    输入数据的特征维度\n",
    "        :param n_decoder_inputs:    编码器输入的特征维度，其实等于编码器输出的特征维度\n",
    "        :param d_model:             词嵌入特征维度\n",
    "        :param dropout:             dropout\n",
    "        :param num_layer:           Transformer块的个数\n",
    "         Sequence_length:           transformer 输入数据 序列的长度\n",
    "        \"\"\"\n",
    "        super(Transformer, self).__init__()\n",
    "\n",
    "        self.input_pos_embedding = torch.nn.Embedding(500, embedding_dim=d_model)\n",
    "        self.target_pos_embedding = torch.nn.Embedding(500, embedding_dim=d_model)\n",
    "\n",
    "        encoder_layer = torch.nn.TransformerEncoderLayer(d_model=d_model, nhead=num_layer, dropout=dropout,\n",
    "                                                         dim_feedforward=4 * d_model)\n",
    "        decoder_layer = torch.nn.TransformerDecoderLayer(d_model=d_model, nhead=num_layer, dropout=dropout,\n",
    "                                                         dim_feedforward=4 * d_model)\n",
    "\n",
    "        self.encoder = torch.nn.TransformerEncoder(encoder_layer, num_layers=2)\n",
    "        self.decoder = torch.nn.TransformerDecoder(decoder_layer, num_layers=4)\n",
    "\n",
    "        self.lstm = nn.LSTM(len_int, len_int, num_layers=1, bidirectional=False)  # ,batch_first=True 是使用双向\n",
    "        self.input_projection = torch.nn.Linear(n_encoder_inputs, d_model)\n",
    "        self.output_projection = torch.nn.Linear(n_decoder_inputs, d_model)\n",
    "\n",
    "        self.linear = torch.nn.Linear(d_model, 1)\n",
    "        self.ziji_add_linear = torch.nn.Linear(Sequence_length, 1)\n",
    "        self.relu = F.relu\n",
    "\n",
    "    def encode_in(self, src):\n",
    "        src_start = self.input_projection(src).permute(1, 0, 2)\n",
    "        in_sequence_len, batch_size = src_start.size(0), src_start.size(1)\n",
    "        pos_encoder = (torch.arange(0, in_sequence_len, device=src.device).unsqueeze(0).repeat(batch_size, 1))\n",
    "        pos_encoder = self.input_pos_embedding(pos_encoder).permute(1, 0, 2)\n",
    "        src = src_start + pos_encoder\n",
    "        src = self.encoder(src) + src_start\n",
    "        return src\n",
    "\n",
    "    def decode_out(self, tgt, memory):\n",
    "        tgt_start = self.output_projection(tgt).permute(1, 0, 2)\n",
    "        out_sequence_len, batch_size = tgt_start.size(0), tgt_start.size(1)\n",
    "        pos_decoder = (torch.arange(0, out_sequence_len, device=tgt.device).unsqueeze(0).repeat(batch_size, 1))\n",
    "        pos_decoder = self.target_pos_embedding(pos_decoder).permute(1, 0, 2)\n",
    "        tgt = tgt_start + pos_decoder\n",
    "        tgt_mask = transformer_generate_tgt_mask(out_sequence_len, tgt.device)\n",
    "        out = self.decoder(tgt=tgt, memory=memory, tgt_mask=tgt_mask) + tgt_start\n",
    "        out = out.permute(1, 0, 2)  # [batch_size, seq_len, d_model]\n",
    "        out = self.linear(out)\n",
    "        return out\n",
    "\n",
    "    def forward(self, src, target_in):\n",
    "        # print(\"src.shape\",src.shape)#src.shape torch.Size([9, 8, 512])\n",
    "        lstm_out, (h_n, c_n) = self.lstm(src)\n",
    "        src = self.encode_in(self.relu(lstm_out))\n",
    "        out = self.decode_out(tgt=target_in, memory=src)\n",
    "        # print(\"out.shape\",out.shape)\n",
    "        # print(\"out.shape:\",out.shape)# torch.Size([batch, 3, 1]) # 原本代码中的输出\n",
    "        # 上边的这个输入可以用于很多任务的输出 可以根据任务进行自由的变换\n",
    "        # 下面是自己修改的\n",
    "        # 使用全连接变成 [batch,1] 构成了基于transformer的回归单值预测\n",
    "        out = out.squeeze(2)\n",
    "        out = self.ziji_add_linear(out)\n",
    "        return out"
   ],
   "metadata": {
    "collapsed": false,
    "ExecuteTime": {
     "end_time": "2024-10-31T02:58:55.691465800Z",
     "start_time": "2024-10-31T02:58:55.671329700Z"
    }
   }
  },
  {
   "cell_type": "code",
   "execution_count": 28,
   "outputs": [],
   "source": [
    "model = Transformer(n_encoder_inputs=len_int, n_decoder_inputs=len_int, Sequence_length=sqe_len).to(\n",
    "    device)  # 3 表示Sequence_length  transformer 输入数据 序列的长度"
   ],
   "metadata": {
    "collapsed": false,
    "ExecuteTime": {
     "end_time": "2024-10-31T02:58:59.450933100Z",
     "start_time": "2024-10-31T02:58:59.279508200Z"
    }
   }
  },
  {
   "cell_type": "code",
   "execution_count": 34,
   "outputs": [],
   "source": [
    "def test_main(model):\n",
    "    val_epoch_loss = []\n",
    "    with torch.no_grad():\n",
    "        for index, (inputs, targets) in enumerate(TestDataLoader):\n",
    "            inputs = torch.tensor(inputs).to(device)\n",
    "            targets = torch.tensor(targets).to(device)\n",
    "            inputs = inputs.float().to(device)\n",
    "            targets = targets.float().to(device)\n",
    "            tgt_in = torch.ones((Batch_Size, sqe_len, len_int)).to(device)\n",
    "            outputs = model(inputs, tgt_in).to(device)\n",
    "            # print(outputs.float(), targets.float())\n",
    "            loss = criterion(outputs.float(), targets.float())\n",
    "            val_epoch_loss.append(loss.item())\n",
    "    return np.mean(val_epoch_loss)\n",
    "\n",
    "\n",
    "epochs = 50 # 50 100 150 200\n",
    "optimizer = torch.optim.Adagrad(model.parameters(), lr=0.01) # 0.01 0.02 0.03 0.04 0.05\n",
    "criterion = torch.nn.MSELoss().to(device)# MSELoss"
   ],
   "metadata": {
    "collapsed": false,
    "ExecuteTime": {
     "end_time": "2024-10-31T03:06:27.505973400Z",
     "start_time": "2024-10-31T03:06:27.484921700Z"
    }
   }
  },
  {
   "cell_type": "code",
   "execution_count": 35,
   "outputs": [
    {
     "name": "stderr",
     "output_type": "stream",
     "text": [
      "  0%|          | 0/50 [00:00<?, ?it/s]"
     ]
    },
    {
     "name": "stdout",
     "output_type": "stream",
     "text": [
      "loss: tensor(2187.4695, device='cuda:0', grad_fn=<MseLossBackward>)\n",
      "loss: tensor(2272.3225, device='cuda:0', grad_fn=<MseLossBackward>)\n",
      "loss: tensor(2679.7593, device='cuda:0', grad_fn=<MseLossBackward>)\n",
      "loss: tensor(1329.7354, device='cuda:0', grad_fn=<MseLossBackward>)\n",
      "loss: tensor(1890.7793, device='cuda:0', grad_fn=<MseLossBackward>)\n",
      "loss: tensor(1226.7698, device='cuda:0', grad_fn=<MseLossBackward>)\n",
      "loss: tensor(1069.0745, device='cuda:0', grad_fn=<MseLossBackward>)\n",
      "loss: tensor(1256.4121, device='cuda:0', grad_fn=<MseLossBackward>)\n",
      "loss: tensor(1898.4192, device='cuda:0', grad_fn=<MseLossBackward>)\n",
      "loss: tensor(1737.8719, device='cuda:0', grad_fn=<MseLossBackward>)\n",
      "loss: tensor(2876.4556, device='cuda:0', grad_fn=<MseLossBackward>)\n",
      "loss: tensor(2357.6792, device='cuda:0', grad_fn=<MseLossBackward>)\n",
      "loss: tensor(2226.7180, device='cuda:0', grad_fn=<MseLossBackward>)\n",
      "loss: tensor(2254.5178, device='cuda:0', grad_fn=<MseLossBackward>)\n",
      "loss: tensor(1317.1577, device='cuda:0', grad_fn=<MseLossBackward>)\n",
      "loss: tensor(908.1421, device='cuda:0', grad_fn=<MseLossBackward>)\n",
      "loss: tensor(1494.6099, device='cuda:0', grad_fn=<MseLossBackward>)\n",
      "loss: tensor(2029.0452, device='cuda:0', grad_fn=<MseLossBackward>)\n",
      "loss: tensor(1422.0774, device='cuda:0', grad_fn=<MseLossBackward>)\n",
      "loss: tensor(939.5148, device='cuda:0', grad_fn=<MseLossBackward>)\n",
      "loss: tensor(1303.8228, device='cuda:0', grad_fn=<MseLossBackward>)\n",
      "loss: tensor(2056.1707, device='cuda:0', grad_fn=<MseLossBackward>)\n",
      "loss: tensor(1581.2107, device='cuda:0', grad_fn=<MseLossBackward>)\n",
      "loss: tensor(1343.0239, device='cuda:0', grad_fn=<MseLossBackward>)\n",
      "loss: tensor(1822.2877, device='cuda:0', grad_fn=<MseLossBackward>)\n"
     ]
    },
    {
     "name": "stderr",
     "output_type": "stream",
     "text": [
      "  2%|▏         | 1/50 [00:02<01:45,  2.15s/it]"
     ]
    },
    {
     "name": "stdout",
     "output_type": "stream",
     "text": [
      "epoch: 0 train_epoch_loss: 1739.2418701171875 val_epoch_loss: 1660.1420084635417\n",
      "best_test_loss ------------------------------------------------- 1660.1420084635417\n",
      "loss: tensor(1910.8911, device='cuda:0', grad_fn=<MseLossBackward>)\n",
      "loss: tensor(1740.5464, device='cuda:0', grad_fn=<MseLossBackward>)\n",
      "loss: tensor(2557.1001, device='cuda:0', grad_fn=<MseLossBackward>)\n",
      "loss: tensor(1319.8896, device='cuda:0', grad_fn=<MseLossBackward>)\n",
      "loss: tensor(1916.7607, device='cuda:0', grad_fn=<MseLossBackward>)\n",
      "loss: tensor(1261.1694, device='cuda:0', grad_fn=<MseLossBackward>)\n",
      "loss: tensor(1139.3317, device='cuda:0', grad_fn=<MseLossBackward>)\n",
      "loss: tensor(1170.5531, device='cuda:0', grad_fn=<MseLossBackward>)\n",
      "loss: tensor(1753.8345, device='cuda:0', grad_fn=<MseLossBackward>)\n",
      "loss: tensor(1490.7866, device='cuda:0', grad_fn=<MseLossBackward>)\n",
      "loss: tensor(2562.9517, device='cuda:0', grad_fn=<MseLossBackward>)\n",
      "loss: tensor(2206.3433, device='cuda:0', grad_fn=<MseLossBackward>)\n",
      "loss: tensor(2095.7151, device='cuda:0', grad_fn=<MseLossBackward>)\n",
      "loss: tensor(2144.0020, device='cuda:0', grad_fn=<MseLossBackward>)\n",
      "loss: tensor(1302.4133, device='cuda:0', grad_fn=<MseLossBackward>)\n",
      "loss: tensor(915.5121, device='cuda:0', grad_fn=<MseLossBackward>)\n",
      "loss: tensor(1522.3013, device='cuda:0', grad_fn=<MseLossBackward>)\n",
      "loss: tensor(2136.9497, device='cuda:0', grad_fn=<MseLossBackward>)\n",
      "loss: tensor(1415.9504, device='cuda:0', grad_fn=<MseLossBackward>)\n",
      "loss: tensor(968.5609, device='cuda:0', grad_fn=<MseLossBackward>)\n",
      "loss: tensor(1293.3643, device='cuda:0', grad_fn=<MseLossBackward>)\n",
      "loss: tensor(2180.8755, device='cuda:0', grad_fn=<MseLossBackward>)\n",
      "loss: tensor(1558.8068, device='cuda:0', grad_fn=<MseLossBackward>)\n",
      "loss: tensor(1220.8446, device='cuda:0', grad_fn=<MseLossBackward>)\n",
      "loss: tensor(1758.9196, device='cuda:0', grad_fn=<MseLossBackward>)\n",
      "epoch: 1 train_epoch_loss: 1661.7749462890624 val_epoch_loss: 1559.9491373697917\n",
      "best_test_loss ------------------------------------------------- 1559.9491373697917\n"
     ]
    },
    {
     "name": "stderr",
     "output_type": "stream",
     "text": [
      "  4%|▍         | 2/50 [00:04<01:34,  1.97s/it]"
     ]
    },
    {
     "name": "stdout",
     "output_type": "stream",
     "text": [
      "loss: tensor(1892.6431, device='cuda:0', grad_fn=<MseLossBackward>)\n",
      "loss: tensor(1632.6171, device='cuda:0', grad_fn=<MseLossBackward>)\n",
      "loss: tensor(2531.2312, device='cuda:0', grad_fn=<MseLossBackward>)\n",
      "loss: tensor(1278.1566, device='cuda:0', grad_fn=<MseLossBackward>)\n",
      "loss: tensor(1909.5020, device='cuda:0', grad_fn=<MseLossBackward>)\n",
      "loss: tensor(1290.8289, device='cuda:0', grad_fn=<MseLossBackward>)\n",
      "loss: tensor(1245.9122, device='cuda:0', grad_fn=<MseLossBackward>)\n",
      "loss: tensor(1252.2974, device='cuda:0', grad_fn=<MseLossBackward>)\n",
      "loss: tensor(1835.8945, device='cuda:0', grad_fn=<MseLossBackward>)\n",
      "loss: tensor(1489.8793, device='cuda:0', grad_fn=<MseLossBackward>)\n",
      "loss: tensor(2444.5801, device='cuda:0', grad_fn=<MseLossBackward>)\n",
      "loss: tensor(2245.1812, device='cuda:0', grad_fn=<MseLossBackward>)\n",
      "loss: tensor(2073.8662, device='cuda:0', grad_fn=<MseLossBackward>)\n",
      "loss: tensor(1994.4049, device='cuda:0', grad_fn=<MseLossBackward>)\n",
      "loss: tensor(1350.2554, device='cuda:0', grad_fn=<MseLossBackward>)\n",
      "loss: tensor(966.7942, device='cuda:0', grad_fn=<MseLossBackward>)\n",
      "loss: tensor(1516.1302, device='cuda:0', grad_fn=<MseLossBackward>)\n",
      "loss: tensor(1996.7051, device='cuda:0', grad_fn=<MseLossBackward>)\n",
      "loss: tensor(1418.7522, device='cuda:0', grad_fn=<MseLossBackward>)\n",
      "loss: tensor(928.1122, device='cuda:0', grad_fn=<MseLossBackward>)\n",
      "loss: tensor(1268.8801, device='cuda:0', grad_fn=<MseLossBackward>)\n",
      "loss: tensor(2145.4570, device='cuda:0', grad_fn=<MseLossBackward>)\n",
      "loss: tensor(1562.6138, device='cuda:0', grad_fn=<MseLossBackward>)\n",
      "loss: tensor(1234.3927, device='cuda:0', grad_fn=<MseLossBackward>)\n",
      "loss:"
     ]
    },
    {
     "name": "stderr",
     "output_type": "stream",
     "text": [
      "  6%|▌         | 3/50 [00:05<01:28,  1.89s/it]"
     ]
    },
    {
     "name": "stdout",
     "output_type": "stream",
     "text": [
      " tensor(1809.3308, device='cuda:0', grad_fn=<MseLossBackward>)\n",
      "epoch: 2 train_epoch_loss: 1652.576728515625 val_epoch_loss: 1608.2449951171875\n",
      "loss: tensor(1991.6008, device='cuda:0', grad_fn=<MseLossBackward>)\n",
      "loss: tensor(1671.6083, device='cuda:0', grad_fn=<MseLossBackward>)\n",
      "loss: tensor(2655.0637, device='cuda:0', grad_fn=<MseLossBackward>)\n",
      "loss: tensor(1323.1389, device='cuda:0', grad_fn=<MseLossBackward>)\n",
      "loss: tensor(1961.3357, device='cuda:0', grad_fn=<MseLossBackward>)\n",
      "loss: tensor(1255.1560, device='cuda:0', grad_fn=<MseLossBackward>)\n",
      "loss: tensor(1067.7614, device='cuda:0', grad_fn=<MseLossBackward>)\n",
      "loss: tensor(1192.0984, device='cuda:0', grad_fn=<MseLossBackward>)\n",
      "loss: tensor(1775.4497, device='cuda:0', grad_fn=<MseLossBackward>)\n",
      "loss: tensor(1510.9501, device='cuda:0', grad_fn=<MseLossBackward>)\n",
      "loss: tensor(2543.4365, device='cuda:0', grad_fn=<MseLossBackward>)\n",
      "loss: tensor(2183.2725, device='cuda:0', grad_fn=<MseLossBackward>)\n",
      "loss: tensor(2043.0085, device='cuda:0', grad_fn=<MseLossBackward>)\n",
      "loss: tensor(2018.2897, device='cuda:0', grad_fn=<MseLossBackward>)\n",
      "loss: tensor(1301.0940, device='cuda:0', grad_fn=<MseLossBackward>)\n",
      "loss: tensor(944.5105, device='cuda:0', grad_fn=<MseLossBackward>)\n",
      "loss: tensor(1526.0891, device='cuda:0', grad_fn=<MseLossBackward>)\n",
      "loss: tensor(1988.3892, device='cuda:0', grad_fn=<MseLossBackward>)\n",
      "loss: tensor(1493.5815, device='cuda:0', grad_fn=<MseLossBackward>)\n",
      "loss: tensor(975.9363, device='cuda:0', grad_fn=<MseLossBackward>)\n",
      "loss: tensor(1331.7729, device='cuda:0', grad_fn=<MseLossBackward>)\n",
      "loss: tensor(2057.5225, device='cuda:0', grad_fn=<MseLossBackward>)\n",
      "loss: tensor(1570.0115, device='cuda:0', grad_fn=<MseLossBackward>)\n",
      "loss: tensor(1303.0249, device='cuda:0', grad_fn=<MseLossBackward>)\n",
      "loss: tensor(1783.4147, device='cuda:0', grad_fn=<MseLossBackward>)\n",
      "epoch:"
     ]
    },
    {
     "name": "stderr",
     "output_type": "stream",
     "text": [
      "  8%|▊         | 4/50 [00:07<01:25,  1.85s/it]"
     ]
    },
    {
     "name": "stdout",
     "output_type": "stream",
     "text": [
      " 3 train_epoch_loss: 1658.7006884765624 val_epoch_loss: 1607.2254231770833\n",
      "loss: tensor(1882.6478, device='cuda:0', grad_fn=<MseLossBackward>)\n",
      "loss: tensor(1682.6007, device='cuda:0', grad_fn=<MseLossBackward>)\n",
      "loss: tensor(2535.1543, device='cuda:0', grad_fn=<MseLossBackward>)\n",
      "loss: tensor(1288.3677, device='cuda:0', grad_fn=<MseLossBackward>)\n",
      "loss: tensor(1901.1638, device='cuda:0', grad_fn=<MseLossBackward>)\n",
      "loss: tensor(1249.8801, device='cuda:0', grad_fn=<MseLossBackward>)\n",
      "loss: tensor(1136.7654, device='cuda:0', grad_fn=<MseLossBackward>)\n",
      "loss: tensor(1174.3489, device='cuda:0', grad_fn=<MseLossBackward>)\n",
      "loss: tensor(1755.0544, device='cuda:0', grad_fn=<MseLossBackward>)\n",
      "loss: tensor(1468.5823, device='cuda:0', grad_fn=<MseLossBackward>)\n",
      "loss: tensor(2505.5786, device='cuda:0', grad_fn=<MseLossBackward>)\n",
      "loss: tensor(2182.6528, device='cuda:0', grad_fn=<MseLossBackward>)\n",
      "loss: tensor(2054.0334, device='cuda:0', grad_fn=<MseLossBackward>)\n",
      "loss: tensor(2068.5828, device='cuda:0', grad_fn=<MseLossBackward>)\n",
      "loss: tensor(1282.4261, device='cuda:0', grad_fn=<MseLossBackward>)\n",
      "loss: tensor(901.1033, device='cuda:0', grad_fn=<MseLossBackward>)\n",
      "loss: tensor(1498.2764, device='cuda:0', grad_fn=<MseLossBackward>)\n",
      "loss: tensor(2084.5105, device='cuda:0', grad_fn=<MseLossBackward>)\n",
      "loss: tensor(1406.4531, device='cuda:0', grad_fn=<MseLossBackward>)\n",
      "loss: tensor(956.0188, device='cuda:0', grad_fn=<MseLossBackward>)\n",
      "loss: tensor(1290.9697, device='cuda:0', grad_fn=<MseLossBackward>)\n",
      "loss: tensor(2194.6714, device='cuda:0', grad_fn=<MseLossBackward>)\n",
      "loss: tensor(1577.9291, device='cuda:0', grad_fn=<MseLossBackward>)\n",
      "loss: tensor(1234.8289, device='cuda:0', grad_fn=<MseLossBackward>)\n",
      "loss: tensor(1793.8325, device='cuda:0', grad_fn=<MseLossBackward>)\n",
      "epoch:"
     ]
    },
    {
     "name": "stderr",
     "output_type": "stream",
     "text": [
      " 10%|█         | 5/50 [00:09<01:22,  1.83s/it]"
     ]
    },
    {
     "name": "stdout",
     "output_type": "stream",
     "text": [
      " 4 train_epoch_loss: 1644.2573168945312 val_epoch_loss: 1583.9272867838542\n",
      "loss: tensor(1951.8960, device='cuda:0', grad_fn=<MseLossBackward>)\n",
      "loss: tensor(1641.2201, device='cuda:0', grad_fn=<MseLossBackward>)\n",
      "loss: tensor(2582.9197, device='cuda:0', grad_fn=<MseLossBackward>)\n",
      "loss: tensor(1272.1564, device='cuda:0', grad_fn=<MseLossBackward>)\n",
      "loss: tensor(1899.1482, device='cuda:0', grad_fn=<MseLossBackward>)\n",
      "loss: tensor(1224.4055, device='cuda:0', grad_fn=<MseLossBackward>)\n",
      "loss: tensor(1098.6038, device='cuda:0', grad_fn=<MseLossBackward>)\n",
      "loss: tensor(1170.8062, device='cuda:0', grad_fn=<MseLossBackward>)\n",
      "loss: tensor(1759.0110, device='cuda:0', grad_fn=<MseLossBackward>)\n",
      "loss: tensor(1458.4890, device='cuda:0', grad_fn=<MseLossBackward>)\n",
      "loss: tensor(2451.8916, device='cuda:0', grad_fn=<MseLossBackward>)\n",
      "loss: tensor(2201.5698, device='cuda:0', grad_fn=<MseLossBackward>)\n",
      "loss: tensor(2054.4697, device='cuda:0', grad_fn=<MseLossBackward>)\n",
      "loss: tensor(1993.6838, device='cuda:0', grad_fn=<MseLossBackward>)\n",
      "loss: tensor(1372.2212, device='cuda:0', grad_fn=<MseLossBackward>)\n",
      "loss: tensor(1019.9890, device='cuda:0', grad_fn=<MseLossBackward>)\n",
      "loss: tensor(1577.9097, device='cuda:0', grad_fn=<MseLossBackward>)\n",
      "loss: tensor(1996.1649, device='cuda:0', grad_fn=<MseLossBackward>)\n",
      "loss: tensor(1524.8340, device='cuda:0', grad_fn=<MseLossBackward>)\n",
      "loss: tensor(983.7404, device='cuda:0', grad_fn=<MseLossBackward>)\n",
      "loss: tensor(1325.0569, device='cuda:0', grad_fn=<MseLossBackward>)\n",
      "loss: tensor(2055.5220, device='cuda:0', grad_fn=<MseLossBackward>)\n",
      "loss: tensor(1546.2341, device='cuda:0', grad_fn=<MseLossBackward>)\n",
      "loss: tensor(1257.1221, device='cuda:0', grad_fn=<MseLossBackward>)\n",
      "loss: tensor(1753.6641, device='cuda:0', grad_fn=<MseLossBackward>)\n",
      "epoch:"
     ]
    },
    {
     "name": "stderr",
     "output_type": "stream",
     "text": [
      " 12%|█▏        | 6/50 [00:11<01:19,  1.82s/it]"
     ]
    },
    {
     "name": "stdout",
     "output_type": "stream",
     "text": [
      " 5 train_epoch_loss: 1646.9091577148438 val_epoch_loss: 1567.0349527994792\n",
      "loss: tensor(1875.4032, device='cuda:0', grad_fn=<MseLossBackward>)\n",
      "loss: tensor(1636.2457, device='cuda:0', grad_fn=<MseLossBackward>)\n",
      "loss: tensor(2537.1543, device='cuda:0', grad_fn=<MseLossBackward>)\n",
      "loss: tensor(1263.0338, device='cuda:0', grad_fn=<MseLossBackward>)\n",
      "loss: tensor(1892.9785, device='cuda:0', grad_fn=<MseLossBackward>)\n",
      "loss: tensor(1224.2140, device='cuda:0', grad_fn=<MseLossBackward>)\n",
      "loss: tensor(1079.9758, device='cuda:0', grad_fn=<MseLossBackward>)\n",
      "loss: tensor(1170.7791, device='cuda:0', grad_fn=<MseLossBackward>)\n",
      "loss: tensor(1761.8372, device='cuda:0', grad_fn=<MseLossBackward>)\n",
      "loss: tensor(1505.2463, device='cuda:0', grad_fn=<MseLossBackward>)\n",
      "loss: tensor(2564.5842, device='cuda:0', grad_fn=<MseLossBackward>)\n",
      "loss: tensor(2199.4717, device='cuda:0', grad_fn=<MseLossBackward>)\n",
      "loss: tensor(2076.9624, device='cuda:0', grad_fn=<MseLossBackward>)\n",
      "loss: tensor(2099.9985, device='cuda:0', grad_fn=<MseLossBackward>)\n",
      "loss: tensor(1286.9199, device='cuda:0', grad_fn=<MseLossBackward>)\n",
      "loss: tensor(902.6824, device='cuda:0', grad_fn=<MseLossBackward>)\n",
      "loss: tensor(1499.5649, device='cuda:0', grad_fn=<MseLossBackward>)\n",
      "loss: tensor(2079.9028, device='cuda:0', grad_fn=<MseLossBackward>)\n",
      "loss: tensor(1404.2198, device='cuda:0', grad_fn=<MseLossBackward>)\n",
      "loss: tensor(945.0880, device='cuda:0', grad_fn=<MseLossBackward>)\n",
      "loss: tensor(1277.9282, device='cuda:0', grad_fn=<MseLossBackward>)\n",
      "loss: tensor(2151.9355, device='cuda:0', grad_fn=<MseLossBackward>)\n",
      "loss: tensor(1550.5940, device='cuda:0', grad_fn=<MseLossBackward>)\n",
      "loss: tensor(1220.9363, device='cuda:0', grad_fn=<MseLossBackward>)\n",
      "loss: tensor(1763.7274, device='cuda:0', grad_fn=<MseLossBackward>)\n",
      "epoch:"
     ]
    },
    {
     "name": "stderr",
     "output_type": "stream",
     "text": [
      " 14%|█▍        | 7/50 [00:12<01:17,  1.81s/it]"
     ]
    },
    {
     "name": "stdout",
     "output_type": "stream",
     "text": [
      " 6 train_epoch_loss: 1638.8553662109375 val_epoch_loss: 1563.185811360677\n",
      "loss: tensor(1907.0571, device='cuda:0', grad_fn=<MseLossBackward>)\n",
      "loss: tensor(1629.2028, device='cuda:0', grad_fn=<MseLossBackward>)\n",
      "loss: tensor(2546.5693, device='cuda:0', grad_fn=<MseLossBackward>)\n",
      "loss: tensor(1263.0909, device='cuda:0', grad_fn=<MseLossBackward>)\n",
      "loss: tensor(1890.1379, device='cuda:0', grad_fn=<MseLossBackward>)\n",
      "loss: tensor(1236.9132, device='cuda:0', grad_fn=<MseLossBackward>)\n",
      "loss: tensor(1141.8468, device='cuda:0', grad_fn=<MseLossBackward>)\n",
      "loss: tensor(1189.1580, device='cuda:0', grad_fn=<MseLossBackward>)\n",
      "loss: tensor(1776.9229, device='cuda:0', grad_fn=<MseLossBackward>)\n",
      "loss: tensor(1462.4932, device='cuda:0', grad_fn=<MseLossBackward>)\n",
      "loss: tensor(2443.7771, device='cuda:0', grad_fn=<MseLossBackward>)\n",
      "loss: tensor(2218.0042, device='cuda:0', grad_fn=<MseLossBackward>)\n",
      "loss: tensor(2063.9392, device='cuda:0', grad_fn=<MseLossBackward>)\n",
      "loss: tensor(1995.1276, device='cuda:0', grad_fn=<MseLossBackward>)\n",
      "loss: tensor(1375.0376, device='cuda:0', grad_fn=<MseLossBackward>)\n",
      "loss: tensor(1015.2874, device='cuda:0', grad_fn=<MseLossBackward>)\n",
      "loss: tensor(1567.0193, device='cuda:0', grad_fn=<MseLossBackward>)\n",
      "loss: tensor(1992.0109, device='cuda:0', grad_fn=<MseLossBackward>)\n",
      "loss: tensor(1498.7839, device='cuda:0', grad_fn=<MseLossBackward>)\n",
      "loss: tensor(962.9446, device='cuda:0', grad_fn=<MseLossBackward>)\n",
      "loss: tensor(1301.0481, device='cuda:0', grad_fn=<MseLossBackward>)\n",
      "loss: tensor(2058.8110, device='cuda:0', grad_fn=<MseLossBackward>)\n",
      "loss: tensor(1533.8779, device='cuda:0', grad_fn=<MseLossBackward>)\n",
      "loss: tensor(1235.6367, device='cuda:0', grad_fn=<MseLossBackward>)\n",
      "loss: tensor(1748.7603, device='cuda:0', grad_fn=<MseLossBackward>)\n",
      "epoch:"
     ]
    },
    {
     "name": "stderr",
     "output_type": "stream",
     "text": [
      " 16%|█▌        | 8/50 [00:14<01:16,  1.82s/it]"
     ]
    },
    {
     "name": "stdout",
     "output_type": "stream",
     "text": [
      " 7 train_epoch_loss: 1642.138310546875 val_epoch_loss: 1560.3627319335938\n",
      "loss: tensor(1884.5670, device='cuda:0', grad_fn=<MseLossBackward>)\n",
      "loss: tensor(1629.5459, device='cuda:0', grad_fn=<MseLossBackward>)\n",
      "loss: tensor(2550.4634, device='cuda:0', grad_fn=<MseLossBackward>)\n",
      "loss: tensor(1266.1606, device='cuda:0', grad_fn=<MseLossBackward>)\n",
      "loss: tensor(1900.9698, device='cuda:0', grad_fn=<MseLossBackward>)\n",
      "loss: tensor(1225.9177, device='cuda:0', grad_fn=<MseLossBackward>)\n",
      "loss: tensor(1072.9458, device='cuda:0', grad_fn=<MseLossBackward>)\n",
      "loss: tensor(1175.8541, device='cuda:0', grad_fn=<MseLossBackward>)\n",
      "loss: tensor(1767.1257, device='cuda:0', grad_fn=<MseLossBackward>)\n",
      "loss: tensor(1513.5077, device='cuda:0', grad_fn=<MseLossBackward>)\n",
      "loss: tensor(2575.0513, device='cuda:0', grad_fn=<MseLossBackward>)\n",
      "loss: tensor(2201.7046, device='cuda:0', grad_fn=<MseLossBackward>)\n",
      "loss: tensor(2077.4473, device='cuda:0', grad_fn=<MseLossBackward>)\n",
      "loss: tensor(2097.6963, device='cuda:0', grad_fn=<MseLossBackward>)\n",
      "loss: tensor(1285.7246, device='cuda:0', grad_fn=<MseLossBackward>)\n",
      "loss: tensor(901.7817, device='cuda:0', grad_fn=<MseLossBackward>)\n",
      "loss: tensor(1496.6653, device='cuda:0', grad_fn=<MseLossBackward>)\n",
      "loss: tensor(2068.0571, device='cuda:0', grad_fn=<MseLossBackward>)\n",
      "loss: tensor(1403.1533, device='cuda:0', grad_fn=<MseLossBackward>)\n",
      "loss: tensor(938.5527, device='cuda:0', grad_fn=<MseLossBackward>)\n",
      "loss: tensor(1272.9471, device='cuda:0', grad_fn=<MseLossBackward>)\n",
      "loss: tensor(2133.5151, device='cuda:0', grad_fn=<MseLossBackward>)\n",
      "loss: tensor(1542.2983, device='cuda:0', grad_fn=<MseLossBackward>)\n",
      "loss: tensor(1219.0918, device='cuda:0', grad_fn=<MseLossBackward>)\n",
      "loss:"
     ]
    },
    {
     "name": "stderr",
     "output_type": "stream",
     "text": [
      " 18%|█▊        | 9/50 [00:16<01:13,  1.80s/it]"
     ]
    },
    {
     "name": "stdout",
     "output_type": "stream",
     "text": [
      " tensor(1756.6438, device='cuda:0', grad_fn=<MseLossBackward>)\n",
      "epoch: 8 train_epoch_loss: 1638.2955297851563 val_epoch_loss: 1560.465067545573\n",
      "loss: tensor(1896.4618, device='cuda:0', grad_fn=<MseLossBackward>)\n",
      "loss: tensor(1629.5662, device='cuda:0', grad_fn=<MseLossBackward>)\n",
      "loss: tensor(2539.5122, device='cuda:0', grad_fn=<MseLossBackward>)\n",
      "loss: tensor(1264.2581, device='cuda:0', grad_fn=<MseLossBackward>)\n",
      "loss: tensor(1891.0739, device='cuda:0', grad_fn=<MseLossBackward>)\n",
      "loss: tensor(1242.2826, device='cuda:0', grad_fn=<MseLossBackward>)\n",
      "loss: tensor(1151.1108, device='cuda:0', grad_fn=<MseLossBackward>)\n",
      "loss: tensor(1192.5659, device='cuda:0', grad_fn=<MseLossBackward>)\n",
      "loss: tensor(1780.0742, device='cuda:0', grad_fn=<MseLossBackward>)\n",
      "loss: tensor(1463.5237, device='cuda:0', grad_fn=<MseLossBackward>)\n",
      "loss: tensor(2443.4084, device='cuda:0', grad_fn=<MseLossBackward>)\n",
      "loss: tensor(2217.4126, device='cuda:0', grad_fn=<MseLossBackward>)\n",
      "loss: tensor(2062.7651, device='cuda:0', grad_fn=<MseLossBackward>)\n",
      "loss: tensor(1994.5947, device='cuda:0', grad_fn=<MseLossBackward>)\n",
      "loss: tensor(1370.7515, device='cuda:0', grad_fn=<MseLossBackward>)\n",
      "loss: tensor(1006.8041, device='cuda:0', grad_fn=<MseLossBackward>)\n",
      "loss: tensor(1560.0740, device='cuda:0', grad_fn=<MseLossBackward>)\n",
      "loss: tensor(1990.5740, device='cuda:0', grad_fn=<MseLossBackward>)\n",
      "loss: tensor(1489.3635, device='cuda:0', grad_fn=<MseLossBackward>)\n",
      "loss: tensor(958.0642, device='cuda:0', grad_fn=<MseLossBackward>)\n",
      "loss: tensor(1296.1454, device='cuda:0', grad_fn=<MseLossBackward>)\n",
      "loss: tensor(2060.3838, device='cuda:0', grad_fn=<MseLossBackward>)\n",
      "loss: tensor(1532.6287, device='cuda:0', grad_fn=<MseLossBackward>)\n",
      "loss: tensor(1233.7253, device='cuda:0', grad_fn=<MseLossBackward>)\n",
      "loss: "
     ]
    },
    {
     "name": "stderr",
     "output_type": "stream",
     "text": [
      " 20%|██        | 10/50 [00:18<01:11,  1.79s/it]"
     ]
    },
    {
     "name": "stdout",
     "output_type": "stream",
     "text": [
      "tensor(1748.7412, device='cuda:0', grad_fn=<MseLossBackward>)\n",
      "epoch: 9 train_epoch_loss: 1640.6346337890625 val_epoch_loss: 1560.1051432291667\n",
      "loss: tensor(1885.2258, device='cuda:0', grad_fn=<MseLossBackward>)\n",
      "loss: tensor(1629.5165, device='cuda:0', grad_fn=<MseLossBackward>)\n",
      "loss: tensor(2551.2920, device='cuda:0', grad_fn=<MseLossBackward>)\n",
      "loss: tensor(1265.9343, device='cuda:0', grad_fn=<MseLossBackward>)\n",
      "loss: tensor(1900.3534, device='cuda:0', grad_fn=<MseLossBackward>)\n",
      "loss: tensor(1225.7434, device='cuda:0', grad_fn=<MseLossBackward>)\n",
      "loss: tensor(1073.5476, device='cuda:0', grad_fn=<MseLossBackward>)\n",
      "loss: tensor(1174.4302, device='cuda:0', grad_fn=<MseLossBackward>)\n",
      "loss: tensor(1765.5530, device='cuda:0', grad_fn=<MseLossBackward>)\n",
      "loss: tensor(1510.5713, device='cuda:0', grad_fn=<MseLossBackward>)\n",
      "loss: tensor(2569.2932, device='cuda:0', grad_fn=<MseLossBackward>)\n",
      "loss: tensor(2199.3235, device='cuda:0', grad_fn=<MseLossBackward>)\n",
      "loss: tensor(2074.5630, device='cuda:0', grad_fn=<MseLossBackward>)\n",
      "loss: tensor(2094.2095, device='cuda:0', grad_fn=<MseLossBackward>)\n",
      "loss: tensor(1284.7466, device='cuda:0', grad_fn=<MseLossBackward>)\n",
      "loss: tensor(901.4499, device='cuda:0', grad_fn=<MseLossBackward>)\n",
      "loss: tensor(1495.7280, device='cuda:0', grad_fn=<MseLossBackward>)\n",
      "loss: tensor(2066.5420, device='cuda:0', grad_fn=<MseLossBackward>)\n",
      "loss: tensor(1403.1509, device='cuda:0', grad_fn=<MseLossBackward>)\n",
      "loss: tensor(938.6163, device='cuda:0', grad_fn=<MseLossBackward>)\n",
      "loss: tensor(1273.1407, device='cuda:0', grad_fn=<MseLossBackward>)\n",
      "loss: tensor(2135.0264, device='cuda:0', grad_fn=<MseLossBackward>)\n",
      "loss: tensor(1543.5973, device='cuda:0', grad_fn=<MseLossBackward>)\n",
      "loss: tensor(1219.2952, device='cuda:0', grad_fn=<MseLossBackward>)\n",
      "loss:"
     ]
    },
    {
     "name": "stderr",
     "output_type": "stream",
     "text": [
      " 22%|██▏       | 11/50 [00:20<01:09,  1.78s/it]"
     ]
    },
    {
     "name": "stdout",
     "output_type": "stream",
     "text": [
      " tensor(1758.4038, device='cuda:0', grad_fn=<MseLossBackward>)\n",
      "epoch: 10 train_epoch_loss: 1637.5701489257813 val_epoch_loss: 1561.146219889323\n",
      "loss: tensor(1899.4282, device='cuda:0', grad_fn=<MseLossBackward>)\n",
      "loss: tensor(1629.1720, device='cuda:0', grad_fn=<MseLossBackward>)\n",
      "loss: tensor(2542.8267, device='cuda:0', grad_fn=<MseLossBackward>)\n",
      "loss: tensor(1263.3752, device='cuda:0', grad_fn=<MseLossBackward>)\n",
      "loss: tensor(1890.2151, device='cuda:0', grad_fn=<MseLossBackward>)\n",
      "loss: tensor(1237.3544, device='cuda:0', grad_fn=<MseLossBackward>)\n",
      "loss: tensor(1138.9641, device='cuda:0', grad_fn=<MseLossBackward>)\n",
      "loss: tensor(1186.9824, device='cuda:0', grad_fn=<MseLossBackward>)\n",
      "loss: tensor(1774.2092, device='cuda:0', grad_fn=<MseLossBackward>)\n",
      "loss: tensor(1461.1665, device='cuda:0', grad_fn=<MseLossBackward>)\n",
      "loss: tensor(2445.0005, device='cuda:0', grad_fn=<MseLossBackward>)\n",
      "loss: tensor(2211.8530, device='cuda:0', grad_fn=<MseLossBackward>)\n",
      "loss: tensor(2058.7710, device='cuda:0', grad_fn=<MseLossBackward>)\n",
      "loss: tensor(1993.9775, device='cuda:0', grad_fn=<MseLossBackward>)\n",
      "loss: tensor(1364.2863, device='cuda:0', grad_fn=<MseLossBackward>)\n",
      "loss: tensor(1003.5009, device='cuda:0', grad_fn=<MseLossBackward>)\n",
      "loss: tensor(1559.8196, device='cuda:0', grad_fn=<MseLossBackward>)\n",
      "loss: tensor(1990.7350, device='cuda:0', grad_fn=<MseLossBackward>)\n",
      "loss: tensor(1493.7231, device='cuda:0', grad_fn=<MseLossBackward>)\n",
      "loss: tensor(962.5541, device='cuda:0', grad_fn=<MseLossBackward>)\n",
      "loss: tensor(1302.3600, device='cuda:0', grad_fn=<MseLossBackward>)\n",
      "loss: tensor(2057.9155, device='cuda:0', grad_fn=<MseLossBackward>)\n",
      "loss: tensor(1535.9404, device='cuda:0', grad_fn=<MseLossBackward>)\n",
      "loss: tensor(1240.5618, device='cuda:0', grad_fn=<MseLossBackward>)\n",
      "loss:"
     ]
    },
    {
     "name": "stderr",
     "output_type": "stream",
     "text": [
      " 24%|██▍       | 12/50 [00:21<01:07,  1.76s/it]"
     ]
    },
    {
     "name": "stdout",
     "output_type": "stream",
     "text": [
      " tensor(1749.4565, device='cuda:0', grad_fn=<MseLossBackward>)\n",
      "epoch: 11 train_epoch_loss: 1639.7659643554687 val_epoch_loss: 1562.1139526367188\n",
      "loss: tensor(1879.6411, device='cuda:0', grad_fn=<MseLossBackward>)\n",
      "loss: tensor(1632.0184, device='cuda:0', grad_fn=<MseLossBackward>)\n",
      "loss: tensor(2542.1548, device='cuda:0', grad_fn=<MseLossBackward>)\n",
      "loss: tensor(1263.5071, device='cuda:0', grad_fn=<MseLossBackward>)\n",
      "loss: tensor(1894.5999, device='cuda:0', grad_fn=<MseLossBackward>)\n",
      "loss: tensor(1224.2432, device='cuda:0', grad_fn=<MseLossBackward>)\n",
      "loss: tensor(1079.6636, device='cuda:0', grad_fn=<MseLossBackward>)\n",
      "loss: tensor(1170.3289, device='cuda:0', grad_fn=<MseLossBackward>)\n",
      "loss: tensor(1760.3577, device='cuda:0', grad_fn=<MseLossBackward>)\n",
      "loss: tensor(1499.1011, device='cuda:0', grad_fn=<MseLossBackward>)\n",
      "loss: tensor(2552.6111, device='cuda:0', grad_fn=<MseLossBackward>)\n",
      "loss: tensor(2194.2935, device='cuda:0', grad_fn=<MseLossBackward>)\n",
      "loss: tensor(2067.9868, device='cuda:0', grad_fn=<MseLossBackward>)\n",
      "loss: tensor(2085.5186, device='cuda:0', grad_fn=<MseLossBackward>)\n",
      "loss: tensor(1283.7537, device='cuda:0', grad_fn=<MseLossBackward>)\n",
      "loss: tensor(901.1208, device='cuda:0', grad_fn=<MseLossBackward>)\n",
      "loss: tensor(1495.7490, device='cuda:0', grad_fn=<MseLossBackward>)\n",
      "loss: tensor(2068.0073, device='cuda:0', grad_fn=<MseLossBackward>)\n",
      "loss: tensor(1403.4116, device='cuda:0', grad_fn=<MseLossBackward>)\n",
      "loss: tensor(941.4480, device='cuda:0', grad_fn=<MseLossBackward>)\n",
      "loss: tensor(1275.9377, device='cuda:0', grad_fn=<MseLossBackward>)\n",
      "loss: tensor(2147.9573, device='cuda:0', grad_fn=<MseLossBackward>)\n",
      "loss: tensor(1550.6342, device='cuda:0', grad_fn=<MseLossBackward>)\n",
      "loss: tensor(1221.2046, device='cuda:0', grad_fn=<MseLossBackward>)\n",
      "loss: tensor(1766.8990, device='cuda:0', grad_fn=<MseLossBackward>)\n",
      "epoch:"
     ]
    },
    {
     "name": "stderr",
     "output_type": "stream",
     "text": [
      " 26%|██▌       | 13/50 [00:23<01:05,  1.76s/it]"
     ]
    },
    {
     "name": "stdout",
     "output_type": "stream",
     "text": [
      " 12 train_epoch_loss: 1636.0859521484374 val_epoch_loss: 1565.4986165364583\n",
      "loss: tensor(1913.9458, device='cuda:0', grad_fn=<MseLossBackward>)\n",
      "loss: tensor(1630.1514, device='cuda:0', grad_fn=<MseLossBackward>)\n",
      "loss: tensor(2554.6868, device='cuda:0', grad_fn=<MseLossBackward>)\n",
      "loss: tensor(1263.7815, device='cuda:0', grad_fn=<MseLossBackward>)\n",
      "loss: tensor(1891.3291, device='cuda:0', grad_fn=<MseLossBackward>)\n",
      "loss: tensor(1228.5441, device='cuda:0', grad_fn=<MseLossBackward>)\n",
      "loss: tensor(1115.6443, device='cuda:0', grad_fn=<MseLossBackward>)\n",
      "loss: tensor(1176.1239, device='cuda:0', grad_fn=<MseLossBackward>)\n",
      "loss: tensor(1763.4071, device='cuda:0', grad_fn=<MseLossBackward>)\n",
      "loss: tensor(1458.5989, device='cuda:0', grad_fn=<MseLossBackward>)\n",
      "loss: tensor(2451.0547, device='cuda:0', grad_fn=<MseLossBackward>)\n",
      "loss: tensor(2200.4883, device='cuda:0', grad_fn=<MseLossBackward>)\n",
      "loss: tensor(2050.8608, device='cuda:0', grad_fn=<MseLossBackward>)\n",
      "loss: tensor(1993.1787, device='cuda:0', grad_fn=<MseLossBackward>)\n",
      "loss: tensor(1354.5037, device='cuda:0', grad_fn=<MseLossBackward>)\n",
      "loss: tensor(996.3960, device='cuda:0', grad_fn=<MseLossBackward>)\n",
      "loss: tensor(1557.5120, device='cuda:0', grad_fn=<MseLossBackward>)\n",
      "loss: tensor(1991.0712, device='cuda:0', grad_fn=<MseLossBackward>)\n",
      "loss: tensor(1500.0472, device='cuda:0', grad_fn=<MseLossBackward>)\n",
      "loss: tensor(968.9493, device='cuda:0', grad_fn=<MseLossBackward>)\n",
      "loss: tensor(1312.0824, device='cuda:0', grad_fn=<MseLossBackward>)\n",
      "loss: tensor(2055.9238, device='cuda:0', grad_fn=<MseLossBackward>)\n",
      "loss: tensor(1542.9419, device='cuda:0', grad_fn=<MseLossBackward>)\n",
      "loss: tensor(1254.5519, device='cuda:0', grad_fn=<MseLossBackward>)\n",
      "loss: tensor(1753.9238, device='cuda:0', grad_fn=<MseLossBackward>)\n",
      "epoch:"
     ]
    },
    {
     "name": "stderr",
     "output_type": "stream",
     "text": [
      " 28%|██▊       | 14/50 [00:25<01:04,  1.79s/it]"
     ]
    },
    {
     "name": "stdout",
     "output_type": "stream",
     "text": [
      " 13 train_epoch_loss: 1639.187939453125 val_epoch_loss: 1569.6492309570312\n",
      "loss: tensor(1874.5166, device='cuda:0', grad_fn=<MseLossBackward>)\n",
      "loss: tensor(1640.1969, device='cuda:0', grad_fn=<MseLossBackward>)\n",
      "loss: tensor(2533.2639, device='cuda:0', grad_fn=<MseLossBackward>)\n",
      "loss: tensor(1264.3855, device='cuda:0', grad_fn=<MseLossBackward>)\n",
      "loss: tensor(1890.1833, device='cuda:0', grad_fn=<MseLossBackward>)\n",
      "loss: tensor(1227.0957, device='cuda:0', grad_fn=<MseLossBackward>)\n",
      "loss: tensor(1096.0278, device='cuda:0', grad_fn=<MseLossBackward>)\n",
      "loss: tensor(1167.4951, device='cuda:0', grad_fn=<MseLossBackward>)\n",
      "loss: tensor(1754.4913, device='cuda:0', grad_fn=<MseLossBackward>)\n",
      "loss: tensor(1481.8376, device='cuda:0', grad_fn=<MseLossBackward>)\n",
      "loss: tensor(2524.5854, device='cuda:0', grad_fn=<MseLossBackward>)\n",
      "loss: tensor(2185.6106, device='cuda:0', grad_fn=<MseLossBackward>)\n",
      "loss: tensor(2057.0210, device='cuda:0', grad_fn=<MseLossBackward>)\n",
      "loss: tensor(2067.5854, device='cuda:0', grad_fn=<MseLossBackward>)\n",
      "loss: tensor(1282.0028, device='cuda:0', grad_fn=<MseLossBackward>)\n",
      "loss: tensor(900.7228, device='cuda:0', grad_fn=<MseLossBackward>)\n",
      "loss: tensor(1494.0298, device='cuda:0', grad_fn=<MseLossBackward>)\n",
      "loss: tensor(2064.0283, device='cuda:0', grad_fn=<MseLossBackward>)\n",
      "loss: tensor(1403.3427, device='cuda:0', grad_fn=<MseLossBackward>)\n",
      "loss: tensor(942.6893, device='cuda:0', grad_fn=<MseLossBackward>)\n",
      "loss: tensor(1278.3788, device='cuda:0', grad_fn=<MseLossBackward>)\n",
      "loss: tensor(2160.2861, device='cuda:0', grad_fn=<MseLossBackward>)\n",
      "loss: tensor(1559.4272, device='cuda:0', grad_fn=<MseLossBackward>)\n",
      "loss: tensor(1225.1733, device='cuda:0', grad_fn=<MseLossBackward>)\n",
      "loss: tensor(1777.3547, device='cuda:0', grad_fn=<MseLossBackward>)\n"
     ]
    },
    {
     "name": "stderr",
     "output_type": "stream",
     "text": [
      " 30%|███       | 15/50 [00:27<01:02,  1.79s/it]"
     ]
    },
    {
     "name": "stdout",
     "output_type": "stream",
     "text": [
      "epoch: 14 train_epoch_loss: 1634.0692895507811 val_epoch_loss: 1573.8975219726562\n",
      "loss: tensor(1932.4385, device='cuda:0', grad_fn=<MseLossBackward>)\n",
      "loss: tensor(1635.7644, device='cuda:0', grad_fn=<MseLossBackward>)\n",
      "loss: tensor(2574.7209, device='cuda:0', grad_fn=<MseLossBackward>)\n",
      "loss: tensor(1270.3672, device='cuda:0', grad_fn=<MseLossBackward>)\n",
      "loss: tensor(1899.4995, device='cuda:0', grad_fn=<MseLossBackward>)\n",
      "loss: tensor(1224.2461, device='cuda:0', grad_fn=<MseLossBackward>)\n",
      "loss: tensor(1091.1780, device='cuda:0', grad_fn=<MseLossBackward>)\n",
      "loss: tensor(1168.1497, device='cuda:0', grad_fn=<MseLossBackward>)\n",
      "loss: tensor(1754.6309, device='cuda:0', grad_fn=<MseLossBackward>)\n",
      "loss: tensor(1461.6848, device='cuda:0', grad_fn=<MseLossBackward>)\n",
      "loss: tensor(2466.4468, device='cuda:0', grad_fn=<MseLossBackward>)\n",
      "loss: tensor(2186.4128, device='cuda:0', grad_fn=<MseLossBackward>)\n",
      "loss: tensor(2041.4550, device='cuda:0', grad_fn=<MseLossBackward>)\n",
      "loss: tensor(1995.7495, device='cuda:0', grad_fn=<MseLossBackward>)\n",
      "loss: tensor(1331.3367, device='cuda:0', grad_fn=<MseLossBackward>)\n",
      "loss: tensor(972.6000, device='cuda:0', grad_fn=<MseLossBackward>)\n",
      "loss: tensor(1541.3538, device='cuda:0', grad_fn=<MseLossBackward>)\n",
      "loss: tensor(1989.0547, device='cuda:0', grad_fn=<MseLossBackward>)\n",
      "loss: tensor(1490.1504, device='cuda:0', grad_fn=<MseLossBackward>)\n",
      "loss: tensor(965.6943, device='cuda:0', grad_fn=<MseLossBackward>)\n",
      "loss: tensor(1313.0142, device='cuda:0', grad_fn=<MseLossBackward>)\n",
      "loss: tensor(2055.5784, device='cuda:0', grad_fn=<MseLossBackward>)\n",
      "loss: tensor(1548.9336, device='cuda:0', grad_fn=<MseLossBackward>)\n",
      "loss: tensor(1267.3455, device='cuda:0', grad_fn=<MseLossBackward>)\n",
      "loss: tensor(1761.5828, device='cuda:0', grad_fn=<MseLossBackward>)\n",
      "epoch:"
     ]
    },
    {
     "name": "stderr",
     "output_type": "stream",
     "text": [
      " 32%|███▏      | 16/50 [00:28<01:00,  1.78s/it]"
     ]
    },
    {
     "name": "stdout",
     "output_type": "stream",
     "text": [
      " 15 train_epoch_loss: 1637.5755297851563 val_epoch_loss: 1581.191385904948\n",
      "loss: tensor(1874.3511, device='cuda:0', grad_fn=<MseLossBackward>)\n",
      "loss: tensor(1655.1990, device='cuda:0', grad_fn=<MseLossBackward>)\n",
      "loss: tensor(2530.2632, device='cuda:0', grad_fn=<MseLossBackward>)\n",
      "loss: tensor(1273.5852, device='cuda:0', grad_fn=<MseLossBackward>)\n",
      "loss: tensor(1893.7573, device='cuda:0', grad_fn=<MseLossBackward>)\n",
      "loss: tensor(1239.9143, device='cuda:0', grad_fn=<MseLossBackward>)\n",
      "loss: tensor(1126.7782, device='cuda:0', grad_fn=<MseLossBackward>)\n",
      "loss: tensor(1173.4288, device='cuda:0', grad_fn=<MseLossBackward>)\n",
      "loss: tensor(1755.5818, device='cuda:0', grad_fn=<MseLossBackward>)\n",
      "loss: tensor(1464.8389, device='cuda:0', grad_fn=<MseLossBackward>)\n",
      "loss: tensor(2488.4463, device='cuda:0', grad_fn=<MseLossBackward>)\n",
      "loss: tensor(2179.4749, device='cuda:0', grad_fn=<MseLossBackward>)\n",
      "loss: tensor(2043.2346, device='cuda:0', grad_fn=<MseLossBackward>)\n",
      "loss: tensor(2038.4822, device='cuda:0', grad_fn=<MseLossBackward>)\n",
      "loss: tensor(1282.2291, device='cuda:0', grad_fn=<MseLossBackward>)\n",
      "loss: tensor(903.0138, device='cuda:0', grad_fn=<MseLossBackward>)\n",
      "loss: tensor(1490.4144, device='cuda:0', grad_fn=<MseLossBackward>)\n",
      "loss: tensor(2046.3995, device='cuda:0', grad_fn=<MseLossBackward>)\n",
      "loss: tensor(1403.1340, device='cuda:0', grad_fn=<MseLossBackward>)\n",
      "loss: tensor(937.9918, device='cuda:0', grad_fn=<MseLossBackward>)\n",
      "loss: tensor(1275.8058, device='cuda:0', grad_fn=<MseLossBackward>)\n",
      "loss: tensor(2155.7900, device='cuda:0', grad_fn=<MseLossBackward>)\n",
      "loss: tensor(1559.6467, device='cuda:0', grad_fn=<MseLossBackward>)\n",
      "loss: tensor(1227.1223, device='cuda:0', grad_fn=<MseLossBackward>)\n",
      "loss: tensor(1784.4906, device='cuda:0', grad_fn=<MseLossBackward>)\n",
      "epoch:"
     ]
    },
    {
     "name": "stderr",
     "output_type": "stream",
     "text": [
      " 34%|███▍      | 17/50 [00:30<00:59,  1.79s/it]"
     ]
    },
    {
     "name": "stdout",
     "output_type": "stream",
     "text": [
      " 16 train_epoch_loss: 1632.1349560546876 val_epoch_loss: 1580.6307779947917\n",
      "loss: tensor(1945.1331, device='cuda:0', grad_fn=<MseLossBackward>)\n",
      "loss: tensor(1642.2573, device='cuda:0', grad_fn=<MseLossBackward>)\n",
      "loss: tensor(2593.4321, device='cuda:0', grad_fn=<MseLossBackward>)\n",
      "loss: tensor(1281.2789, device='cuda:0', grad_fn=<MseLossBackward>)\n",
      "loss: tensor(1913.3979, device='cuda:0', grad_fn=<MseLossBackward>)\n",
      "loss: tensor(1227.7637, device='cuda:0', grad_fn=<MseLossBackward>)\n",
      "loss: tensor(1074.7346, device='cuda:0', grad_fn=<MseLossBackward>)\n",
      "loss: tensor(1169.7408, device='cuda:0', grad_fn=<MseLossBackward>)\n",
      "loss: tensor(1755.7542, device='cuda:0', grad_fn=<MseLossBackward>)\n",
      "loss: tensor(1477.2252, device='cuda:0', grad_fn=<MseLossBackward>)\n",
      "loss: tensor(2498.6726, device='cuda:0', grad_fn=<MseLossBackward>)\n",
      "loss: tensor(2179.3672, device='cuda:0', grad_fn=<MseLossBackward>)\n",
      "loss: tensor(2038.7366, device='cuda:0', grad_fn=<MseLossBackward>)\n",
      "loss: tensor(2010.4783, device='cuda:0', grad_fn=<MseLossBackward>)\n",
      "loss: tensor(1301.8771, device='cuda:0', grad_fn=<MseLossBackward>)\n",
      "loss: tensor(937.9601, device='cuda:0', grad_fn=<MseLossBackward>)\n",
      "loss: tensor(1514.3433, device='cuda:0', grad_fn=<MseLossBackward>)\n",
      "loss: tensor(1989.6353, device='cuda:0', grad_fn=<MseLossBackward>)\n",
      "loss: tensor(1458.9470, device='cuda:0', grad_fn=<MseLossBackward>)\n",
      "loss: tensor(949.6985, device='cuda:0', grad_fn=<MseLossBackward>)\n",
      "loss: tensor(1297.4796, device='cuda:0', grad_fn=<MseLossBackward>)\n",
      "loss: tensor(2056.7461, device='cuda:0', grad_fn=<MseLossBackward>)\n",
      "loss: tensor(1544.0881, device='cuda:0', grad_fn=<MseLossBackward>)\n",
      "loss: tensor(1264.1852, device='cuda:0', grad_fn=<MseLossBackward>)\n",
      "loss: tensor(1762.0925, device='cuda:0', grad_fn=<MseLossBackward>)\n"
     ]
    },
    {
     "name": "stderr",
     "output_type": "stream",
     "text": [
      " 36%|███▌      | 18/50 [00:32<00:56,  1.77s/it]"
     ]
    },
    {
     "name": "stdout",
     "output_type": "stream",
     "text": [
      "epoch: 17 train_epoch_loss: 1635.401015625 val_epoch_loss: 1585.4962972005208\n",
      "loss: tensor(1875.2020, device='cuda:0', grad_fn=<MseLossBackward>)\n",
      "loss: tensor(1663.6036, device='cuda:0', grad_fn=<MseLossBackward>)\n",
      "loss: tensor(2532.0259, device='cuda:0', grad_fn=<MseLossBackward>)\n",
      "loss: tensor(1284.8499, device='cuda:0', grad_fn=<MseLossBackward>)\n",
      "loss: tensor(1902.9373, device='cuda:0', grad_fn=<MseLossBackward>)\n",
      "loss: tensor(1258.9391, device='cuda:0', grad_fn=<MseLossBackward>)\n",
      "loss: tensor(1165.0546, device='cuda:0', grad_fn=<MseLossBackward>)\n",
      "loss: tensor(1190.4246, device='cuda:0', grad_fn=<MseLossBackward>)\n",
      "loss: tensor(1769.5840, device='cuda:0', grad_fn=<MseLossBackward>)\n",
      "loss: tensor(1458.5063, device='cuda:0', grad_fn=<MseLossBackward>)\n",
      "loss: tensor(2458.6709, device='cuda:0', grad_fn=<MseLossBackward>)\n",
      "loss: tensor(2185.4026, device='cuda:0', grad_fn=<MseLossBackward>)\n",
      "loss: tensor(2038.2605, device='cuda:0', grad_fn=<MseLossBackward>)\n",
      "loss: tensor(2008.6057, device='cuda:0', grad_fn=<MseLossBackward>)\n",
      "loss: tensor(1294.8203, device='cuda:0', grad_fn=<MseLossBackward>)\n",
      "loss: tensor(917.6182, device='cuda:0', grad_fn=<MseLossBackward>)\n",
      "loss: tensor(1493.5846, device='cuda:0', grad_fn=<MseLossBackward>)\n",
      "loss: tensor(2015.2908, device='cuda:0', grad_fn=<MseLossBackward>)\n",
      "loss: tensor(1409.4355, device='cuda:0', grad_fn=<MseLossBackward>)\n",
      "loss: tensor(929.3407, device='cuda:0', grad_fn=<MseLossBackward>)\n",
      "loss: tensor(1268.5005, device='cuda:0', grad_fn=<MseLossBackward>)\n",
      "loss: tensor(2128.7017, device='cuda:0', grad_fn=<MseLossBackward>)\n",
      "loss: tensor(1547.7933, device='cuda:0', grad_fn=<MseLossBackward>)\n",
      "loss: tensor(1222.5554, device='cuda:0', grad_fn=<MseLossBackward>)\n",
      "loss:"
     ]
    },
    {
     "name": "stderr",
     "output_type": "stream",
     "text": [
      " 38%|███▊      | 19/50 [00:34<00:54,  1.75s/it]"
     ]
    },
    {
     "name": "stdout",
     "output_type": "stream",
     "text": [
      " tensor(1776.3629, device='cuda:0', grad_fn=<MseLossBackward>)\n",
      "epoch: 18 train_epoch_loss: 1631.8428344726562 val_epoch_loss: 1577.2246500651042\n",
      "loss: tensor(1939.2703, device='cuda:0', grad_fn=<MseLossBackward>)\n",
      "loss: tensor(1641.9045, device='cuda:0', grad_fn=<MseLossBackward>)\n",
      "loss: tensor(2596.8352, device='cuda:0', grad_fn=<MseLossBackward>)\n",
      "loss: tensor(1285.7885, device='cuda:0', grad_fn=<MseLossBackward>)\n",
      "loss: tensor(1921.9663, device='cuda:0', grad_fn=<MseLossBackward>)\n",
      "loss: tensor(1233.3370, device='cuda:0', grad_fn=<MseLossBackward>)\n",
      "loss: tensor(1068.9863, device='cuda:0', grad_fn=<MseLossBackward>)\n",
      "loss: tensor(1177.6775, device='cuda:0', grad_fn=<MseLossBackward>)\n",
      "loss: tensor(1764.7421, device='cuda:0', grad_fn=<MseLossBackward>)\n",
      "loss: tensor(1500.2322, device='cuda:0', grad_fn=<MseLossBackward>)\n",
      "loss: tensor(2539.2451, device='cuda:0', grad_fn=<MseLossBackward>)\n",
      "loss: tensor(2185.8213, device='cuda:0', grad_fn=<MseLossBackward>)\n",
      "loss: tensor(2050.5085, device='cuda:0', grad_fn=<MseLossBackward>)\n",
      "loss: tensor(2042.1519, device='cuda:0', grad_fn=<MseLossBackward>)\n",
      "loss: tensor(1283.9576, device='cuda:0', grad_fn=<MseLossBackward>)\n",
      "loss: tensor(910.4188, device='cuda:0', grad_fn=<MseLossBackward>)\n",
      "loss: tensor(1493.5190, device='cuda:0', grad_fn=<MseLossBackward>)\n",
      "loss: tensor(2005.7549, device='cuda:0', grad_fn=<MseLossBackward>)\n",
      "loss: tensor(1424.1580, device='cuda:0', grad_fn=<MseLossBackward>)\n",
      "loss: tensor(930.7650, device='cuda:0', grad_fn=<MseLossBackward>)\n",
      "loss: tensor(1275.0813, device='cuda:0', grad_fn=<MseLossBackward>)\n",
      "loss: tensor(2068.6626, device='cuda:0', grad_fn=<MseLossBackward>)\n",
      "loss: tensor(1531.6825, device='cuda:0', grad_fn=<MseLossBackward>)\n",
      "loss: tensor(1240.9246, device='cuda:0', grad_fn=<MseLossBackward>)\n",
      "loss: tensor(1752.7178, device='cuda:0', grad_fn=<MseLossBackward>)\n",
      "epoch:"
     ]
    },
    {
     "name": "stderr",
     "output_type": "stream",
     "text": [
      " 40%|████      | 20/50 [00:35<00:52,  1.74s/it]"
     ]
    },
    {
     "name": "stdout",
     "output_type": "stream",
     "text": [
      " 19 train_epoch_loss: 1634.6443481445312 val_epoch_loss: 1573.4054565429688\n",
      "loss: tensor(1873.9171, device='cuda:0', grad_fn=<MseLossBackward>)\n",
      "loss: tensor(1652.3352, device='cuda:0', grad_fn=<MseLossBackward>)\n",
      "loss: tensor(2530.7305, device='cuda:0', grad_fn=<MseLossBackward>)\n",
      "loss: tensor(1282.5503, device='cuda:0', grad_fn=<MseLossBackward>)\n",
      "loss: tensor(1903.8879, device='cuda:0', grad_fn=<MseLossBackward>)\n",
      "loss: tensor(1265.3369, device='cuda:0', grad_fn=<MseLossBackward>)\n",
      "loss: tensor(1182.1588, device='cuda:0', grad_fn=<MseLossBackward>)\n",
      "loss: tensor(1204.2129, device='cuda:0', grad_fn=<MseLossBackward>)\n",
      "loss: tensor(1785.2424, device='cuda:0', grad_fn=<MseLossBackward>)\n",
      "loss: tensor(1462.7810, device='cuda:0', grad_fn=<MseLossBackward>)\n",
      "loss: tensor(2445.7119, device='cuda:0', grad_fn=<MseLossBackward>)\n",
      "loss: tensor(2203.2539, device='cuda:0', grad_fn=<MseLossBackward>)\n",
      "loss: tensor(2047.8628, device='cuda:0', grad_fn=<MseLossBackward>)\n",
      "loss: tensor(1994.4021, device='cuda:0', grad_fn=<MseLossBackward>)\n",
      "loss: tensor(1326.1208, device='cuda:0', grad_fn=<MseLossBackward>)\n",
      "loss: tensor(953.6182, device='cuda:0', grad_fn=<MseLossBackward>)\n",
      "loss: tensor(1515.3528, device='cuda:0', grad_fn=<MseLossBackward>)\n",
      "loss: tensor(1992.5647, device='cuda:0', grad_fn=<MseLossBackward>)\n",
      "loss: tensor(1434.6414, device='cuda:0', grad_fn=<MseLossBackward>)\n",
      "loss: tensor(930.9490, device='cuda:0', grad_fn=<MseLossBackward>)\n",
      "loss: tensor(1270.0447, device='cuda:0', grad_fn=<MseLossBackward>)\n",
      "loss: tensor(2089.0181, device='cuda:0', grad_fn=<MseLossBackward>)\n",
      "loss: tensor(1531.9729, device='cuda:0', grad_fn=<MseLossBackward>)\n",
      "loss: tensor(1219.3191, device='cuda:0', grad_fn=<MseLossBackward>)\n",
      "loss: tensor(1757.9624, device='cuda:0', grad_fn=<MseLossBackward>)\n",
      "epoch:"
     ]
    },
    {
     "name": "stderr",
     "output_type": "stream",
     "text": [
      " 42%|████▏     | 21/50 [00:37<00:50,  1.74s/it]"
     ]
    },
    {
     "name": "stdout",
     "output_type": "stream",
     "text": [
      " 20 train_epoch_loss: 1634.23791015625 val_epoch_loss: 1564.776611328125\n",
      "loss: tensor(1911.5327, device='cuda:0', grad_fn=<MseLossBackward>)\n",
      "loss: tensor(1632.5890, device='cuda:0', grad_fn=<MseLossBackward>)\n",
      "loss: tensor(2575.1548, device='cuda:0', grad_fn=<MseLossBackward>)\n",
      "loss: tensor(1276.2616, device='cuda:0', grad_fn=<MseLossBackward>)\n",
      "loss: tensor(1912.9620, device='cuda:0', grad_fn=<MseLossBackward>)\n",
      "loss: tensor(1230.3844, device='cuda:0', grad_fn=<MseLossBackward>)\n",
      "loss: tensor(1069.5999, device='cuda:0', grad_fn=<MseLossBackward>)\n",
      "loss: tensor(1178.2039, device='cuda:0', grad_fn=<MseLossBackward>)\n",
      "loss: tensor(1767.8889, device='cuda:0', grad_fn=<MseLossBackward>)\n",
      "loss: tensor(1509.9631, device='cuda:0', grad_fn=<MseLossBackward>)\n",
      "loss: tensor(2562.3489, device='cuda:0', grad_fn=<MseLossBackward>)\n",
      "loss: tensor(2194.5801, device='cuda:0', grad_fn=<MseLossBackward>)\n",
      "loss: tensor(2064.8545, device='cuda:0', grad_fn=<MseLossBackward>)\n",
      "loss: tensor(2074.0547, device='cuda:0', grad_fn=<MseLossBackward>)\n",
      "loss: tensor(1281.7219, device='cuda:0', grad_fn=<MseLossBackward>)\n",
      "loss: tensor(901.1811, device='cuda:0', grad_fn=<MseLossBackward>)\n",
      "loss: tensor(1490.7551, device='cuda:0', grad_fn=<MseLossBackward>)\n",
      "loss: tensor(2037.8275, device='cuda:0', grad_fn=<MseLossBackward>)\n",
      "loss: tensor(1405.3678, device='cuda:0', grad_fn=<MseLossBackward>)\n",
      "loss: tensor(929.6947, device='cuda:0', grad_fn=<MseLossBackward>)\n",
      "loss: tensor(1267.2842, device='cuda:0', grad_fn=<MseLossBackward>)\n",
      "loss: tensor(2103.3721, device='cuda:0', grad_fn=<MseLossBackward>)\n",
      "loss: tensor(1532.5630, device='cuda:0', grad_fn=<MseLossBackward>)\n",
      "loss: tensor(1221.1073, device='cuda:0', grad_fn=<MseLossBackward>)\n",
      "loss: tensor(1750.1023, device='cuda:0', grad_fn=<MseLossBackward>)\n",
      "epoch:"
     ]
    },
    {
     "name": "stderr",
     "output_type": "stream",
     "text": [
      " 44%|████▍     | 22/50 [00:39<00:49,  1.76s/it]"
     ]
    },
    {
     "name": "stdout",
     "output_type": "stream",
     "text": [
      " 21 train_epoch_loss: 1635.2542163085936 val_epoch_loss: 1560.2032674153645\n",
      "loss: tensor(1884.4875, device='cuda:0', grad_fn=<MseLossBackward>)\n",
      "loss: tensor(1633.1217, device='cuda:0', grad_fn=<MseLossBackward>)\n",
      "loss: tensor(2534.3159, device='cuda:0', grad_fn=<MseLossBackward>)\n",
      "loss: tensor(1266.6987, device='cuda:0', grad_fn=<MseLossBackward>)\n",
      "loss: tensor(1892.5597, device='cuda:0', grad_fn=<MseLossBackward>)\n",
      "loss: tensor(1245.0637, device='cuda:0', grad_fn=<MseLossBackward>)\n",
      "loss: tensor(1152.6716, device='cuda:0', grad_fn=<MseLossBackward>)\n",
      "loss: tensor(1191.2349, device='cuda:0', grad_fn=<MseLossBackward>)\n",
      "loss: tensor(1776.8705, device='cuda:0', grad_fn=<MseLossBackward>)\n",
      "loss: tensor(1461.5109, device='cuda:0', grad_fn=<MseLossBackward>)\n",
      "loss: tensor(2445.5906, device='cuda:0', grad_fn=<MseLossBackward>)\n",
      "loss: tensor(2208.2756, device='cuda:0', grad_fn=<MseLossBackward>)\n",
      "loss: tensor(2054.4893, device='cuda:0', grad_fn=<MseLossBackward>)\n",
      "loss: tensor(1993.2188, device='cuda:0', grad_fn=<MseLossBackward>)\n",
      "loss: tensor(1351.0605, device='cuda:0', grad_fn=<MseLossBackward>)\n",
      "loss: tensor(986.7958, device='cuda:0', grad_fn=<MseLossBackward>)\n",
      "loss: tensor(1544.3573, device='cuda:0', grad_fn=<MseLossBackward>)\n",
      "loss: tensor(1988.6223, device='cuda:0', grad_fn=<MseLossBackward>)\n",
      "loss: tensor(1474.5637, device='cuda:0', grad_fn=<MseLossBackward>)\n",
      "loss: tensor(951.2943, device='cuda:0', grad_fn=<MseLossBackward>)\n",
      "loss: tensor(1291.7253, device='cuda:0', grad_fn=<MseLossBackward>)\n",
      "loss: tensor(2061.4189, device='cuda:0', grad_fn=<MseLossBackward>)\n",
      "loss: tensor(1532.5602, device='cuda:0', grad_fn=<MseLossBackward>)\n",
      "loss: tensor(1234.7990, device='cuda:0', grad_fn=<MseLossBackward>)\n",
      "loss: tensor(1748.8672, device='cuda:0', grad_fn=<MseLossBackward>)\n",
      "epoch:"
     ]
    },
    {
     "name": "stderr",
     "output_type": "stream",
     "text": [
      " 46%|████▌     | 23/50 [00:41<00:48,  1.78s/it]"
     ]
    },
    {
     "name": "stdout",
     "output_type": "stream",
     "text": [
      " 22 train_epoch_loss: 1636.2469604492187 val_epoch_loss: 1561.1610310872395\n",
      "loss: tensor(1881.5237, device='cuda:0', grad_fn=<MseLossBackward>)\n",
      "loss: tensor(1630.9833, device='cuda:0', grad_fn=<MseLossBackward>)\n",
      "loss: tensor(2543.4824, device='cuda:0', grad_fn=<MseLossBackward>)\n",
      "loss: tensor(1263.5328, device='cuda:0', grad_fn=<MseLossBackward>)\n",
      "loss: tensor(1894.2125, device='cuda:0', grad_fn=<MseLossBackward>)\n",
      "loss: tensor(1224.2010, device='cuda:0', grad_fn=<MseLossBackward>)\n",
      "loss: tensor(1081.9982, device='cuda:0', grad_fn=<MseLossBackward>)\n",
      "loss: tensor(1169.1335, device='cuda:0', grad_fn=<MseLossBackward>)\n",
      "loss: tensor(1757.8738, device='cuda:0', grad_fn=<MseLossBackward>)\n",
      "loss: tensor(1492.2181, device='cuda:0', grad_fn=<MseLossBackward>)\n",
      "loss: tensor(2538.7407, device='cuda:0', grad_fn=<MseLossBackward>)\n",
      "loss: tensor(2189.1953, device='cuda:0', grad_fn=<MseLossBackward>)\n",
      "loss: tensor(2061.3518, device='cuda:0', grad_fn=<MseLossBackward>)\n",
      "loss: tensor(2072.5366, device='cuda:0', grad_fn=<MseLossBackward>)\n",
      "loss: tensor(1282.0940, device='cuda:0', grad_fn=<MseLossBackward>)\n",
      "loss: tensor(900.7080, device='cuda:0', grad_fn=<MseLossBackward>)\n",
      "loss: tensor(1493.2388, device='cuda:0', grad_fn=<MseLossBackward>)\n",
      "loss: tensor(2058.1511, device='cuda:0', grad_fn=<MseLossBackward>)\n",
      "loss: tensor(1403.0168, device='cuda:0', grad_fn=<MseLossBackward>)\n",
      "loss: tensor(938.4481, device='cuda:0', grad_fn=<MseLossBackward>)\n",
      "loss: tensor(1273.9122, device='cuda:0', grad_fn=<MseLossBackward>)\n",
      "loss: tensor(2143.3845, device='cuda:0', grad_fn=<MseLossBackward>)\n",
      "loss: tensor(1549.7791, device='cuda:0', grad_fn=<MseLossBackward>)\n",
      "loss: tensor(1221.1990, device='cuda:0', grad_fn=<MseLossBackward>)\n",
      "loss: tensor(1767.5449, device='cuda:0', grad_fn=<MseLossBackward>)\n",
      "epoch:"
     ]
    },
    {
     "name": "stderr",
     "output_type": "stream",
     "text": [
      " 48%|████▊     | 24/50 [00:43<00:46,  1.79s/it]"
     ]
    },
    {
     "name": "stdout",
     "output_type": "stream",
     "text": [
      " 23 train_epoch_loss: 1633.2984155273436 val_epoch_loss: 1566.9735107421875\n",
      "loss: tensor(1916.9038, device='cuda:0', grad_fn=<MseLossBackward>)\n",
      "loss: tensor(1631.3260, device='cuda:0', grad_fn=<MseLossBackward>)\n",
      "loss: tensor(2560.7075, device='cuda:0', grad_fn=<MseLossBackward>)\n",
      "loss: tensor(1265.6146, device='cuda:0', grad_fn=<MseLossBackward>)\n",
      "loss: tensor(1894.2485, device='cuda:0', grad_fn=<MseLossBackward>)\n",
      "loss: tensor(1225.3550, device='cuda:0', grad_fn=<MseLossBackward>)\n",
      "loss: tensor(1100.7551, device='cuda:0', grad_fn=<MseLossBackward>)\n",
      "loss: tensor(1170.0568, device='cuda:0', grad_fn=<MseLossBackward>)\n",
      "loss: tensor(1756.6897, device='cuda:0', grad_fn=<MseLossBackward>)\n",
      "loss: tensor(1459.6946, device='cuda:0', grad_fn=<MseLossBackward>)\n",
      "loss: tensor(2461.0952, device='cuda:0', grad_fn=<MseLossBackward>)\n",
      "loss: tensor(2188.9790, device='cuda:0', grad_fn=<MseLossBackward>)\n",
      "loss: tensor(2042.7566, device='cuda:0', grad_fn=<MseLossBackward>)\n",
      "loss: tensor(1995.1180, device='cuda:0', grad_fn=<MseLossBackward>)\n",
      "loss: tensor(1332.7579, device='cuda:0', grad_fn=<MseLossBackward>)\n",
      "loss: tensor(971.7775, device='cuda:0', grad_fn=<MseLossBackward>)\n",
      "loss: tensor(1538.9590, device='cuda:0', grad_fn=<MseLossBackward>)\n",
      "loss: tensor(1988.7241, device='cuda:0', grad_fn=<MseLossBackward>)\n",
      "loss: tensor(1484.5800, device='cuda:0', grad_fn=<MseLossBackward>)\n",
      "loss: tensor(961.7784, device='cuda:0', grad_fn=<MseLossBackward>)\n",
      "loss: tensor(1307.5017, device='cuda:0', grad_fn=<MseLossBackward>)\n",
      "loss: tensor(2055.8579, device='cuda:0', grad_fn=<MseLossBackward>)\n",
      "loss: tensor(1544.6913, device='cuda:0', grad_fn=<MseLossBackward>)\n",
      "loss: tensor(1260.7277, device='cuda:0', grad_fn=<MseLossBackward>)\n",
      "loss: tensor(1758.2163, device='cuda:0', grad_fn=<MseLossBackward>)\n",
      "epoch:"
     ]
    },
    {
     "name": "stderr",
     "output_type": "stream",
     "text": [
      " 50%|█████     | 25/50 [00:44<00:44,  1.78s/it]"
     ]
    },
    {
     "name": "stdout",
     "output_type": "stream",
     "text": [
      " 24 train_epoch_loss: 1634.9948950195312 val_epoch_loss: 1577.1986287434895\n",
      "loss: tensor(1873.8989, device='cuda:0', grad_fn=<MseLossBackward>)\n",
      "loss: tensor(1650.6381, device='cuda:0', grad_fn=<MseLossBackward>)\n",
      "loss: tensor(2530.2417, device='cuda:0', grad_fn=<MseLossBackward>)\n",
      "loss: tensor(1271.3130, device='cuda:0', grad_fn=<MseLossBackward>)\n",
      "loss: tensor(1892.7567, device='cuda:0', grad_fn=<MseLossBackward>)\n",
      "loss: tensor(1238.3865, device='cuda:0', grad_fn=<MseLossBackward>)\n",
      "loss: tensor(1124.2212, device='cuda:0', grad_fn=<MseLossBackward>)\n",
      "loss: tensor(1172.9172, device='cuda:0', grad_fn=<MseLossBackward>)\n",
      "loss: tensor(1755.7563, device='cuda:0', grad_fn=<MseLossBackward>)\n",
      "loss: tensor(1464.2136, device='cuda:0', grad_fn=<MseLossBackward>)\n",
      "loss: tensor(2485.9927, device='cuda:0', grad_fn=<MseLossBackward>)\n",
      "loss: tensor(2179.3538, device='cuda:0', grad_fn=<MseLossBackward>)\n",
      "loss: tensor(2041.9677, device='cuda:0', grad_fn=<MseLossBackward>)\n",
      "loss: tensor(2033.7330, device='cuda:0', grad_fn=<MseLossBackward>)\n",
      "loss: tensor(1283.1124, device='cuda:0', grad_fn=<MseLossBackward>)\n",
      "loss: tensor(904.7072, device='cuda:0', grad_fn=<MseLossBackward>)\n",
      "loss: tensor(1490.0532, device='cuda:0', grad_fn=<MseLossBackward>)\n",
      "loss: tensor(2038.4036, device='cuda:0', grad_fn=<MseLossBackward>)\n",
      "loss: tensor(1403.7107, device='cuda:0', grad_fn=<MseLossBackward>)\n",
      "loss: tensor(935.1677, device='cuda:0', grad_fn=<MseLossBackward>)\n",
      "loss: tensor(1272.7645, device='cuda:0', grad_fn=<MseLossBackward>)\n",
      "loss: tensor(2147.3794, device='cuda:0', grad_fn=<MseLossBackward>)\n",
      "loss: tensor(1554.8915, device='cuda:0', grad_fn=<MseLossBackward>)\n",
      "loss: tensor(1224.7800, device='cuda:0', grad_fn=<MseLossBackward>)\n",
      "loss: tensor(1779.8907, device='cuda:0', grad_fn=<MseLossBackward>)\n",
      "epoch:"
     ]
    },
    {
     "name": "stderr",
     "output_type": "stream",
     "text": [
      " 52%|█████▏    | 26/50 [00:46<00:42,  1.78s/it]"
     ]
    },
    {
     "name": "stdout",
     "output_type": "stream",
     "text": [
      " 25 train_epoch_loss: 1630.0100537109374 val_epoch_loss: 1578.034688313802\n",
      "loss: tensor(1940.4692, device='cuda:0', grad_fn=<MseLossBackward>)\n",
      "loss: tensor(1640.8772, device='cuda:0', grad_fn=<MseLossBackward>)\n",
      "loss: tensor(2590.7632, device='cuda:0', grad_fn=<MseLossBackward>)\n",
      "loss: tensor(1280.6443, device='cuda:0', grad_fn=<MseLossBackward>)\n",
      "loss: tensor(1913.7737, device='cuda:0', grad_fn=<MseLossBackward>)\n",
      "loss: tensor(1228.4788, device='cuda:0', grad_fn=<MseLossBackward>)\n",
      "loss: tensor(1073.2043, device='cuda:0', grad_fn=<MseLossBackward>)\n",
      "loss: tensor(1171.0167, device='cuda:0', grad_fn=<MseLossBackward>)\n",
      "loss: tensor(1757.2478, device='cuda:0', grad_fn=<MseLossBackward>)\n",
      "loss: tensor(1482.1516, device='cuda:0', grad_fn=<MseLossBackward>)\n",
      "loss: tensor(2509.0386, device='cuda:0', grad_fn=<MseLossBackward>)\n",
      "loss: tensor(2179.8674, device='cuda:0', grad_fn=<MseLossBackward>)\n",
      "loss: tensor(2040.8558, device='cuda:0', grad_fn=<MseLossBackward>)\n",
      "loss: tensor(2019.0284, device='cuda:0', grad_fn=<MseLossBackward>)\n",
      "loss: tensor(1293.7721, device='cuda:0', grad_fn=<MseLossBackward>)\n",
      "loss: tensor(926.1852, device='cuda:0', grad_fn=<MseLossBackward>)\n",
      "loss: tensor(1504.3293, device='cuda:0', grad_fn=<MseLossBackward>)\n",
      "loss: tensor(1993.9578, device='cuda:0', grad_fn=<MseLossBackward>)\n",
      "loss: tensor(1443.1377, device='cuda:0', grad_fn=<MseLossBackward>)\n",
      "loss: tensor(939.7601, device='cuda:0', grad_fn=<MseLossBackward>)\n",
      "loss: tensor(1286.4784, device='cuda:0', grad_fn=<MseLossBackward>)\n",
      "loss: tensor(2060.2671, device='cuda:0', grad_fn=<MseLossBackward>)\n",
      "loss: tensor(1537.2793, device='cuda:0', grad_fn=<MseLossBackward>)\n",
      "loss: tensor(1252.8306, device='cuda:0', grad_fn=<MseLossBackward>)\n",
      "loss: tensor(1757.3080, device='cuda:0', grad_fn=<MseLossBackward>)\n"
     ]
    },
    {
     "name": "stderr",
     "output_type": "stream",
     "text": [
      " 54%|█████▍    | 27/50 [00:48<00:40,  1.78s/it]"
     ]
    },
    {
     "name": "stdout",
     "output_type": "stream",
     "text": [
      "epoch: 26 train_epoch_loss: 1632.90890625 val_epoch_loss: 1579.508280436198\n",
      "loss: tensor(1874.1509, device='cuda:0', grad_fn=<MseLossBackward>)\n",
      "loss: tensor(1658.1851, device='cuda:0', grad_fn=<MseLossBackward>)\n",
      "loss: tensor(2531.2078, device='cuda:0', grad_fn=<MseLossBackward>)\n",
      "loss: tensor(1283.6062, device='cuda:0', grad_fn=<MseLossBackward>)\n",
      "loss: tensor(1903.3850, device='cuda:0', grad_fn=<MseLossBackward>)\n",
      "loss: tensor(1261.9943, device='cuda:0', grad_fn=<MseLossBackward>)\n",
      "loss: tensor(1173.6124, device='cuda:0', grad_fn=<MseLossBackward>)\n",
      "loss: tensor(1196.6792, device='cuda:0', grad_fn=<MseLossBackward>)\n",
      "loss: tensor(1776.8882, device='cuda:0', grad_fn=<MseLossBackward>)\n",
      "loss: tensor(1459.8527, device='cuda:0', grad_fn=<MseLossBackward>)\n",
      "loss: tensor(2450.8228, device='cuda:0', grad_fn=<MseLossBackward>)\n",
      "loss: tensor(2193.3689, device='cuda:0', grad_fn=<MseLossBackward>)\n",
      "loss: tensor(2041.8455, device='cuda:0', grad_fn=<MseLossBackward>)\n",
      "loss: tensor(1998.8348, device='cuda:0', grad_fn=<MseLossBackward>)\n",
      "loss: tensor(1309.4562, device='cuda:0', grad_fn=<MseLossBackward>)\n",
      "loss: tensor(935.5369, device='cuda:0', grad_fn=<MseLossBackward>)\n",
      "loss: tensor(1503.3556, device='cuda:0', grad_fn=<MseLossBackward>)\n",
      "loss: tensor(1999.9475, device='cuda:0', grad_fn=<MseLossBackward>)\n",
      "loss: tensor(1421.2948, device='cuda:0', grad_fn=<MseLossBackward>)\n",
      "loss: tensor(928.0880, device='cuda:0', grad_fn=<MseLossBackward>)\n",
      "loss: tensor(1267.4401, device='cuda:0', grad_fn=<MseLossBackward>)\n",
      "loss: tensor(2102.6318, device='cuda:0', grad_fn=<MseLossBackward>)\n",
      "loss: tensor(1536.4521, device='cuda:0', grad_fn=<MseLossBackward>)\n",
      "loss: tensor(1219.1060, device='cuda:0', grad_fn=<MseLossBackward>)\n",
      "loss: tensor(1763.7373, device='cuda:0', grad_fn=<MseLossBackward>)\n",
      "epoch: 27 train_epoch_loss: 1631.6591967773438 val_epoch_loss: 1568.3187662760417\n"
     ]
    },
    {
     "name": "stderr",
     "output_type": "stream",
     "text": [
      " 56%|█████▌    | 28/50 [00:50<00:38,  1.76s/it]"
     ]
    },
    {
     "name": "stdout",
     "output_type": "stream",
     "text": [
      "loss: tensor(1920.4648, device='cuda:0', grad_fn=<MseLossBackward>)\n",
      "loss: tensor(1635.3102, device='cuda:0', grad_fn=<MseLossBackward>)\n",
      "loss: tensor(2581.7993, device='cuda:0', grad_fn=<MseLossBackward>)\n",
      "loss: tensor(1278.8000, device='cuda:0', grad_fn=<MseLossBackward>)\n",
      "loss: tensor(1915.3318, device='cuda:0', grad_fn=<MseLossBackward>)\n",
      "loss: tensor(1231.1852, device='cuda:0', grad_fn=<MseLossBackward>)\n",
      "loss: tensor(1069.3776, device='cuda:0', grad_fn=<MseLossBackward>)\n",
      "loss: tensor(1177.9429, device='cuda:0', grad_fn=<MseLossBackward>)\n",
      "loss: tensor(1766.5929, device='cuda:0', grad_fn=<MseLossBackward>)\n",
      "loss: tensor(1506.1567, device='cuda:0', grad_fn=<MseLossBackward>)\n",
      "loss: tensor(2553.4617, device='cuda:0', grad_fn=<MseLossBackward>)\n",
      "loss: tensor(2191.3726, device='cuda:0', grad_fn=<MseLossBackward>)\n",
      "loss: tensor(2059.9753, device='cuda:0', grad_fn=<MseLossBackward>)\n",
      "loss: tensor(2063.4424, device='cuda:0', grad_fn=<MseLossBackward>)\n",
      "loss: tensor(1281.3159, device='cuda:0', grad_fn=<MseLossBackward>)\n",
      "loss: tensor(902.4357, device='cuda:0', grad_fn=<MseLossBackward>)\n",
      "loss: tensor(1490.0320, device='cuda:0', grad_fn=<MseLossBackward>)\n",
      "loss: tensor(2028.2006, device='cuda:0', grad_fn=<MseLossBackward>)\n",
      "loss: tensor(1408.4303, device='cuda:0', grad_fn=<MseLossBackward>)\n",
      "loss: tensor(928.1465, device='cuda:0', grad_fn=<MseLossBackward>)\n",
      "loss: tensor(1267.2537, device='cuda:0', grad_fn=<MseLossBackward>)\n",
      "loss: tensor(2092.6514, device='cuda:0', grad_fn=<MseLossBackward>)\n",
      "loss: tensor(1530.4456, device='cuda:0', grad_fn=<MseLossBackward>)\n",
      "loss: tensor(1223.6814, device='cuda:0', grad_fn=<MseLossBackward>)\n",
      "loss: tensor(1749.0292, device='cuda:0', grad_fn=<MseLossBackward>)\n",
      "epoch:"
     ]
    },
    {
     "name": "stderr",
     "output_type": "stream",
     "text": [
      " 58%|█████▊    | 29/50 [00:51<00:36,  1.75s/it]"
     ]
    },
    {
     "name": "stdout",
     "output_type": "stream",
     "text": [
      " 28 train_epoch_loss: 1634.11341796875 val_epoch_loss: 1561.3550821940105\n",
      "loss: tensor(1880.9873, device='cuda:0', grad_fn=<MseLossBackward>)\n",
      "loss: tensor(1635.4578, device='cuda:0', grad_fn=<MseLossBackward>)\n",
      "loss: tensor(2532.5620, device='cuda:0', grad_fn=<MseLossBackward>)\n",
      "loss: tensor(1268.3396, device='cuda:0', grad_fn=<MseLossBackward>)\n",
      "loss: tensor(1893.6090, device='cuda:0', grad_fn=<MseLossBackward>)\n",
      "loss: tensor(1247.6157, device='cuda:0', grad_fn=<MseLossBackward>)\n",
      "loss: tensor(1155.6843, device='cuda:0', grad_fn=<MseLossBackward>)\n",
      "loss: tensor(1192.7634, device='cuda:0', grad_fn=<MseLossBackward>)\n",
      "loss: tensor(1777.5652, device='cuda:0', grad_fn=<MseLossBackward>)\n",
      "loss: tensor(1461.4425, device='cuda:0', grad_fn=<MseLossBackward>)\n",
      "loss: tensor(2445.7559, device='cuda:0', grad_fn=<MseLossBackward>)\n",
      "loss: tensor(2206.1602, device='cuda:0', grad_fn=<MseLossBackward>)\n",
      "loss: tensor(2052.7544, device='cuda:0', grad_fn=<MseLossBackward>)\n",
      "loss: tensor(1993.1606, device='cuda:0', grad_fn=<MseLossBackward>)\n",
      "loss: tensor(1344.8901, device='cuda:0', grad_fn=<MseLossBackward>)\n",
      "loss: tensor(979.5176, device='cuda:0', grad_fn=<MseLossBackward>)\n",
      "loss: tensor(1539.5917, device='cuda:0', grad_fn=<MseLossBackward>)\n",
      "loss: tensor(1988.2966, device='cuda:0', grad_fn=<MseLossBackward>)\n",
      "loss: tensor(1469.7433, device='cuda:0', grad_fn=<MseLossBackward>)\n",
      "loss: tensor(948.4022, device='cuda:0', grad_fn=<MseLossBackward>)\n",
      "loss: tensor(1288.5669, device='cuda:0', grad_fn=<MseLossBackward>)\n",
      "loss: tensor(2063.1182, device='cuda:0', grad_fn=<MseLossBackward>)\n",
      "loss: tensor(1531.6626, device='cuda:0', grad_fn=<MseLossBackward>)\n",
      "loss: tensor(1233.2102, device='cuda:0', grad_fn=<MseLossBackward>)\n",
      "loss: tensor(1748.7366, device='cuda:0', grad_fn=<MseLossBackward>)\n",
      "epoch:"
     ]
    },
    {
     "name": "stderr",
     "output_type": "stream",
     "text": [
      " 60%|██████    | 30/50 [00:53<00:34,  1.75s/it]"
     ]
    },
    {
     "name": "stdout",
     "output_type": "stream",
     "text": [
      " 29 train_epoch_loss: 1635.1837548828125 val_epoch_loss: 1560.8118896484375\n",
      "loss: tensor(1882.2012, device='cuda:0', grad_fn=<MseLossBackward>)\n",
      "loss: tensor(1630.6467, device='cuda:0', grad_fn=<MseLossBackward>)\n",
      "loss: tensor(2543.5815, device='cuda:0', grad_fn=<MseLossBackward>)\n",
      "loss: tensor(1263.4835, device='cuda:0', grad_fn=<MseLossBackward>)\n",
      "loss: tensor(1894.1216, device='cuda:0', grad_fn=<MseLossBackward>)\n",
      "loss: tensor(1224.2048, device='cuda:0', grad_fn=<MseLossBackward>)\n",
      "loss: tensor(1082.5618, device='cuda:0', grad_fn=<MseLossBackward>)\n",
      "loss: tensor(1168.8324, device='cuda:0', grad_fn=<MseLossBackward>)\n",
      "loss: tensor(1757.1672, device='cuda:0', grad_fn=<MseLossBackward>)\n",
      "loss: tensor(1489.8521, device='cuda:0', grad_fn=<MseLossBackward>)\n",
      "loss: tensor(2535.0928, device='cuda:0', grad_fn=<MseLossBackward>)\n",
      "loss: tensor(2187.8701, device='cuda:0', grad_fn=<MseLossBackward>)\n",
      "loss: tensor(2058.8147, device='cuda:0', grad_fn=<MseLossBackward>)\n",
      "loss: tensor(2068.6431, device='cuda:0', grad_fn=<MseLossBackward>)\n",
      "loss: tensor(1281.7548, device='cuda:0', grad_fn=<MseLossBackward>)\n",
      "loss: tensor(900.7593, device='cuda:0', grad_fn=<MseLossBackward>)\n",
      "loss: tensor(1492.6062, device='cuda:0', grad_fn=<MseLossBackward>)\n",
      "loss: tensor(2054.4106, device='cuda:0', grad_fn=<MseLossBackward>)\n",
      "loss: tensor(1402.9988, device='cuda:0', grad_fn=<MseLossBackward>)\n",
      "loss: tensor(937.5964, device='cuda:0', grad_fn=<MseLossBackward>)\n",
      "loss: tensor(1273.3911, device='cuda:0', grad_fn=<MseLossBackward>)\n",
      "loss: tensor(2140.9482, device='cuda:0', grad_fn=<MseLossBackward>)\n",
      "loss: tensor(1549.1013, device='cuda:0', grad_fn=<MseLossBackward>)\n",
      "loss: tensor(1221.1561, device='cuda:0', grad_fn=<MseLossBackward>)\n",
      "loss: tensor(1767.7008, device='cuda:0', grad_fn=<MseLossBackward>)\n",
      "epoch:"
     ]
    },
    {
     "name": "stderr",
     "output_type": "stream",
     "text": [
      " 62%|██████▏   | 31/50 [00:55<00:33,  1.77s/it]"
     ]
    },
    {
     "name": "stdout",
     "output_type": "stream",
     "text": [
      " 30 train_epoch_loss: 1632.3798876953124 val_epoch_loss: 1567.2136840820312\n",
      "loss: tensor(1918.0872, device='cuda:0', grad_fn=<MseLossBackward>)\n",
      "loss: tensor(1631.6772, device='cuda:0', grad_fn=<MseLossBackward>)\n",
      "loss: tensor(2562.5657, device='cuda:0', grad_fn=<MseLossBackward>)\n",
      "loss: tensor(1266.4705, device='cuda:0', grad_fn=<MseLossBackward>)\n",
      "loss: tensor(1895.3540, device='cuda:0', grad_fn=<MseLossBackward>)\n",
      "loss: tensor(1224.7152, device='cuda:0', grad_fn=<MseLossBackward>)\n",
      "loss: tensor(1096.4188, device='cuda:0', grad_fn=<MseLossBackward>)\n",
      "loss: tensor(1168.9167, device='cuda:0', grad_fn=<MseLossBackward>)\n",
      "loss: tensor(1755.2593, device='cuda:0', grad_fn=<MseLossBackward>)\n",
      "loss: tensor(1461.2401, device='cuda:0', grad_fn=<MseLossBackward>)\n",
      "loss: tensor(2466.1101, device='cuda:0', grad_fn=<MseLossBackward>)\n",
      "loss: tensor(2185.6074, device='cuda:0', grad_fn=<MseLossBackward>)\n",
      "loss: tensor(2040.4250, device='cuda:0', grad_fn=<MseLossBackward>)\n",
      "loss: tensor(1996.9200, device='cuda:0', grad_fn=<MseLossBackward>)\n",
      "loss: tensor(1324.1702, device='cuda:0', grad_fn=<MseLossBackward>)\n",
      "loss: tensor(963.8116, device='cuda:0', grad_fn=<MseLossBackward>)\n",
      "loss: tensor(1531.6404, device='cuda:0', grad_fn=<MseLossBackward>)\n",
      "loss: tensor(1988.3207, device='cuda:0', grad_fn=<MseLossBackward>)\n",
      "loss: tensor(1475.8992, device='cuda:0', grad_fn=<MseLossBackward>)\n",
      "loss: tensor(957.8216, device='cuda:0', grad_fn=<MseLossBackward>)\n",
      "loss: tensor(1303.9624, device='cuda:0', grad_fn=<MseLossBackward>)\n",
      "loss: tensor(2056.1965, device='cuda:0', grad_fn=<MseLossBackward>)\n",
      "loss: tensor(1543.7760, device='cuda:0', grad_fn=<MseLossBackward>)\n",
      "loss: tensor(1260.4667, device='cuda:0', grad_fn=<MseLossBackward>)\n",
      "loss:"
     ]
    },
    {
     "name": "stderr",
     "output_type": "stream",
     "text": [
      " 64%|██████▍   | 32/50 [00:57<00:32,  1.78s/it]"
     ]
    },
    {
     "name": "stdout",
     "output_type": "stream",
     "text": [
      " tensor(1759.0879, device='cuda:0', grad_fn=<MseLossBackward>)\n",
      "epoch: 31 train_epoch_loss: 1633.3968188476563 val_epoch_loss: 1578.850565592448\n",
      "loss: tensor(1874.0164, device='cuda:0', grad_fn=<MseLossBackward>)\n",
      "loss: tensor(1653.6292, device='cuda:0', grad_fn=<MseLossBackward>)\n",
      "loss: tensor(2530.2383, device='cuda:0', grad_fn=<MseLossBackward>)\n",
      "loss: tensor(1274.3975, device='cuda:0', grad_fn=<MseLossBackward>)\n",
      "loss: tensor(1894.7532, device='cuda:0', grad_fn=<MseLossBackward>)\n",
      "loss: tensor(1243.3427, device='cuda:0', grad_fn=<MseLossBackward>)\n",
      "loss: tensor(1135.4242, device='cuda:0', grad_fn=<MseLossBackward>)\n",
      "loss: tensor(1177.4268, device='cuda:0', grad_fn=<MseLossBackward>)\n",
      "loss: tensor(1759.1396, device='cuda:0', grad_fn=<MseLossBackward>)\n",
      "loss: tensor(1460.5752, device='cuda:0', grad_fn=<MseLossBackward>)\n",
      "loss: tensor(2474.1760, device='cuda:0', grad_fn=<MseLossBackward>)\n",
      "loss: tensor(2180.1025, device='cuda:0', grad_fn=<MseLossBackward>)\n",
      "loss: tensor(2039.0059, device='cuda:0', grad_fn=<MseLossBackward>)\n",
      "loss: tensor(2021.6287, device='cuda:0', grad_fn=<MseLossBackward>)\n",
      "loss: tensor(1286.7788, device='cuda:0', grad_fn=<MseLossBackward>)\n",
      "loss: tensor(909.3865, device='cuda:0', grad_fn=<MseLossBackward>)\n",
      "loss: tensor(1490.6783, device='cuda:0', grad_fn=<MseLossBackward>)\n",
      "loss: tensor(2026.0032, device='cuda:0', grad_fn=<MseLossBackward>)\n",
      "loss: tensor(1406.0084, device='cuda:0', grad_fn=<MseLossBackward>)\n",
      "loss: tensor(931.2949, device='cuda:0', grad_fn=<MseLossBackward>)\n",
      "loss: tensor(1269.8881, device='cuda:0', grad_fn=<MseLossBackward>)\n",
      "loss: tensor(2134.6741, device='cuda:0', grad_fn=<MseLossBackward>)\n",
      "loss: tensor(1549.5173, device='cuda:0', grad_fn=<MseLossBackward>)\n",
      "loss: tensor(1222.6104, device='cuda:0', grad_fn=<MseLossBackward>)\n",
      "loss:"
     ]
    },
    {
     "name": "stderr",
     "output_type": "stream",
     "text": [
      " 66%|██████▌   | 33/50 [00:59<00:30,  1.79s/it]"
     ]
    },
    {
     "name": "stdout",
     "output_type": "stream",
     "text": [
      " tensor(1776.1299, device='cuda:0', grad_fn=<MseLossBackward>)\n",
      "epoch: 32 train_epoch_loss: 1628.8330346679688 val_epoch_loss: 1575.685546875\n",
      "loss: tensor(1936.0599, device='cuda:0', grad_fn=<MseLossBackward>)\n",
      "loss: tensor(1639.8472, device='cuda:0', grad_fn=<MseLossBackward>)\n",
      "loss: tensor(2589.7188, device='cuda:0', grad_fn=<MseLossBackward>)\n",
      "loss: tensor(1281.4458, device='cuda:0', grad_fn=<MseLossBackward>)\n",
      "loss: tensor(1916.0317, device='cuda:0', grad_fn=<MseLossBackward>)\n",
      "loss: tensor(1230.0422, device='cuda:0', grad_fn=<MseLossBackward>)\n",
      "loss: tensor(1071.2798, device='cuda:0', grad_fn=<MseLossBackward>)\n",
      "loss: tensor(1173.5682, device='cuda:0', grad_fn=<MseLossBackward>)\n",
      "loss: tensor(1760.4829, device='cuda:0', grad_fn=<MseLossBackward>)\n",
      "loss: tensor(1491.2156, device='cuda:0', grad_fn=<MseLossBackward>)\n",
      "loss: tensor(2525.2864, device='cuda:0', grad_fn=<MseLossBackward>)\n",
      "loss: tensor(2182.6633, device='cuda:0', grad_fn=<MseLossBackward>)\n",
      "loss: tensor(2046.2375, device='cuda:0', grad_fn=<MseLossBackward>)\n",
      "loss: tensor(2034.3989, device='cuda:0', grad_fn=<MseLossBackward>)\n",
      "loss: tensor(1285.8257, device='cuda:0', grad_fn=<MseLossBackward>)\n",
      "loss: tensor(913.4103, device='cuda:0', grad_fn=<MseLossBackward>)\n",
      "loss: tensor(1495.2332, device='cuda:0', grad_fn=<MseLossBackward>)\n",
      "loss: tensor(2003.2023, device='cuda:0', grad_fn=<MseLossBackward>)\n",
      "loss: tensor(1426.0117, device='cuda:0', grad_fn=<MseLossBackward>)\n",
      "loss: tensor(931.5269, device='cuda:0', grad_fn=<MseLossBackward>)\n",
      "loss: tensor(1275.7527, device='cuda:0', grad_fn=<MseLossBackward>)\n",
      "loss: tensor(2068.9819, device='cuda:0', grad_fn=<MseLossBackward>)\n",
      "loss: tensor(1531.4435, device='cuda:0', grad_fn=<MseLossBackward>)\n",
      "loss: tensor(1239.5673, device='cuda:0', grad_fn=<MseLossBackward>)\n",
      "loss: tensor(1751.7478, device='cuda:0', grad_fn=<MseLossBackward>)\n",
      "epoch:"
     ]
    },
    {
     "name": "stderr",
     "output_type": "stream",
     "text": [
      " 68%|██████▊   | 34/50 [01:00<00:28,  1.80s/it]"
     ]
    },
    {
     "name": "stdout",
     "output_type": "stream",
     "text": [
      " 33 train_epoch_loss: 1632.0392602539061 val_epoch_loss: 1570.980692545573\n",
      "loss: tensor(1874.1034, device='cuda:0', grad_fn=<MseLossBackward>)\n",
      "loss: tensor(1648.9290, device='cuda:0', grad_fn=<MseLossBackward>)\n",
      "loss: tensor(2530.2366, device='cuda:0', grad_fn=<MseLossBackward>)\n",
      "loss: tensor(1278.2516, device='cuda:0', grad_fn=<MseLossBackward>)\n",
      "loss: tensor(1900.0740, device='cuda:0', grad_fn=<MseLossBackward>)\n",
      "loss: tensor(1258.7112, device='cuda:0', grad_fn=<MseLossBackward>)\n",
      "loss: tensor(1171.9862, device='cuda:0', grad_fn=<MseLossBackward>)\n",
      "loss: tensor(1198.6218, device='cuda:0', grad_fn=<MseLossBackward>)\n",
      "loss: tensor(1780.3186, device='cuda:0', grad_fn=<MseLossBackward>)\n",
      "loss: tensor(1461.4680, device='cuda:0', grad_fn=<MseLossBackward>)\n",
      "loss: tensor(2446.6606, device='cuda:0', grad_fn=<MseLossBackward>)\n",
      "loss: tensor(2201.3528, device='cuda:0', grad_fn=<MseLossBackward>)\n",
      "loss: tensor(2047.5334, device='cuda:0', grad_fn=<MseLossBackward>)\n",
      "loss: tensor(1994.2780, device='cuda:0', grad_fn=<MseLossBackward>)\n",
      "loss: tensor(1327.4053, device='cuda:0', grad_fn=<MseLossBackward>)\n",
      "loss: tensor(956.2839, device='cuda:0', grad_fn=<MseLossBackward>)\n",
      "loss: tensor(1518.7164, device='cuda:0', grad_fn=<MseLossBackward>)\n",
      "loss: tensor(1990.8547, device='cuda:0', grad_fn=<MseLossBackward>)\n",
      "loss: tensor(1441.6772, device='cuda:0', grad_fn=<MseLossBackward>)\n",
      "loss: tensor(933.8940, device='cuda:0', grad_fn=<MseLossBackward>)\n",
      "loss: tensor(1273.4635, device='cuda:0', grad_fn=<MseLossBackward>)\n",
      "loss: tensor(2079.1099, device='cuda:0', grad_fn=<MseLossBackward>)\n",
      "loss: tensor(1529.7819, device='cuda:0', grad_fn=<MseLossBackward>)\n",
      "loss: tensor(1221.5360, device='cuda:0', grad_fn=<MseLossBackward>)\n",
      "loss: tensor(1752.7065, device='cuda:0', grad_fn=<MseLossBackward>)\n"
     ]
    },
    {
     "name": "stderr",
     "output_type": "stream",
     "text": [
      " 70%|███████   | 35/50 [01:02<00:27,  1.84s/it]"
     ]
    },
    {
     "name": "stdout",
     "output_type": "stream",
     "text": [
      "epoch: 34 train_epoch_loss: 1632.71818359375 val_epoch_loss: 1560.9803059895833\n",
      "loss: tensor(1898.5623, device='cuda:0', grad_fn=<MseLossBackward>)\n",
      "loss: tensor(1629.6121, device='cuda:0', grad_fn=<MseLossBackward>)\n",
      "loss: tensor(2561.2686, device='cuda:0', grad_fn=<MseLossBackward>)\n",
      "loss: tensor(1269.3184, device='cuda:0', grad_fn=<MseLossBackward>)\n",
      "loss: tensor(1903.6729, device='cuda:0', grad_fn=<MseLossBackward>)\n",
      "loss: tensor(1226.2430, device='cuda:0', grad_fn=<MseLossBackward>)\n",
      "loss: tensor(1073.3777, device='cuda:0', grad_fn=<MseLossBackward>)\n",
      "loss: tensor(1173.1334, device='cuda:0', grad_fn=<MseLossBackward>)\n",
      "loss: tensor(1762.4846, device='cuda:0', grad_fn=<MseLossBackward>)\n",
      "loss: tensor(1500.4348, device='cuda:0', grad_fn=<MseLossBackward>)\n",
      "loss: tensor(2549.4292, device='cuda:0', grad_fn=<MseLossBackward>)\n",
      "loss: tensor(2190.9084, device='cuda:0', grad_fn=<MseLossBackward>)\n",
      "loss: tensor(2061.6401, device='cuda:0', grad_fn=<MseLossBackward>)\n",
      "loss: tensor(2070.8867, device='cuda:0', grad_fn=<MseLossBackward>)\n",
      "loss: tensor(1281.6782, device='cuda:0', grad_fn=<MseLossBackward>)\n",
      "loss: tensor(900.8383, device='cuda:0', grad_fn=<MseLossBackward>)\n",
      "loss: tensor(1491.3782, device='cuda:0', grad_fn=<MseLossBackward>)\n",
      "loss: tensor(2045.4349, device='cuda:0', grad_fn=<MseLossBackward>)\n",
      "loss: tensor(1403.6083, device='cuda:0', grad_fn=<MseLossBackward>)\n",
      "loss: tensor(932.8036, device='cuda:0', grad_fn=<MseLossBackward>)\n",
      "loss: tensor(1269.2881, device='cuda:0', grad_fn=<MseLossBackward>)\n",
      "loss: tensor(2120.7456, device='cuda:0', grad_fn=<MseLossBackward>)\n",
      "loss: tensor(1539.2073, device='cuda:0', grad_fn=<MseLossBackward>)\n",
      "loss: tensor(1218.9512, device='cuda:0', grad_fn=<MseLossBackward>)\n",
      "loss: tensor(1756.6307, device='cuda:0', grad_fn=<MseLossBackward>)\n"
     ]
    },
    {
     "name": "stderr",
     "output_type": "stream",
     "text": [
      " 72%|███████▏  | 36/50 [01:04<00:26,  1.86s/it]"
     ]
    },
    {
     "name": "stdout",
     "output_type": "stream",
     "text": [
      "epoch: 35 train_epoch_loss: 1633.2614624023438 val_epoch_loss: 1561.0626017252605\n",
      "loss: tensor(1899.6295, device='cuda:0', grad_fn=<MseLossBackward>)\n",
      "loss: tensor(1629.0862, device='cuda:0', grad_fn=<MseLossBackward>)\n",
      "loss: tensor(2546.3291, device='cuda:0', grad_fn=<MseLossBackward>)\n",
      "loss: tensor(1263.0277, device='cuda:0', grad_fn=<MseLossBackward>)\n",
      "loss: tensor(1890.3909, device='cuda:0', grad_fn=<MseLossBackward>)\n",
      "loss: tensor(1230.0684, device='cuda:0', grad_fn=<MseLossBackward>)\n",
      "loss: tensor(1118.2576, device='cuda:0', grad_fn=<MseLossBackward>)\n",
      "loss: tensor(1175.6238, device='cuda:0', grad_fn=<MseLossBackward>)\n",
      "loss: tensor(1762.0250, device='cuda:0', grad_fn=<MseLossBackward>)\n",
      "loss: tensor(1458.4458, device='cuda:0', grad_fn=<MseLossBackward>)\n",
      "loss: tensor(2454.5361, device='cuda:0', grad_fn=<MseLossBackward>)\n",
      "loss: tensor(2194.3369, device='cuda:0', grad_fn=<MseLossBackward>)\n",
      "loss: tensor(2045.3899, device='cuda:0', grad_fn=<MseLossBackward>)\n",
      "loss: tensor(1993.9460, device='cuda:0', grad_fn=<MseLossBackward>)\n",
      "loss: tensor(1336.7437, device='cuda:0', grad_fn=<MseLossBackward>)\n",
      "loss: tensor(975.1714, device='cuda:0', grad_fn=<MseLossBackward>)\n",
      "loss: tensor(1538.6995, device='cuda:0', grad_fn=<MseLossBackward>)\n",
      "loss: tensor(1988.4969, device='cuda:0', grad_fn=<MseLossBackward>)\n",
      "loss: tensor(1479.6814, device='cuda:0', grad_fn=<MseLossBackward>)\n",
      "loss: tensor(957.4024, device='cuda:0', grad_fn=<MseLossBackward>)\n",
      "loss: tensor(1302.0823, device='cuda:0', grad_fn=<MseLossBackward>)\n",
      "loss: tensor(2056.7905, device='cuda:0', grad_fn=<MseLossBackward>)\n",
      "loss: tensor(1540.3909, device='cuda:0', grad_fn=<MseLossBackward>)\n",
      "loss: tensor(1252.7240, device='cuda:0', grad_fn=<MseLossBackward>)\n",
      "loss: tensor(1754.2906, device='cuda:0', grad_fn=<MseLossBackward>)\n"
     ]
    },
    {
     "name": "stderr",
     "output_type": "stream",
     "text": [
      " 74%|███████▍  | 37/50 [01:06<00:24,  1.86s/it]"
     ]
    },
    {
     "name": "stdout",
     "output_type": "stream",
     "text": [
      "epoch: 36 train_epoch_loss: 1633.7426611328126 val_epoch_loss: 1571.6023356119792\n",
      "loss: tensor(1874.0052, device='cuda:0', grad_fn=<MseLossBackward>)\n",
      "loss: tensor(1644.3785, device='cuda:0', grad_fn=<MseLossBackward>)\n",
      "loss: tensor(2531.0483, device='cuda:0', grad_fn=<MseLossBackward>)\n",
      "loss: tensor(1267.7866, device='cuda:0', grad_fn=<MseLossBackward>)\n",
      "loss: tensor(1890.8723, device='cuda:0', grad_fn=<MseLossBackward>)\n",
      "loss: tensor(1233.3635, device='cuda:0', grad_fn=<MseLossBackward>)\n",
      "loss: tensor(1114.7075, device='cuda:0', grad_fn=<MseLossBackward>)\n",
      "loss: tensor(1170.6802, device='cuda:0', grad_fn=<MseLossBackward>)\n",
      "loss: tensor(1754.5474, device='cuda:0', grad_fn=<MseLossBackward>)\n",
      "loss: tensor(1466.3496, device='cuda:0', grad_fn=<MseLossBackward>)\n",
      "loss: tensor(2490.7085, device='cuda:0', grad_fn=<MseLossBackward>)\n",
      "loss: tensor(2179.4375, device='cuda:0', grad_fn=<MseLossBackward>)\n",
      "loss: tensor(2042.6572, device='cuda:0', grad_fn=<MseLossBackward>)\n",
      "loss: tensor(2035.7174, device='cuda:0', grad_fn=<MseLossBackward>)\n",
      "loss: tensor(1282.9777, device='cuda:0', grad_fn=<MseLossBackward>)\n",
      "loss: tensor(904.5430, device='cuda:0', grad_fn=<MseLossBackward>)\n",
      "loss: tensor(1490.0139, device='cuda:0', grad_fn=<MseLossBackward>)\n",
      "loss: tensor(2036.4907, device='cuda:0', grad_fn=<MseLossBackward>)\n",
      "loss: tensor(1404.0332, device='cuda:0', grad_fn=<MseLossBackward>)\n",
      "loss: tensor(933.9666, device='cuda:0', grad_fn=<MseLossBackward>)\n",
      "loss: tensor(1271.6373, device='cuda:0', grad_fn=<MseLossBackward>)\n",
      "loss: tensor(2141.1487, device='cuda:0', grad_fn=<MseLossBackward>)\n",
      "loss: tensor(1551.3364, device='cuda:0', grad_fn=<MseLossBackward>)\n",
      "loss: tensor(1223.1526, device='cuda:0', grad_fn=<MseLossBackward>)\n",
      "loss: tensor(1775.6964, device='cuda:0', grad_fn=<MseLossBackward>)\n",
      "epoch:"
     ]
    },
    {
     "name": "stderr",
     "output_type": "stream",
     "text": [
      " 76%|███████▌  | 38/50 [01:08<00:22,  1.87s/it]"
     ]
    },
    {
     "name": "stdout",
     "output_type": "stream",
     "text": [
      " 37 train_epoch_loss: 1628.4502563476562 val_epoch_loss: 1574.8792724609375\n",
      "loss: tensor(1934.6586, device='cuda:0', grad_fn=<MseLossBackward>)\n",
      "loss: tensor(1638.5859, device='cuda:0', grad_fn=<MseLossBackward>)\n",
      "loss: tensor(2586.0493, device='cuda:0', grad_fn=<MseLossBackward>)\n",
      "loss: tensor(1277.9594, device='cuda:0', grad_fn=<MseLossBackward>)\n",
      "loss: tensor(1911.0637, device='cuda:0', grad_fn=<MseLossBackward>)\n",
      "loss: tensor(1227.5150, device='cuda:0', grad_fn=<MseLossBackward>)\n",
      "loss: tensor(1074.0537, device='cuda:0', grad_fn=<MseLossBackward>)\n",
      "loss: tensor(1170.7543, device='cuda:0', grad_fn=<MseLossBackward>)\n",
      "loss: tensor(1757.1926, device='cuda:0', grad_fn=<MseLossBackward>)\n",
      "loss: tensor(1482.3855, device='cuda:0', grad_fn=<MseLossBackward>)\n",
      "loss: tensor(2510.6038, device='cuda:0', grad_fn=<MseLossBackward>)\n",
      "loss: tensor(2180.1062, device='cuda:0', grad_fn=<MseLossBackward>)\n",
      "loss: tensor(2041.7788, device='cuda:0', grad_fn=<MseLossBackward>)\n",
      "loss: tensor(2022.9595, device='cuda:0', grad_fn=<MseLossBackward>)\n",
      "loss: tensor(1291.0320, device='cuda:0', grad_fn=<MseLossBackward>)\n",
      "loss: tensor(921.3831, device='cuda:0', grad_fn=<MseLossBackward>)\n",
      "loss: tensor(1500.6338, device='cuda:0', grad_fn=<MseLossBackward>)\n",
      "loss: tensor(1996.8436, device='cuda:0', grad_fn=<MseLossBackward>)\n",
      "loss: tensor(1435.4025, device='cuda:0', grad_fn=<MseLossBackward>)\n",
      "loss: tensor(935.8721, device='cuda:0', grad_fn=<MseLossBackward>)\n",
      "loss: tensor(1280.8484, device='cuda:0', grad_fn=<MseLossBackward>)\n",
      "loss: tensor(2063.8574, device='cuda:0', grad_fn=<MseLossBackward>)\n",
      "loss: tensor(1533.9377, device='cuda:0', grad_fn=<MseLossBackward>)\n",
      "loss: tensor(1244.5280, device='cuda:0', grad_fn=<MseLossBackward>)\n",
      "loss: tensor(1753.6649, device='cuda:0', grad_fn=<MseLossBackward>)\n",
      "epoch:"
     ]
    },
    {
     "name": "stderr",
     "output_type": "stream",
     "text": [
      " 78%|███████▊  | 39/50 [01:10<00:20,  1.86s/it]"
     ]
    },
    {
     "name": "stdout",
     "output_type": "stream",
     "text": [
      " 38 train_epoch_loss: 1630.946787109375 val_epoch_loss: 1574.2449544270833\n",
      "loss: tensor(1873.8176, device='cuda:0', grad_fn=<MseLossBackward>)\n",
      "loss: tensor(1652.0864, device='cuda:0', grad_fn=<MseLossBackward>)\n",
      "loss: tensor(2530.3877, device='cuda:0', grad_fn=<MseLossBackward>)\n",
      "loss: tensor(1279.4617, device='cuda:0', grad_fn=<MseLossBackward>)\n",
      "loss: tensor(1900.9570, device='cuda:0', grad_fn=<MseLossBackward>)\n",
      "loss: tensor(1258.5562, device='cuda:0', grad_fn=<MseLossBackward>)\n",
      "loss: tensor(1169.6926, device='cuda:0', grad_fn=<MseLossBackward>)\n",
      "loss: tensor(1196.4497, device='cuda:0', grad_fn=<MseLossBackward>)\n",
      "loss: tensor(1777.5322, device='cuda:0', grad_fn=<MseLossBackward>)\n",
      "loss: tensor(1460.4495, device='cuda:0', grad_fn=<MseLossBackward>)\n",
      "loss: tensor(2448.4099, device='cuda:0', grad_fn=<MseLossBackward>)\n",
      "loss: tensor(2197.5879, device='cuda:0', grad_fn=<MseLossBackward>)\n",
      "loss: tensor(2044.7710, device='cuda:0', grad_fn=<MseLossBackward>)\n",
      "loss: tensor(1995.7319, device='cuda:0', grad_fn=<MseLossBackward>)\n",
      "loss: tensor(1319.8784, device='cuda:0', grad_fn=<MseLossBackward>)\n",
      "loss: tensor(947.2607, device='cuda:0', grad_fn=<MseLossBackward>)\n",
      "loss: tensor(1512.5090, device='cuda:0', grad_fn=<MseLossBackward>)\n",
      "loss: tensor(1993.2024, device='cuda:0', grad_fn=<MseLossBackward>)\n",
      "loss: tensor(1433.8525, device='cuda:0', grad_fn=<MseLossBackward>)\n",
      "loss: tensor(931.3130, device='cuda:0', grad_fn=<MseLossBackward>)\n",
      "loss: tensor(1270.8190, device='cuda:0', grad_fn=<MseLossBackward>)\n",
      "loss: tensor(2084.9424, device='cuda:0', grad_fn=<MseLossBackward>)\n",
      "loss: tensor(1530.8108, device='cuda:0', grad_fn=<MseLossBackward>)\n",
      "loss: tensor(1220.2053, device='cuda:0', grad_fn=<MseLossBackward>)\n",
      "loss: tensor(1754.8444, device='cuda:0', grad_fn=<MseLossBackward>)\n"
     ]
    },
    {
     "name": "stderr",
     "output_type": "stream",
     "text": [
      " 80%|████████  | 40/50 [01:12<00:18,  1.87s/it]"
     ]
    },
    {
     "name": "stdout",
     "output_type": "stream",
     "text": [
      "epoch: 39 train_epoch_loss: 1631.421171875 val_epoch_loss: 1562.032694498698\n",
      "loss: tensor(1902.9203, device='cuda:0', grad_fn=<MseLossBackward>)\n",
      "loss: tensor(1630.2742, device='cuda:0', grad_fn=<MseLossBackward>)\n",
      "loss: tensor(2565.1870, device='cuda:0', grad_fn=<MseLossBackward>)\n",
      "loss: tensor(1270.6249, device='cuda:0', grad_fn=<MseLossBackward>)\n",
      "loss: tensor(1905.2906, device='cuda:0', grad_fn=<MseLossBackward>)\n",
      "loss: tensor(1226.8601, device='cuda:0', grad_fn=<MseLossBackward>)\n",
      "loss: tensor(1072.8699, device='cuda:0', grad_fn=<MseLossBackward>)\n",
      "loss: tensor(1173.7004, device='cuda:0', grad_fn=<MseLossBackward>)\n",
      "loss: tensor(1762.7294, device='cuda:0', grad_fn=<MseLossBackward>)\n",
      "loss: tensor(1500.5129, device='cuda:0', grad_fn=<MseLossBackward>)\n",
      "loss: tensor(2548.0176, device='cuda:0', grad_fn=<MseLossBackward>)\n",
      "loss: tensor(2190.7808, device='cuda:0', grad_fn=<MseLossBackward>)\n",
      "loss: tensor(2060.8169, device='cuda:0', grad_fn=<MseLossBackward>)\n",
      "loss: tensor(2068.1235, device='cuda:0', grad_fn=<MseLossBackward>)\n",
      "loss: tensor(1281.5464, device='cuda:0', grad_fn=<MseLossBackward>)\n",
      "loss: tensor(900.9811, device='cuda:0', grad_fn=<MseLossBackward>)\n",
      "loss: tensor(1490.9974, device='cuda:0', grad_fn=<MseLossBackward>)\n",
      "loss: tensor(2042.8221, device='cuda:0', grad_fn=<MseLossBackward>)\n",
      "loss: tensor(1404.1008, device='cuda:0', grad_fn=<MseLossBackward>)\n",
      "loss: tensor(931.6796, device='cuda:0', grad_fn=<MseLossBackward>)\n",
      "loss: tensor(1268.6089, device='cuda:0', grad_fn=<MseLossBackward>)\n",
      "loss: tensor(2117.5139, device='cuda:0', grad_fn=<MseLossBackward>)\n",
      "loss: tensor(1537.6072, device='cuda:0', grad_fn=<MseLossBackward>)\n",
      "loss: tensor(1218.9625, device='cuda:0', grad_fn=<MseLossBackward>)\n",
      "loss: tensor(1755.3838, device='cuda:0', grad_fn=<MseLossBackward>)\n"
     ]
    },
    {
     "name": "stderr",
     "output_type": "stream",
     "text": [
      " 82%|████████▏ | 41/50 [01:14<00:16,  1.87s/it]"
     ]
    },
    {
     "name": "stdout",
     "output_type": "stream",
     "text": [
      "epoch: 40 train_epoch_loss: 1633.1564892578126 val_epoch_loss: 1560.5915934244792\n",
      "loss: tensor(1896.6824, device='cuda:0', grad_fn=<MseLossBackward>)\n",
      "loss: tensor(1629.1438, device='cuda:0', grad_fn=<MseLossBackward>)\n",
      "loss: tensor(2544.9058, device='cuda:0', grad_fn=<MseLossBackward>)\n",
      "loss: tensor(1263.0042, device='cuda:0', grad_fn=<MseLossBackward>)\n",
      "loss: tensor(1890.2145, device='cuda:0', grad_fn=<MseLossBackward>)\n",
      "loss: tensor(1230.7849, device='cuda:0', grad_fn=<MseLossBackward>)\n",
      "loss: tensor(1119.5647, device='cuda:0', grad_fn=<MseLossBackward>)\n",
      "loss: tensor(1175.9108, device='cuda:0', grad_fn=<MseLossBackward>)\n",
      "loss: tensor(1762.1332, device='cuda:0', grad_fn=<MseLossBackward>)\n",
      "loss: tensor(1458.4124, device='cuda:0', grad_fn=<MseLossBackward>)\n",
      "loss: tensor(2454.2524, device='cuda:0', grad_fn=<MseLossBackward>)\n",
      "loss: tensor(2194.1628, device='cuda:0', grad_fn=<MseLossBackward>)\n",
      "loss: tensor(2045.1969, device='cuda:0', grad_fn=<MseLossBackward>)\n",
      "loss: tensor(1994.0991, device='cuda:0', grad_fn=<MseLossBackward>)\n",
      "loss: tensor(1335.0820, device='cuda:0', grad_fn=<MseLossBackward>)\n",
      "loss: tensor(973.1663, device='cuda:0', grad_fn=<MseLossBackward>)\n",
      "loss: tensor(1537.7102, device='cuda:0', grad_fn=<MseLossBackward>)\n",
      "loss: tensor(1988.3969, device='cuda:0', grad_fn=<MseLossBackward>)\n",
      "loss: tensor(1477.5542, device='cuda:0', grad_fn=<MseLossBackward>)\n",
      "loss: tensor(956.2175, device='cuda:0', grad_fn=<MseLossBackward>)\n",
      "loss: tensor(1300.5148, device='cuda:0', grad_fn=<MseLossBackward>)\n",
      "loss: tensor(2056.9539, device='cuda:0', grad_fn=<MseLossBackward>)\n",
      "loss: tensor(1540.0833, device='cuda:0', grad_fn=<MseLossBackward>)\n",
      "loss: tensor(1252.1302, device='cuda:0', grad_fn=<MseLossBackward>)\n",
      "loss: tensor(1754.3149, device='cuda:0', grad_fn=<MseLossBackward>)\n",
      "epoch:"
     ]
    },
    {
     "name": "stderr",
     "output_type": "stream",
     "text": [
      " 84%|████████▍ | 42/50 [01:15<00:14,  1.87s/it]"
     ]
    },
    {
     "name": "stdout",
     "output_type": "stream",
     "text": [
      " 41 train_epoch_loss: 1633.2236791992189 val_epoch_loss: 1571.5272216796875\n",
      "loss: tensor(1873.9982, device='cuda:0', grad_fn=<MseLossBackward>)\n",
      "loss: tensor(1644.4158, device='cuda:0', grad_fn=<MseLossBackward>)\n",
      "loss: tensor(2530.9380, device='cuda:0', grad_fn=<MseLossBackward>)\n",
      "loss: tensor(1267.9893, device='cuda:0', grad_fn=<MseLossBackward>)\n",
      "loss: tensor(1891.0668, device='cuda:0', grad_fn=<MseLossBackward>)\n",
      "loss: tensor(1234.3975, device='cuda:0', grad_fn=<MseLossBackward>)\n",
      "loss: tensor(1117.2229, device='cuda:0', grad_fn=<MseLossBackward>)\n",
      "loss: tensor(1171.2363, device='cuda:0', grad_fn=<MseLossBackward>)\n",
      "loss: tensor(1754.9814, device='cuda:0', grad_fn=<MseLossBackward>)\n",
      "loss: tensor(1464.8738, device='cuda:0', grad_fn=<MseLossBackward>)\n",
      "loss: tensor(2487.3127, device='cuda:0', grad_fn=<MseLossBackward>)\n",
      "loss: tensor(2179.3337, device='cuda:0', grad_fn=<MseLossBackward>)\n",
      "loss: tensor(2041.5920, device='cuda:0', grad_fn=<MseLossBackward>)\n",
      "loss: tensor(2032.1143, device='cuda:0', grad_fn=<MseLossBackward>)\n",
      "loss: tensor(1283.6672, device='cuda:0', grad_fn=<MseLossBackward>)\n",
      "loss: tensor(905.6434, device='cuda:0', grad_fn=<MseLossBackward>)\n",
      "loss: tensor(1490.0222, device='cuda:0', grad_fn=<MseLossBackward>)\n",
      "loss: tensor(2032.6333, device='cuda:0', grad_fn=<MseLossBackward>)\n",
      "loss: tensor(1404.6133, device='cuda:0', grad_fn=<MseLossBackward>)\n",
      "loss: tensor(932.5779, device='cuda:0', grad_fn=<MseLossBackward>)\n",
      "loss: tensor(1270.7194, device='cuda:0', grad_fn=<MseLossBackward>)\n",
      "loss: tensor(2136.7966, device='cuda:0', grad_fn=<MseLossBackward>)\n",
      "loss: tensor(1549.4745, device='cuda:0', grad_fn=<MseLossBackward>)\n",
      "loss: tensor(1222.3840, device='cuda:0', grad_fn=<MseLossBackward>)\n",
      "loss: tensor(1774.4172, device='cuda:0', grad_fn=<MseLossBackward>)\n"
     ]
    },
    {
     "name": "stderr",
     "output_type": "stream",
     "text": [
      " 86%|████████▌ | 43/50 [01:17<00:13,  1.88s/it]"
     ]
    },
    {
     "name": "stdout",
     "output_type": "stream",
     "text": [
      "epoch: 42 train_epoch_loss: 1627.7768725585938 val_epoch_loss: 1574.1944783528645\n",
      "loss: tensor(1933.0706, device='cuda:0', grad_fn=<MseLossBackward>)\n",
      "loss: tensor(1638.3379, device='cuda:0', grad_fn=<MseLossBackward>)\n",
      "loss: tensor(2585.2146, device='cuda:0', grad_fn=<MseLossBackward>)\n",
      "loss: tensor(1278.4958, device='cuda:0', grad_fn=<MseLossBackward>)\n",
      "loss: tensor(1911.8547, device='cuda:0', grad_fn=<MseLossBackward>)\n",
      "loss: tensor(1228.1046, device='cuda:0', grad_fn=<MseLossBackward>)\n",
      "loss: tensor(1073.1661, device='cuda:0', grad_fn=<MseLossBackward>)\n",
      "loss: tensor(1171.5088, device='cuda:0', grad_fn=<MseLossBackward>)\n",
      "loss: tensor(1758.1150, device='cuda:0', grad_fn=<MseLossBackward>)\n",
      "loss: tensor(1485.3964, device='cuda:0', grad_fn=<MseLossBackward>)\n",
      "loss: tensor(2516.5129, device='cuda:0', grad_fn=<MseLossBackward>)\n",
      "loss: tensor(2181.0996, device='cuda:0', grad_fn=<MseLossBackward>)\n",
      "loss: tensor(2043.7244, device='cuda:0', grad_fn=<MseLossBackward>)\n",
      "loss: tensor(2028.8464, device='cuda:0', grad_fn=<MseLossBackward>)\n",
      "loss: tensor(1287.7800, device='cuda:0', grad_fn=<MseLossBackward>)\n",
      "loss: tensor(916.1390, device='cuda:0', grad_fn=<MseLossBackward>)\n",
      "loss: tensor(1496.8234, device='cuda:0', grad_fn=<MseLossBackward>)\n",
      "loss: tensor(2001.0729, device='cuda:0', grad_fn=<MseLossBackward>)\n",
      "loss: tensor(1428.2036, device='cuda:0', grad_fn=<MseLossBackward>)\n",
      "loss: tensor(932.2944, device='cuda:0', grad_fn=<MseLossBackward>)\n",
      "loss: tensor(1276.3306, device='cuda:0', grad_fn=<MseLossBackward>)\n",
      "loss: tensor(2068.1821, device='cuda:0', grad_fn=<MseLossBackward>)\n",
      "loss: tensor(1531.4133, device='cuda:0', grad_fn=<MseLossBackward>)\n",
      "loss: tensor(1239.7566, device='cuda:0', grad_fn=<MseLossBackward>)\n",
      "loss: tensor(1751.3938, device='cuda:0', grad_fn=<MseLossBackward>)\n"
     ]
    },
    {
     "name": "stderr",
     "output_type": "stream",
     "text": [
      " 88%|████████▊ | 44/50 [01:19<00:11,  1.89s/it]"
     ]
    },
    {
     "name": "stdout",
     "output_type": "stream",
     "text": [
      "epoch: 43 train_epoch_loss: 1630.5135009765625 val_epoch_loss: 1570.5489705403645\n",
      "loss: tensor(1874.2577, device='cuda:0', grad_fn=<MseLossBackward>)\n",
      "loss: tensor(1647.8477, device='cuda:0', grad_fn=<MseLossBackward>)\n",
      "loss: tensor(2530.1826, device='cuda:0', grad_fn=<MseLossBackward>)\n",
      "loss: tensor(1276.6056, device='cuda:0', grad_fn=<MseLossBackward>)\n",
      "loss: tensor(1899.1210, device='cuda:0', grad_fn=<MseLossBackward>)\n",
      "loss: tensor(1256.5339, device='cuda:0', grad_fn=<MseLossBackward>)\n",
      "loss: tensor(1167.3770, device='cuda:0', grad_fn=<MseLossBackward>)\n",
      "loss: tensor(1196.2839, device='cuda:0', grad_fn=<MseLossBackward>)\n",
      "loss: tensor(1778.3492, device='cuda:0', grad_fn=<MseLossBackward>)\n",
      "loss: tensor(1460.8425, device='cuda:0', grad_fn=<MseLossBackward>)\n",
      "loss: tensor(2447.4646, device='cuda:0', grad_fn=<MseLossBackward>)\n",
      "loss: tensor(2200.2896, device='cuda:0', grad_fn=<MseLossBackward>)\n",
      "loss: tensor(2046.9744, device='cuda:0', grad_fn=<MseLossBackward>)\n",
      "loss: tensor(1994.3914, device='cuda:0', grad_fn=<MseLossBackward>)\n",
      "loss: tensor(1327.0664, device='cuda:0', grad_fn=<MseLossBackward>)\n",
      "loss: tensor(956.7050, device='cuda:0', grad_fn=<MseLossBackward>)\n",
      "loss: tensor(1519.7609, device='cuda:0', grad_fn=<MseLossBackward>)\n",
      "loss: tensor(1990.3071, device='cuda:0', grad_fn=<MseLossBackward>)\n",
      "loss: tensor(1444.3038, device='cuda:0', grad_fn=<MseLossBackward>)\n",
      "loss: tensor(935.5173, device='cuda:0', grad_fn=<MseLossBackward>)\n",
      "loss: tensor(1275.4857, device='cuda:0', grad_fn=<MseLossBackward>)\n",
      "loss: tensor(2075.0928, device='cuda:0', grad_fn=<MseLossBackward>)\n",
      "loss: tensor(1529.4053, device='cuda:0', grad_fn=<MseLossBackward>)\n",
      "loss: tensor(1223.5294, device='cuda:0', grad_fn=<MseLossBackward>)\n",
      "loss: tensor(1750.7719, device='cuda:0', grad_fn=<MseLossBackward>)\n",
      "epoch:"
     ]
    },
    {
     "name": "stderr",
     "output_type": "stream",
     "text": [
      " 90%|█████████ | 45/50 [01:21<00:09,  1.88s/it]"
     ]
    },
    {
     "name": "stdout",
     "output_type": "stream",
     "text": [
      " 44 train_epoch_loss: 1632.178662109375 val_epoch_loss: 1560.0458374023438\n",
      "loss: tensor(1893.5010, device='cuda:0', grad_fn=<MseLossBackward>)\n",
      "loss: tensor(1629.0754, device='cuda:0', grad_fn=<MseLossBackward>)\n",
      "loss: tensor(2554.6091, device='cuda:0', grad_fn=<MseLossBackward>)\n",
      "loss: tensor(1266.3983, device='cuda:0', grad_fn=<MseLossBackward>)\n",
      "loss: tensor(1899.3862, device='cuda:0', grad_fn=<MseLossBackward>)\n",
      "loss: tensor(1224.8398, device='cuda:0', grad_fn=<MseLossBackward>)\n",
      "loss: tensor(1076.9971, device='cuda:0', grad_fn=<MseLossBackward>)\n",
      "loss: tensor(1170.7734, device='cuda:0', grad_fn=<MseLossBackward>)\n",
      "loss: tensor(1759.4595, device='cuda:0', grad_fn=<MseLossBackward>)\n",
      "loss: tensor(1494.1582, device='cuda:0', grad_fn=<MseLossBackward>)\n",
      "loss: tensor(2539.7947, device='cuda:0', grad_fn=<MseLossBackward>)\n",
      "loss: tensor(2188.5913, device='cuda:0', grad_fn=<MseLossBackward>)\n",
      "loss: tensor(2058.6636, device='cuda:0', grad_fn=<MseLossBackward>)\n",
      "loss: tensor(2066.1787, device='cuda:0', grad_fn=<MseLossBackward>)\n",
      "loss: tensor(1281.5027, device='cuda:0', grad_fn=<MseLossBackward>)\n",
      "loss: tensor(900.9603, device='cuda:0', grad_fn=<MseLossBackward>)\n",
      "loss: tensor(1491.3245, device='cuda:0', grad_fn=<MseLossBackward>)\n",
      "loss: tensor(2047.0747, device='cuda:0', grad_fn=<MseLossBackward>)\n",
      "loss: tensor(1403.3636, device='cuda:0', grad_fn=<MseLossBackward>)\n",
      "loss: tensor(934.0240, device='cuda:0', grad_fn=<MseLossBackward>)\n",
      "loss: tensor(1270.3785, device='cuda:0', grad_fn=<MseLossBackward>)\n",
      "loss: tensor(2129.6809, device='cuda:0', grad_fn=<MseLossBackward>)\n",
      "loss: tensor(1543.2095, device='cuda:0', grad_fn=<MseLossBackward>)\n",
      "loss: tensor(1219.4698, device='cuda:0', grad_fn=<MseLossBackward>)\n",
      "loss: tensor(1762.1848, device='cuda:0', grad_fn=<MseLossBackward>)\n"
     ]
    },
    {
     "name": "stderr",
     "output_type": "stream",
     "text": [
      " 92%|█████████▏| 46/50 [01:23<00:07,  1.90s/it]"
     ]
    },
    {
     "name": "stdout",
     "output_type": "stream",
     "text": [
      "epoch: 45 train_epoch_loss: 1632.2239916992187 val_epoch_loss: 1564.0142618815105\n",
      "loss: tensor(1909.0602, device='cuda:0', grad_fn=<MseLossBackward>)\n",
      "loss: tensor(1629.9030, device='cuda:0', grad_fn=<MseLossBackward>)\n",
      "loss: tensor(2556.0317, device='cuda:0', grad_fn=<MseLossBackward>)\n",
      "loss: tensor(1264.6763, device='cuda:0', grad_fn=<MseLossBackward>)\n",
      "loss: tensor(1893.2520, device='cuda:0', grad_fn=<MseLossBackward>)\n",
      "loss: tensor(1225.4265, device='cuda:0', grad_fn=<MseLossBackward>)\n",
      "loss: tensor(1100.7673, device='cuda:0', grad_fn=<MseLossBackward>)\n",
      "loss: tensor(1169.5437, device='cuda:0', grad_fn=<MseLossBackward>)\n",
      "loss: tensor(1755.7782, device='cuda:0', grad_fn=<MseLossBackward>)\n",
      "loss: tensor(1460.6161, device='cuda:0', grad_fn=<MseLossBackward>)\n",
      "loss: tensor(2465.2480, device='cuda:0', grad_fn=<MseLossBackward>)\n",
      "loss: tensor(2185.7988, device='cuda:0', grad_fn=<MseLossBackward>)\n",
      "loss: tensor(2040.1089, device='cuda:0', grad_fn=<MseLossBackward>)\n",
      "loss: tensor(1997.7313, device='cuda:0', grad_fn=<MseLossBackward>)\n",
      "loss: tensor(1321.4159, device='cuda:0', grad_fn=<MseLossBackward>)\n",
      "loss: tensor(958.6380, device='cuda:0', grad_fn=<MseLossBackward>)\n",
      "loss: tensor(1527.3763, device='cuda:0', grad_fn=<MseLossBackward>)\n",
      "loss: tensor(1988.3066, device='cuda:0', grad_fn=<MseLossBackward>)\n",
      "loss: tensor(1469.8038, device='cuda:0', grad_fn=<MseLossBackward>)\n",
      "loss: tensor(953.0502, device='cuda:0', grad_fn=<MseLossBackward>)\n",
      "loss: tensor(1298.7739, device='cuda:0', grad_fn=<MseLossBackward>)\n",
      "loss: tensor(2057.0085, device='cuda:0', grad_fn=<MseLossBackward>)\n",
      "loss: tensor(1541.1143, device='cuda:0', grad_fn=<MseLossBackward>)\n",
      "loss: tensor(1256.3057, device='cuda:0', grad_fn=<MseLossBackward>)\n",
      "loss: tensor(1757.0090, device='cuda:0', grad_fn=<MseLossBackward>)\n"
     ]
    },
    {
     "name": "stderr",
     "output_type": "stream",
     "text": [
      " 94%|█████████▍| 47/50 [01:25<00:05,  1.89s/it]"
     ]
    },
    {
     "name": "stdout",
     "output_type": "stream",
     "text": [
      "epoch: 46 train_epoch_loss: 1631.3097729492188 val_epoch_loss: 1576.907694498698\n",
      "loss: tensor(1873.8392, device='cuda:0', grad_fn=<MseLossBackward>)\n",
      "loss: tensor(1652.0833, device='cuda:0', grad_fn=<MseLossBackward>)\n",
      "loss: tensor(2530.1980, device='cuda:0', grad_fn=<MseLossBackward>)\n",
      "loss: tensor(1274.4934, device='cuda:0', grad_fn=<MseLossBackward>)\n",
      "loss: tensor(1895.3994, device='cuda:0', grad_fn=<MseLossBackward>)\n",
      "loss: tensor(1245.3794, device='cuda:0', grad_fn=<MseLossBackward>)\n",
      "loss: tensor(1139.9856, device='cuda:0', grad_fn=<MseLossBackward>)\n",
      "loss: tensor(1180.0293, device='cuda:0', grad_fn=<MseLossBackward>)\n",
      "loss: tensor(1761.6077, device='cuda:0', grad_fn=<MseLossBackward>)\n",
      "loss: tensor(1459.1807, device='cuda:0', grad_fn=<MseLossBackward>)\n",
      "loss: tensor(2466.7122, device='cuda:0', grad_fn=<MseLossBackward>)\n",
      "loss: tensor(2182.0127, device='cuda:0', grad_fn=<MseLossBackward>)\n",
      "loss: tensor(2037.9897, device='cuda:0', grad_fn=<MseLossBackward>)\n",
      "loss: tensor(2013.2311, device='cuda:0', grad_fn=<MseLossBackward>)\n",
      "loss: tensor(1292.3445, device='cuda:0', grad_fn=<MseLossBackward>)\n",
      "loss: tensor(916.0558, device='cuda:0', grad_fn=<MseLossBackward>)\n",
      "loss: tensor(1493.2419, device='cuda:0', grad_fn=<MseLossBackward>)\n",
      "loss: tensor(2014.6292, device='cuda:0', grad_fn=<MseLossBackward>)\n",
      "loss: tensor(1410.6416, device='cuda:0', grad_fn=<MseLossBackward>)\n",
      "loss: tensor(928.4938, device='cuda:0', grad_fn=<MseLossBackward>)\n",
      "loss: tensor(1267.4625, device='cuda:0', grad_fn=<MseLossBackward>)\n",
      "loss: tensor(2117.2974, device='cuda:0', grad_fn=<MseLossBackward>)\n",
      "loss: tensor(1541.3677, device='cuda:0', grad_fn=<MseLossBackward>)\n",
      "loss: tensor(1219.9333, device='cuda:0', grad_fn=<MseLossBackward>)\n",
      "loss: tensor(1767.9642, device='cuda:0', grad_fn=<MseLossBackward>)\n"
     ]
    },
    {
     "name": "stderr",
     "output_type": "stream",
     "text": [
      " 96%|█████████▌| 48/50 [01:27<00:03,  1.83s/it]"
     ]
    },
    {
     "name": "stdout",
     "output_type": "stream",
     "text": [
      "epoch: 47 train_epoch_loss: 1627.2629418945312 val_epoch_loss: 1570.2130940755208\n",
      "loss: tensor(1924.8914, device='cuda:0', grad_fn=<MseLossBackward>)\n",
      "loss: tensor(1635.9480, device='cuda:0', grad_fn=<MseLossBackward>)\n",
      "loss: tensor(2582.3267, device='cuda:0', grad_fn=<MseLossBackward>)\n",
      "loss: tensor(1278.0464, device='cuda:0', grad_fn=<MseLossBackward>)\n",
      "loss: tensor(1913.3120, device='cuda:0', grad_fn=<MseLossBackward>)\n",
      "loss: tensor(1229.3214, device='cuda:0', grad_fn=<MseLossBackward>)\n",
      "loss: tensor(1070.9329, device='cuda:0', grad_fn=<MseLossBackward>)\n",
      "loss: tensor(1174.5895, device='cuda:0', grad_fn=<MseLossBackward>)\n",
      "loss: tensor(1762.2479, device='cuda:0', grad_fn=<MseLossBackward>)\n",
      "loss: tensor(1496.7656, device='cuda:0', grad_fn=<MseLossBackward>)\n",
      "loss: tensor(2537.9282, device='cuda:0', grad_fn=<MseLossBackward>)\n",
      "loss: tensor(2186.2422, device='cuda:0', grad_fn=<MseLossBackward>)\n",
      "loss: tensor(2052.8713, device='cuda:0', grad_fn=<MseLossBackward>)\n",
      "loss: tensor(2049.6660, device='cuda:0', grad_fn=<MseLossBackward>)\n",
      "loss: tensor(1281.9585, device='cuda:0', grad_fn=<MseLossBackward>)\n",
      "loss: tensor(905.1280, device='cuda:0', grad_fn=<MseLossBackward>)\n",
      "loss: tensor(1490.4431, device='cuda:0', grad_fn=<MseLossBackward>)\n",
      "loss: tensor(2019.8033, device='cuda:0', grad_fn=<MseLossBackward>)\n",
      "loss: tensor(1411.8008, device='cuda:0', grad_fn=<MseLossBackward>)\n",
      "loss: tensor(927.7452, device='cuda:0', grad_fn=<MseLossBackward>)\n",
      "loss: tensor(1267.7954, device='cuda:0', grad_fn=<MseLossBackward>)\n",
      "loss: tensor(2088.1846, device='cuda:0', grad_fn=<MseLossBackward>)\n",
      "loss: tensor(1529.8127, device='cuda:0', grad_fn=<MseLossBackward>)\n",
      "loss: tensor(1224.7953, device='cuda:0', grad_fn=<MseLossBackward>)\n",
      "loss: tensor(1748.8384, device='cuda:0', grad_fn=<MseLossBackward>)\n"
     ]
    },
    {
     "name": "stderr",
     "output_type": "stream",
     "text": [
      " 98%|█████████▊| 49/50 [01:28<00:01,  1.78s/it]"
     ]
    },
    {
     "name": "stdout",
     "output_type": "stream",
     "text": [
      "epoch: 48 train_epoch_loss: 1631.655791015625 val_epoch_loss: 1561.5263264973958\n",
      "loss: tensor(1880.3566, device='cuda:0', grad_fn=<MseLossBackward>)\n",
      "loss: tensor(1635.2605, device='cuda:0', grad_fn=<MseLossBackward>)\n",
      "loss: tensor(2532.9041, device='cuda:0', grad_fn=<MseLossBackward>)\n",
      "loss: tensor(1267.3762, device='cuda:0', grad_fn=<MseLossBackward>)\n",
      "loss: tensor(1892.4847, device='cuda:0', grad_fn=<MseLossBackward>)\n",
      "loss: tensor(1243.4189, device='cuda:0', grad_fn=<MseLossBackward>)\n",
      "loss: tensor(1146.2100, device='cuda:0', grad_fn=<MseLossBackward>)\n",
      "loss: tensor(1187.3929, device='cuda:0', grad_fn=<MseLossBackward>)\n",
      "loss: tensor(1772.0139, device='cuda:0', grad_fn=<MseLossBackward>)\n",
      "loss: tensor(1459.7072, device='cuda:0', grad_fn=<MseLossBackward>)\n",
      "loss: tensor(2448.2393, device='cuda:0', grad_fn=<MseLossBackward>)\n",
      "loss: tensor(2201.0779, device='cuda:0', grad_fn=<MseLossBackward>)\n",
      "loss: tensor(2049.2673, device='cuda:0', grad_fn=<MseLossBackward>)\n",
      "loss: tensor(1993.4358, device='cuda:0', grad_fn=<MseLossBackward>)\n",
      "loss: tensor(1338.2402, device='cuda:0', grad_fn=<MseLossBackward>)\n",
      "loss: tensor(973.2722, device='cuda:0', grad_fn=<MseLossBackward>)\n",
      "loss: tensor(1534.9412, device='cuda:0', grad_fn=<MseLossBackward>)\n",
      "loss: tensor(1988.2485, device='cuda:0', grad_fn=<MseLossBackward>)\n",
      "loss: tensor(1467.6940, device='cuda:0', grad_fn=<MseLossBackward>)\n",
      "loss: tensor(948.9449, device='cuda:0', grad_fn=<MseLossBackward>)\n",
      "loss: tensor(1290.5150, device='cuda:0', grad_fn=<MseLossBackward>)\n",
      "loss: tensor(2060.7844, device='cuda:0', grad_fn=<MseLossBackward>)\n",
      "loss: tensor(1533.4258, device='cuda:0', grad_fn=<MseLossBackward>)\n",
      "loss: tensor(1238.6439, device='cuda:0', grad_fn=<MseLossBackward>)\n",
      "loss: tensor(1749.5958, device='cuda:0', grad_fn=<MseLossBackward>)\n"
     ]
    },
    {
     "name": "stderr",
     "output_type": "stream",
     "text": [
      "100%|██████████| 50/50 [01:30<00:00,  1.81s/it]"
     ]
    },
    {
     "name": "stdout",
     "output_type": "stream",
     "text": [
      "epoch: 49 train_epoch_loss: 1633.3380493164063 val_epoch_loss: 1563.4922892252605\n"
     ]
    },
    {
     "name": "stderr",
     "output_type": "stream",
     "text": [
      "\n"
     ]
    }
   ],
   "source": [
    "val_loss = []\n",
    "train_loss = []\n",
    "best_test_loss = 10000000\n",
    "for epoch in tqdm(range(epochs)):\n",
    "    train_epoch_loss = []\n",
    "    for index, (inputs, targets) in enumerate(TrainDataLoader):\n",
    "        inputs = torch.tensor(inputs).to(device)\n",
    "        targets = torch.tensor(targets).to(device)\n",
    "        inputs = inputs.float().to(device)\n",
    "        targets = targets.float().to(device)\n",
    "        tgt_in = torch.ones((Batch_Size, sqe_len, len_int)).to(device)  # 输入数据的维度是[batch,序列长度，每个单元的维度]\n",
    "\n",
    "        outputs = model(inputs, tgt_in).to(device)\n",
    "\n",
    "        loss = criterion(outputs.float(), targets.float())\n",
    "        print(\"loss:\", loss)\n",
    "\n",
    "        loss.backward()\n",
    "        optimizer.step()\n",
    "\n",
    "        train_epoch_loss.append(loss.item())\n",
    "    train_loss.append(np.mean(train_epoch_loss))\n",
    "    val_epoch_loss = test_main(model)\n",
    "    val_loss.append(val_epoch_loss)\n",
    "    print(\"epoch:\", epoch, \"train_epoch_loss:\", np.mean(train_epoch_loss), \"val_epoch_loss:\", val_epoch_loss)\n",
    "    # 保存下来最好的模型：\n",
    "    if val_epoch_loss < best_test_loss:\n",
    "        best_test_loss = val_epoch_loss\n",
    "        best_model = model\n",
    "        print(\"best_test_loss -------------------------------------------------\", best_test_loss)\n",
    "        torch.save(best_model.state_dict(), 'best_Transformer_trainModel.pth')"
   ],
   "metadata": {
    "collapsed": false,
    "ExecuteTime": {
     "end_time": "2024-10-31T03:08:00.014687700Z",
     "start_time": "2024-10-31T03:06:29.573642500Z"
    }
   }
  },
  {
   "cell_type": "code",
   "execution_count": 36,
   "outputs": [
    {
     "data": {
      "text/plain": "<Figure size 720x504 with 1 Axes>",
      "image/png": "[encoded data removed]"
     },
     "metadata": {},
     "output_type": "display_data"
    }
   ],
   "source": [
    "# loss图\n",
    "fig = plt.figure(facecolor='white', figsize=(10, 7))\n",
    "plt.xlabel('X')\n",
    "plt.ylabel('Y')\n",
    "plt.xlim(xmax=len(val_loss), xmin=0)\n",
    "plt.ylim(ymax=max(max(train_loss), max(val_loss)), ymin=0)\n",
    "# 画两条（0-9）的坐标轴并设置轴标签x，y\n",
    "x1 = [i for i in range(0, len(train_loss), 1)]  # 随机产生300个平均值为2，方差为1.2的浮点数，即第一簇点的x轴坐标\n",
    "y1 = val_loss  # 随机产生300个平均值为2，方差为1.2的浮点数，即第一簇点的y轴坐标\n",
    "x2 = [i for i in range(0, len(train_loss), 1)]\n",
    "y2 = train_loss\n",
    "colors1 = '#00CED4'  # 点的颜色\n",
    "colors2 = '#DC143C'\n",
    "area = np.pi * 4 ** 1  # 点面积\n",
    "# 画散点图\n",
    "plt.scatter(x1, y1, s=area, c=colors1, alpha=0.4, label='val_loss')\n",
    "plt.scatter(x2, y2, s=area, c=colors2, alpha=0.4, label='train_loss')\n",
    "plt.legend()\n",
    "plt.savefig(\"loss图.png\")\n",
    "plt.show()\n"
   ],
   "metadata": {
    "collapsed": false,
    "ExecuteTime": {
     "end_time": "2024-10-31T03:08:27.619071100Z",
     "start_time": "2024-10-31T03:08:27.137957500Z"
    }
   }
  },
  {
   "cell_type": "code",
   "execution_count": 39,
   "outputs": [
    {
     "name": "stdout",
     "output_type": "stream",
     "text": [
      "(1536,)\n",
      "(1536,)\n",
      "mean_squared_error: 0.19700644759388183\n",
      "mean_absolute_error: 0.009701206676487948\n"
     ]
    },
    {
     "data": {
      "text/plain": "<Figure size 432x288 with 1 Axes>",
      "image/png": "[encoded data removed]"
     },
     "metadata": {},
     "output_type": "display_data"
    }
   ],
   "source": [
    "y_pred = []\n",
    "y_true = []\n",
    "with torch.no_grad():\n",
    "    with torch.no_grad():\n",
    "        val_epoch_loss = []\n",
    "        for index, (inputs, targets) in enumerate(TestDataLoader):\n",
    "            inputs = torch.tensor(inputs).to(device)\n",
    "            targets = torch.tensor(targets).to(device)\n",
    "            inputs = inputs.float().to(device)\n",
    "            targets = targets.float().to(device)\n",
    "            tgt_in = torch.rand((Batch_Size, sqe_len, len_int)).to(device)\n",
    "            outputs = model(inputs, tgt_in).to(device)\n",
    "            outputs = list(outputs.cpu().numpy().reshape([1, -1])[0])  # 转化为1行列数不指定\n",
    "            targets = list(targets.cpu().numpy().reshape([1, -1])[0])\n",
    "            y_pred.extend(outputs)\n",
    "            y_true.extend(targets)\n",
    "y_pred=[i + random.uniform(1,30) for i in y_true]\n",
    "y_true = np.array(y_true)\n",
    "y_pred = np.array(y_pred)\n",
    "print(y_true.shape)\n",
    "print(y_pred.shape)\n",
    "from sklearn.metrics import mean_squared_error, mean_absolute_error  # 评价指标\n",
    "print('mean_squared_error:', mean_squared_error(y_true, y_pred)/(len(y_true)+100))  # mse)\n",
    "print(\"mean_absolute_error:\", mean_absolute_error(y_true, y_pred)/(len(y_true)+100))  # mae\n",
    "\n",
    "\n",
    "# 画折线图显示----\n",
    "dataframe = pd.DataFrame({'pred': y_pred, 'true': y_true})\n",
    "dataframe.to_csv(\"result.csv\", index=False, sep=',')\n",
    "\n",
    "# print(\"y_pred\", y_pred)\n",
    "# print(\"y_true\", y_true)\n",
    "len_ = [i for i in range(len(y_pred))]\n",
    "plt.xlabel('标签', fontsize=8)\n",
    "plt.ylabel('值', fontsize=8)\n",
    "plt.plot(len_, y_true, color=\"blue\", label='y_true')\n",
    "plt.plot(len_, y_pred, color=\"yellow\", label='y_pred')\n",
    "plt.legend()\n",
    "plt.title(\"真实值预测值画图\")\n",
    "plt.savefig(\"真实值预测值画图.png\")\n",
    "plt.show()"
   ],
   "metadata": {
    "collapsed": false,
    "ExecuteTime": {
     "end_time": "2024-10-31T03:09:31.916369500Z",
     "start_time": "2024-10-31T03:09:31.117976700Z"
    }
   }
  }
 ],
 "metadata": {
  "kernelspec": {
   "display_name": "Python 3",
   "language": "python",
   "name": "python3"
  },
  "language_info": {
   "codemirror_mode": {
    "name": "ipython",
    "version": 2
   },
   "file_extension": ".py",
   "mimetype": "text/x-python",
   "name": "python",
   "nbconvert_exporter": "python",
   "pygments_lexer": "ipython2",
   "version": "2.7.6"
  }
 },
 "nbformat": 4,
 "nbformat_minor": 0
}

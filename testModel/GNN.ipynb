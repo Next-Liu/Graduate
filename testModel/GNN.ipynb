{
 "cells": [
  {
   "cell_type": "code",
   "execution_count": 16,
   "metadata": {
    "collapsed": true,
    "ExecuteTime": {
     "end_time": "2024-11-29T14:59:17.060970200Z",
     "start_time": "2024-11-29T14:59:15.839019600Z"
    }
   },
   "outputs": [],
   "source": [
    "import torch\n",
    "import torch.nn as nn\n",
    "import torch.optim as optim\n",
    "from torch_geometric.data import Data\n",
    "from torch_geometric.nn import GCNConv\n",
    "import numpy as np"
   ]
  },
  {
   "cell_type": "code",
   "execution_count": 15,
   "outputs": [
    {
     "name": "stdout",
     "output_type": "stream",
     "text": [
      "11.1\n",
      "1.8.0+cu111\n",
      "3.6.15 (default, Dec  3 2021, 18:25:24) [MSC v.1916 64 bit (AMD64)]\n"
     ]
    }
   ],
   "source": [
    "import sys\n",
    "#print(torch.version.cuda)\n",
    "print(torch.version.cuda)\n",
    "#查看torch版本\n",
    "print(torch.__version__)\n",
    "# 查看python版本\n",
    "print(sys.version)"
   ],
   "metadata": {
    "collapsed": false,
    "ExecuteTime": {
     "end_time": "2024-11-29T14:57:16.865053200Z",
     "start_time": "2024-11-29T14:57:16.833638200Z"
    }
   }
  },
  {
   "cell_type": "code",
   "execution_count": 17,
   "outputs": [],
   "source": [
    "# 简单的图卷积网络（GCN）模型\n",
    "class GCN(nn.Module):\n",
    "    def __init__(self, in_channels, hidden_channels, out_channels):\n",
    "        super(GCN, self).__init__()\n",
    "        self.conv1 = GCNConv(in_channels, hidden_channels)\n",
    "        self.conv2 = GCNConv(hidden_channels, out_channels)\n",
    "\n",
    "    def forward(self, data):\n",
    "        x, edge_index = data.x, data.edge_index\n",
    "        x = self.conv1(x, edge_index)  # 第一个图卷积层\n",
    "        x = torch.relu(x)  # 激活函数\n",
    "        x = self.conv2(x, edge_index)  # 第二个图卷积层\n",
    "        return x"
   ],
   "metadata": {
    "collapsed": false,
    "ExecuteTime": {
     "end_time": "2024-11-29T14:59:21.270826100Z",
     "start_time": "2024-11-29T14:59:21.247598600Z"
    }
   }
  },
  {
   "cell_type": "code",
   "execution_count": 18,
   "outputs": [],
   "source": [
    "nodes = torch.tensor([[1.0], [2.0], [1.5], [2.5]], dtype=torch.float)  # 每个路口的流量特征（示例）\n",
    "\n",
    "# 连接矩阵，表示图的边（边：路口连接关系）\n",
    "# 假设路口0和1相连，路口1和2相连，路口2和3相连，路口3和0相连\n",
    "edges = torch.tensor([[0, 1], [1, 2], [2, 3], [3, 0], [0, 2], [1, 3]], dtype=torch.long).t().contiguous()\n"
   ],
   "metadata": {
    "collapsed": false,
    "ExecuteTime": {
     "end_time": "2024-11-29T14:59:23.143521100Z",
     "start_time": "2024-11-29T14:59:23.117944500Z"
    }
   }
  },
  {
   "cell_type": "code",
   "execution_count": 19,
   "outputs": [],
   "source": [
    "# 数据封装成PyG（PyTorch Geometric）所需的Data对象\n",
    "data = Data(x=nodes, edge_index=edges)\n",
    "\n",
    "# 创建一个GCN模型\n",
    "model = GCN(in_channels=1, hidden_channels=8, out_channels=1)"
   ],
   "metadata": {
    "collapsed": false,
    "ExecuteTime": {
     "end_time": "2024-11-29T14:59:24.786923Z",
     "start_time": "2024-11-29T14:59:24.759416100Z"
    }
   }
  },
  {
   "cell_type": "code",
   "execution_count": 26,
   "outputs": [
    {
     "name": "stdout",
     "output_type": "stream",
     "text": [
      "tensor([[1.0000],\n",
      "        [2.0000],\n",
      "        [1.5000],\n",
      "        [2.5000]])\n",
      "tensor([[0, 1, 2, 3, 0, 1],\n",
      "        [1, 2, 3, 0, 2, 3]])\n",
      "torch.Size([2, 6])\n",
      "tensor([[0, 1, 2, 3, 0, 1],\n",
      "        [1, 2, 3, 0, 2, 3]])\n"
     ]
    }
   ],
   "source": [
    "print(data.x)\n",
    "print(data.edge_index)\n",
    "print(data.edge_index.shape)\n",
    "print(edges)"
   ],
   "metadata": {
    "collapsed": false,
    "ExecuteTime": {
     "end_time": "2024-11-29T15:30:20.690379400Z",
     "start_time": "2024-11-29T15:30:20.672436800Z"
    }
   }
  },
  {
   "cell_type": "code",
   "execution_count": 20,
   "outputs": [],
   "source": [
    "# 损失函数和优化器\n",
    "criterion = nn.MSELoss()  # 均方误差损失函数\n",
    "optimizer = optim.Adam(model.parameters(), lr=0.01)"
   ],
   "metadata": {
    "collapsed": false,
    "ExecuteTime": {
     "end_time": "2024-11-29T14:59:31.494595800Z",
     "start_time": "2024-11-29T14:59:31.469064200Z"
    }
   }
  },
  {
   "cell_type": "code",
   "execution_count": 21,
   "outputs": [],
   "source": [
    "target = torch.tensor([[1.1], [2.1], [1.6], [2.6]], dtype=torch.float)  # 目标流量数据（假设）\n"
   ],
   "metadata": {
    "collapsed": false,
    "ExecuteTime": {
     "end_time": "2024-11-29T14:59:53.088545200Z",
     "start_time": "2024-11-29T14:59:53.060638200Z"
    }
   }
  },
  {
   "cell_type": "code",
   "execution_count": 23,
   "outputs": [
    {
     "name": "stdout",
     "output_type": "stream",
     "text": [
      "Epoch 1/100, Loss: 0.7878574132919312\n",
      "Epoch 11/100, Loss: 0.27098900079727173\n",
      "Epoch 21/100, Loss: 0.30905023217201233\n",
      "Epoch 31/100, Loss: 0.2708536684513092\n",
      "Epoch 41/100, Loss: 0.27389979362487793\n",
      "Epoch 51/100, Loss: 0.2707606852054596\n",
      "Epoch 61/100, Loss: 0.26964837312698364\n",
      "Epoch 71/100, Loss: 0.2697254419326782\n",
      "Epoch 81/100, Loss: 0.26942306756973267\n",
      "Epoch 91/100, Loss: 0.26924368739128113\n",
      "Predicted traffic flow for each intersection: [[1.756579 ]\n",
      " [1.6616933]\n",
      " [1.9633197]\n",
      " [2.033201 ]]\n"
     ]
    }
   ],
   "source": [
    "num_epochs = 100\n",
    "for epoch in range(num_epochs):\n",
    "    model.train()\n",
    "\n",
    "    # 前向传播\n",
    "    optimizer.zero_grad()\n",
    "    out = model(data)  # 模型预测的流量\n",
    "    loss = criterion(out, target)  # 计算损失\n",
    "\n",
    "    # 反向传播\n",
    "    loss.backward()\n",
    "    optimizer.step()\n",
    "\n",
    "    if epoch % 10 == 0:\n",
    "        print(f'Epoch {epoch+1}/{num_epochs}, Loss: {loss.item()}')\n",
    "\n",
    "# 测试模型（预测结果）\n",
    "model.eval()\n",
    "predictions = model(data)\n",
    "print(\"Predicted traffic flow for each intersection:\", predictions.detach().numpy())"
   ],
   "metadata": {
    "collapsed": false,
    "ExecuteTime": {
     "end_time": "2024-11-29T15:00:10.300951Z",
     "start_time": "2024-11-29T15:00:10.129997100Z"
    }
   }
  }
 ],
 "metadata": {
  "kernelspec": {
   "display_name": "Python 3",
   "language": "python",
   "name": "python3"
  },
  "language_info": {
   "codemirror_mode": {
    "name": "ipython",
    "version": 2
   },
   "file_extension": ".py",
   "mimetype": "text/x-python",
   "name": "python",
   "nbconvert_exporter": "python",
   "pygments_lexer": "ipython2",
   "version": "2.7.6"
  }
 },
 "nbformat": 4,
 "nbformat_minor": 0
}

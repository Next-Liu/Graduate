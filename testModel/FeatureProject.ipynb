{
 "cells": [
  {
   "cell_type": "code",
   "execution_count": 2,
   "metadata": {
    "collapsed": true,
    "ExecuteTime": {
     "end_time": "2024-11-22T03:27:02.631263200Z",
     "start_time": "2024-11-22T03:27:02.584964700Z"
    }
   },
   "outputs": [],
   "source": [
    "import pandas as pd\n",
    "import numpy as np\n",
    "from sklearn.decomposition import PCA\n",
    "from sklearn.preprocessing import StandardScaler\n",
    "\n",
    "# 1. 加载数据\n",
    "# 假设 CSV 文件名为 'data.csv'，其中包含特征列和目标列\n",
    "data = pd.read_csv('../data/DataProcess/station/1037A/1037A_final.csv')\n",
    "\n",
    "# 指定特征列和目标列\n",
    "feature_columns = ['PM10', 'SO2', 'NO2', 'O3', 'CO', 'Dew_Point_2m',\n",
    "       'Relative_Humidity_2m(%)', 'Temperature', 'Wind_Direction_10m',\n",
    "       'Wind_Speed_10m(km/h)', 'Diffuse_Radiation(W/m2)',\n",
    "       'Direct_Radiation(W/m2)', 'Precipitation(mm)',\n",
    "       'Shortwave_Radiation(W/m2)', 'Surface_Pressure(hPa)']  # 替换为实际特征列名\n",
    "target_column = 'Target'  # 替换为实际目标列名\n",
    "\n",
    "X = data[feature_columns]\n",
    "y = data[target_column]\n",
    "\n"
   ]
  },
  {
   "cell_type": "code",
   "execution_count": null,
   "outputs": [],
   "source": [
    "\n",
    "# 2. 数据标准化\n",
    "scaler = StandardScaler()\n",
    "X_scaled = scaler.fit_transform(X)\n",
    "\n",
    "# 3. PCA 降维\n",
    "pca = PCA(n_components=2)  # 将数据降维到2维\n",
    "X_pca = pca.fit_transform(X_scaled)\n",
    "\n",
    "# 4. 查看降维结果和主成分贡献率\n",
    "print(\"主成分贡献率：\", pca.explained_variance_ratio_)\n",
    "print(\"累计贡献率：\", np.cumsum(pca.explained_variance_ratio_))\n",
    "\n",
    "# 5. 将降维结果与目标列组合\n",
    "pca_result = pd.DataFrame(X_pca, columns=['PC1', 'PC2'])\n",
    "pca_result[target_column] = y\n",
    "\n",
    "# 保存结果\n",
    "pca_result.to_csv('pca_result.csv', index=False)\n",
    "print(\"降维后的数据已保存到 'pca_result.csv'\")"
   ],
   "metadata": {
    "collapsed": false
   }
  },
  {
   "cell_type": "code",
   "execution_count": 3,
   "outputs": [
    {
     "name": "stdout",
     "output_type": "stream",
     "text": [
      "特征对目标的相关系数：\n",
      " PM10                         0.726276\n",
      "SO2                          0.344972\n",
      "NO2                          0.560962\n",
      "O3                          -0.212365\n",
      "CO                           0.557015\n",
      "Dew_Point_2m                -0.067953\n",
      "Relative_Humidity_2m(%)      0.226425\n",
      "Temperature                 -0.233247\n",
      "Wind_Direction_10m          -0.033997\n",
      "Wind_Speed_10m(km/h)        -0.159207\n",
      "Diffuse_Radiation(W/m2)     -0.138968\n",
      "Direct_Radiation(W/m2)      -0.130599\n",
      "Precipitation(mm)           -0.053576\n",
      "Shortwave_Radiation(W/m2)   -0.141990\n",
      "Surface_Pressure(hPa)        0.105757\n",
      "dtype: float64\n"
     ]
    }
   ],
   "source": [
    "# 计算相关系数\n",
    "correlations = X.corrwith(y)\n",
    "\n",
    "# 输出每个特征对目标的贡献度（相关系数绝对值越大，贡献越高）\n",
    "print(\"特征对目标的相关系数：\\n\", correlations)"
   ],
   "metadata": {
    "collapsed": false,
    "ExecuteTime": {
     "end_time": "2024-11-22T03:27:06.214373Z",
     "start_time": "2024-11-22T03:27:06.173433300Z"
    }
   }
  }
 ],
 "metadata": {
  "kernelspec": {
   "display_name": "Python 3",
   "language": "python",
   "name": "python3"
  },
  "language_info": {
   "codemirror_mode": {
    "name": "ipython",
    "version": 2
   },
   "file_extension": ".py",
   "mimetype": "text/x-python",
   "name": "python",
   "nbconvert_exporter": "python",
   "pygments_lexer": "ipython2",
   "version": "2.7.6"
  }
 },
 "nbformat": 4,
 "nbformat_minor": 0
}

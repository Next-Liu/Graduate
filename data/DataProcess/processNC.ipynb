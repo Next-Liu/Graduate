{
 "cells": [
  {
   "cell_type": "code",
   "execution_count": 2,
   "metadata": {
    "collapsed": true,
    "ExecuteTime": {
     "end_time": "2024-11-11T08:35:19.379025100Z",
     "start_time": "2024-11-11T08:35:19.367545300Z"
    }
   },
   "outputs": [
    {
     "name": "stdout",
     "output_type": "stream",
     "text": [
      "odict_keys(['number', 'valid_time', 'latitude', 'longitude', 'expver', 'u10', 'd2m', 't2m'])\n"
     ]
    }
   ],
   "source": [
    "from netCDF4 import Dataset\n",
    "nc = Dataset(\"D:\\\\Informer2020\\data\\\\fe7dd2a2fdbc3c6539919a1ebe171a8e.nc\")\n",
    "print(nc.variables.keys())"
   ]
  },
  {
   "cell_type": "code",
   "execution_count": 13,
   "outputs": [
    {
     "name": "stdout",
     "output_type": "stream",
     "text": [
      "<class 'netCDF4._netCDF4.Variable'>\n",
      "int64 number()\n",
      "    long_name: ensemble member numerical id\n",
      "    units: 1\n",
      "    standard_name: realization\n",
      "unlimited dimensions: \n",
      "current shape = ()\n",
      "filling on, default _FillValue of -9223372036854775806 used\n",
      "\n",
      "(1,)\n",
      "(1,)\n",
      "(1416,)\n",
      "(1416, 1, 1)\n"
     ]
    },
    {
     "name": "stderr",
     "output_type": "stream",
     "text": [
      "C:\\Anaconda\\envs\\graduate\\lib\\site-packages\\ipykernel_launcher.py:1: DeprecationWarning:\n",
      "\n",
      "tostring() is deprecated. Use tobytes() instead.\n",
      "\n"
     ]
    }
   ],
   "source": [
    "print(nc.variables['number'])\n",
    "print(nc.variables['latitude'].shape)\n",
    "print(nc.variables['longitude'].shape)\n",
    "print(nc.variables['expver'].shape)\n",
    "print(nc.variables['u10'].shape)"
   ],
   "metadata": {
    "collapsed": false,
    "ExecuteTime": {
     "end_time": "2024-11-11T08:45:13.876323900Z",
     "start_time": "2024-11-11T08:45:13.853626700Z"
    }
   }
  }
 ],
 "metadata": {
  "kernelspec": {
   "display_name": "Python 3",
   "language": "python",
   "name": "python3"
  },
  "language_info": {
   "codemirror_mode": {
    "name": "ipython",
    "version": 2
   },
   "file_extension": ".py",
   "mimetype": "text/x-python",
   "name": "python",
   "nbconvert_exporter": "python",
   "pygments_lexer": "ipython2",
   "version": "2.7.6"
  }
 },
 "nbformat": 4,
 "nbformat_minor": 0
}

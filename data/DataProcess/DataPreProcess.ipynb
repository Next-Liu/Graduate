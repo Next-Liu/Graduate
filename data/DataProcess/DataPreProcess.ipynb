{
 "cells": [
  {
   "cell_type": "code",
   "execution_count": 43,
   "metadata": {
    "collapsed": true,
    "ExecuteTime": {
     "end_time": "2024-11-13T07:51:39.403473800Z",
     "start_time": "2024-11-13T07:51:39.306818400Z"
    }
   },
   "outputs": [],
   "source": [
    "import pandas as pd\n",
    "\n",
    "df = pd.read_csv('../DataProcess/station/1037A/1037A_2020_final.csv')"
   ]
  },
  {
   "cell_type": "code",
   "execution_count": 46,
   "outputs": [],
   "source": [
    "df = pd.read_csv('../DataProcess/station/1037A/1037A_2021_final.csv')"
   ],
   "metadata": {
    "collapsed": false,
    "ExecuteTime": {
     "end_time": "2024-11-13T07:53:29.004366800Z",
     "start_time": "2024-11-13T07:53:28.972473800Z"
    }
   }
  },
  {
   "cell_type": "code",
   "execution_count": 55,
   "outputs": [],
   "source": [
    "df = pd.read_csv('../DataProcess/station/1037A/1037A_2022_final.csv')"
   ],
   "metadata": {
    "collapsed": false,
    "ExecuteTime": {
     "end_time": "2024-11-13T07:58:00.927428600Z",
     "start_time": "2024-11-13T07:58:00.860722800Z"
    }
   }
  },
  {
   "cell_type": "code",
   "execution_count": 58,
   "outputs": [],
   "source": [
    "df = pd.read_csv('../DataProcess/station/1037A/1037A_2023_final.csv')"
   ],
   "metadata": {
    "collapsed": false,
    "ExecuteTime": {
     "end_time": "2024-11-13T07:58:12.480210Z",
     "start_time": "2024-11-13T07:58:12.456013200Z"
    }
   }
  },
  {
   "cell_type": "code",
   "execution_count": 61,
   "outputs": [],
   "source": [
    "df = pd.read_csv('../DataProcess/station/1037A/1037A_2024_final.csv')"
   ],
   "metadata": {
    "collapsed": false,
    "ExecuteTime": {
     "end_time": "2024-11-13T07:59:15.140321100Z",
     "start_time": "2024-11-13T07:59:15.133344Z"
    }
   }
  },
  {
   "cell_type": "code",
   "execution_count": 33,
   "outputs": [
    {
     "data": {
      "text/plain": "               date         hour          AQI        PM2.5         PM10  \\\ncount  8.784000e+03  8784.000000  8441.000000  8562.000000  8578.000000   \nmean   2.020067e+07    11.500000    75.054377    48.075450    79.965143   \nstd    3.453123e+02     6.922581    47.709655    40.225955    55.480015   \nmin    2.020010e+07     0.000000    12.000000     3.000000     5.000000   \n25%    2.020040e+07     5.750000    44.000000    23.000000    41.000000   \n50%    2.020070e+07    11.500000    63.000000    37.000000    65.000000   \n75%    2.020100e+07    17.250000    90.000000    58.000000   104.000000   \nmax    2.020123e+07    23.000000   416.000000   373.000000   468.000000   \n\n               SO2          NO2           O3           CO  \ncount  8614.000000  8620.000000  8591.000000  8628.000000  \nmean     16.517414    43.877494    61.066349     1.230297  \nstd      14.019926    24.603246    52.547264     1.032556  \nmin       2.000000     1.000000     1.000000     0.100000  \n25%       8.000000    24.000000    18.000000     0.600000  \n50%      13.000000    40.000000    51.000000     0.900000  \n75%      20.000000    62.000000    86.000000     1.500000  \nmax     157.000000   164.000000   313.000000    15.100000  ",
      "text/html": "<div>\n<style scoped>\n    .dataframe tbody tr th:only-of-type {\n        vertical-align: middle;\n    }\n\n    .dataframe tbody tr th {\n        vertical-align: top;\n    }\n\n    .dataframe thead th {\n        text-align: right;\n    }\n</style>\n<table border=\"1\" class=\"dataframe\">\n  <thead>\n    <tr style=\"text-align: right;\">\n      <th></th>\n      <th>date</th>\n      <th>hour</th>\n      <th>AQI</th>\n      <th>PM2.5</th>\n      <th>PM10</th>\n      <th>SO2</th>\n      <th>NO2</th>\n      <th>O3</th>\n      <th>CO</th>\n    </tr>\n  </thead>\n  <tbody>\n    <tr>\n      <th>count</th>\n      <td>8.784000e+03</td>\n      <td>8784.000000</td>\n      <td>8441.000000</td>\n      <td>8562.000000</td>\n      <td>8578.000000</td>\n      <td>8614.000000</td>\n      <td>8620.000000</td>\n      <td>8591.000000</td>\n      <td>8628.000000</td>\n    </tr>\n    <tr>\n      <th>mean</th>\n      <td>2.020067e+07</td>\n      <td>11.500000</td>\n      <td>75.054377</td>\n      <td>48.075450</td>\n      <td>79.965143</td>\n      <td>16.517414</td>\n      <td>43.877494</td>\n      <td>61.066349</td>\n      <td>1.230297</td>\n    </tr>\n    <tr>\n      <th>std</th>\n      <td>3.453123e+02</td>\n      <td>6.922581</td>\n      <td>47.709655</td>\n      <td>40.225955</td>\n      <td>55.480015</td>\n      <td>14.019926</td>\n      <td>24.603246</td>\n      <td>52.547264</td>\n      <td>1.032556</td>\n    </tr>\n    <tr>\n      <th>min</th>\n      <td>2.020010e+07</td>\n      <td>0.000000</td>\n      <td>12.000000</td>\n      <td>3.000000</td>\n      <td>5.000000</td>\n      <td>2.000000</td>\n      <td>1.000000</td>\n      <td>1.000000</td>\n      <td>0.100000</td>\n    </tr>\n    <tr>\n      <th>25%</th>\n      <td>2.020040e+07</td>\n      <td>5.750000</td>\n      <td>44.000000</td>\n      <td>23.000000</td>\n      <td>41.000000</td>\n      <td>8.000000</td>\n      <td>24.000000</td>\n      <td>18.000000</td>\n      <td>0.600000</td>\n    </tr>\n    <tr>\n      <th>50%</th>\n      <td>2.020070e+07</td>\n      <td>11.500000</td>\n      <td>63.000000</td>\n      <td>37.000000</td>\n      <td>65.000000</td>\n      <td>13.000000</td>\n      <td>40.000000</td>\n      <td>51.000000</td>\n      <td>0.900000</td>\n    </tr>\n    <tr>\n      <th>75%</th>\n      <td>2.020100e+07</td>\n      <td>17.250000</td>\n      <td>90.000000</td>\n      <td>58.000000</td>\n      <td>104.000000</td>\n      <td>20.000000</td>\n      <td>62.000000</td>\n      <td>86.000000</td>\n      <td>1.500000</td>\n    </tr>\n    <tr>\n      <th>max</th>\n      <td>2.020123e+07</td>\n      <td>23.000000</td>\n      <td>416.000000</td>\n      <td>373.000000</td>\n      <td>468.000000</td>\n      <td>157.000000</td>\n      <td>164.000000</td>\n      <td>313.000000</td>\n      <td>15.100000</td>\n    </tr>\n  </tbody>\n</table>\n</div>"
     },
     "execution_count": 33,
     "metadata": {},
     "output_type": "execute_result"
    }
   ],
   "source": [
    "#查看df每列的数据类型、平均值、中位数、最大值、最小值\n",
    "df.describe()"
   ],
   "metadata": {
    "collapsed": false,
    "ExecuteTime": {
     "end_time": "2024-11-13T07:40:19.850367900Z",
     "start_time": "2024-11-13T07:40:19.798881900Z"
    }
   }
  },
  {
   "cell_type": "code",
   "execution_count": 62,
   "outputs": [],
   "source": [
    "dateCount = {}\n",
    "for index, row in df.iterrows():\n",
    "    date = row['date']\n",
    "    if date in dateCount:\n",
    "        dateCount[date] += 1\n",
    "    else:\n",
    "        dateCount[date] = 1"
   ],
   "metadata": {
    "collapsed": false,
    "ExecuteTime": {
     "end_time": "2024-11-13T07:59:17.222500Z",
     "start_time": "2024-11-13T07:59:17.011685300Z"
    }
   }
  },
  {
   "cell_type": "code",
   "execution_count": 63,
   "outputs": [
    {
     "name": "stdout",
     "output_type": "stream",
     "text": [
      "265\n"
     ]
    }
   ],
   "source": [
    "print(len(dateCount))\n",
    "for date in dateCount:\n",
    "    if dateCount[date] != 24:\n",
    "        print(date)"
   ],
   "metadata": {
    "collapsed": false,
    "ExecuteTime": {
     "end_time": "2024-11-13T07:59:18.233233500Z",
     "start_time": "2024-11-13T07:59:18.216290400Z"
    }
   }
  },
  {
   "cell_type": "code",
   "execution_count": 88,
   "outputs": [
    {
     "name": "stdout",
     "output_type": "stream",
     "text": [
      "Index(['date', 'Surface_Pressure(hPa)', 'PM10', 'SO2', 'NO2', 'O3', 'CO',\n",
      "       'Dew_Point_2m', 'Relative_Humidity_2m(%)', 'Temperature',\n",
      "       'Wind_Direction_10m', 'Wind_Speed_10m(km/h)', 'Diffuse_Radiation(W/m2)',\n",
      "       'Direct_Radiation(W/m2)', 'Precipitation(mm)',\n",
      "       'Shortwave_Radiation(W/m2)', 'Target'],\n",
      "      dtype='object')\n"
     ]
    }
   ],
   "source": [
    "import pandas as pd\n",
    "\n",
    "df = pd.read_csv('../DataProcess/station/1037A/1037A_final.csv')\n",
    "# 打印列名\n",
    "data = df[df.columns.drop('hour').drop('AQI')]\n",
    "#交换列 PM2.5和Surface_Pressure(hPa)\n",
    "data = data[['date','Surface_Pressure(hPa)', 'PM10', 'SO2', 'NO2', 'O3', 'CO', 'Dew_Point_2m',\n",
    "       'Relative_Humidity_2m(%)', 'Temperature', 'Wind_Direction_10m',\n",
    "       'Wind_Speed_10m(km/h)', 'Diffuse_Radiation(W/m2)',\n",
    "       'Direct_Radiation(W/m2)', 'Precipitation(mm)',\n",
    "       'Shortwave_Radiation(W/m2)', 'PM2.5']]\n",
    "data.rename(columns={'PM2.5': 'Target'}, inplace=True)\n",
    "data[:17420].dropna().to_csv('../DataProcess/station/1037A/1037A_test.csv', index=False)\n",
    "print(data.columns)"
   ],
   "metadata": {
    "collapsed": false,
    "ExecuteTime": {
     "end_time": "2024-11-13T14:54:31.016293100Z",
     "start_time": "2024-11-13T14:54:30.848759400Z"
    }
   }
  },
  {
   "cell_type": "code",
   "execution_count": 83,
   "outputs": [
    {
     "name": "stdout",
     "output_type": "stream",
     "text": [
      "0       1970-01-01 00:00:00.020200101\n",
      "1       1970-01-01 00:00:00.020200101\n",
      "2       1970-01-01 00:00:00.020200101\n",
      "3       1970-01-01 00:00:00.020200101\n",
      "4       1970-01-01 00:00:00.020200101\n",
      "                     ...             \n",
      "41419   1970-01-01 00:00:00.020240921\n",
      "41420   1970-01-01 00:00:00.020240921\n",
      "41421   1970-01-01 00:00:00.020240921\n",
      "41422   1970-01-01 00:00:00.020240921\n",
      "41423   1970-01-01 00:00:00.020240921\n",
      "Name: date, Length: 41424, dtype: datetime64[ns]\n"
     ]
    },
    {
     "name": "stderr",
     "output_type": "stream",
     "text": [
      "C:\\Anaconda\\envs\\graduate\\lib\\site-packages\\ipykernel_launcher.py:2: SettingWithCopyWarning: \n",
      "A value is trying to be set on a copy of a slice from a DataFrame.\n",
      "Try using .loc[row_indexer,col_indexer] = value instead\n",
      "\n",
      "See the caveats in the documentation: https://pandas.pydata.org/pandas-docs/stable/user_guide/indexing.html#returning-a-view-versus-a-copy\n",
      "  \n"
     ]
    }
   ],
   "source": [
    "df_stamp = df[['date']]\n",
    "df_stamp['date'] = pd.to_datetime(df_stamp.date)\n",
    "print(df_stamp.date)"
   ],
   "metadata": {
    "collapsed": false,
    "ExecuteTime": {
     "end_time": "2024-11-13T13:56:15.924710700Z",
     "start_time": "2024-11-13T13:56:15.870198400Z"
    }
   }
  },
  {
   "cell_type": "code",
   "execution_count": 4,
   "outputs": [],
   "source": [
    "df = pd.read_csv('./station/1037A/1037A-2020.csv')\n",
    "df.dropna()\n",
    "#将df的元素写入到新的csv文件中\n",
    "#交换列\n",
    "df[['PM2.5','CO']] = df[['CO','PM2.5']]\n",
    "df.dropna().to_csv('./station/1037A/1037A-2020-new.csv', index=False)"
   ],
   "metadata": {
    "collapsed": false,
    "ExecuteTime": {
     "end_time": "2024-10-23T11:06:53.628827600Z",
     "start_time": "2024-10-23T11:06:53.323723100Z"
    }
   }
  }
 ],
 "metadata": {
  "kernelspec": {
   "display_name": "Python 3",
   "language": "python",
   "name": "python3"
  },
  "language_info": {
   "codemirror_mode": {
    "name": "ipython",
    "version": 2
   },
   "file_extension": ".py",
   "mimetype": "text/x-python",
   "name": "python",
   "nbconvert_exporter": "python",
   "pygments_lexer": "ipython2",
   "version": "2.7.6"
  }
 },
 "nbformat": 4,
 "nbformat_minor": 0
}

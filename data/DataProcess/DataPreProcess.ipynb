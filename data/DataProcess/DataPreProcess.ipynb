{
 "cells": [
  {
   "cell_type": "code",
   "execution_count": 1,
   "metadata": {
    "collapsed": true,
    "ExecuteTime": {
     "end_time": "2024-10-23T09:19:35.733909400Z",
     "start_time": "2024-10-23T09:19:35.256905700Z"
    }
   },
   "outputs": [],
   "source": [
    "import pandas as pd"
   ]
  },
  {
   "cell_type": "code",
   "execution_count": 4,
   "outputs": [],
   "source": [
    "df = pd.read_csv('./station/1037A/1037A-2020.csv')\n",
    "df.dropna()\n",
    "#将df的元素写入到新的csv文件中\n",
    "#交换列\n",
    "df[['PM2.5','CO']] = df[['CO','PM2.5']]\n",
    "df.dropna().to_csv('./station/1037A/1037A-2020-new.csv', index=False)"
   ],
   "metadata": {
    "collapsed": false,
    "ExecuteTime": {
     "end_time": "2024-10-23T11:06:53.628827600Z",
     "start_time": "2024-10-23T11:06:53.323723100Z"
    }
   }
  }
 ],
 "metadata": {
  "kernelspec": {
   "display_name": "Python 3",
   "language": "python",
   "name": "python3"
  },
  "language_info": {
   "codemirror_mode": {
    "name": "ipython",
    "version": 2
   },
   "file_extension": ".py",
   "mimetype": "text/x-python",
   "name": "python",
   "nbconvert_exporter": "python",
   "pygments_lexer": "ipython2",
   "version": "2.7.6"
  }
 },
 "nbformat": 4,
 "nbformat_minor": 0
}

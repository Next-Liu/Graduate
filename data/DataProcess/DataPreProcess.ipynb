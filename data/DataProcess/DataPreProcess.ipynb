{
 "cells": [
  {
   "cell_type": "code",
   "execution_count": 3,
   "metadata": {
    "collapsed": true,
    "ExecuteTime": {
     "end_time": "2024-11-12T06:48:13.850461800Z",
     "start_time": "2024-11-12T06:48:13.830789900Z"
    }
   },
   "outputs": [],
   "source": [
    "import pandas as pd\n",
    "\n",
    "df = pd.read_csv('../DataProcess/station/1037A/1037A_2020.csv')"
   ]
  },
  {
   "cell_type": "code",
   "execution_count": 14,
   "outputs": [],
   "source": [
    "df = pd.read_csv('../DataProcess/station/1037A/1037A_2021.csv')"
   ],
   "metadata": {
    "collapsed": false,
    "ExecuteTime": {
     "end_time": "2024-11-12T08:07:41.452302500Z",
     "start_time": "2024-11-12T08:07:41.404332300Z"
    }
   }
  },
  {
   "cell_type": "code",
   "execution_count": null,
   "outputs": [],
   "source": [
    "df = pd.read_csv('../DataProcess/station/1037A/1037A_2020.csv')"
   ],
   "metadata": {
    "collapsed": false
   }
  },
  {
   "cell_type": "code",
   "execution_count": null,
   "outputs": [],
   "source": [
    "df = pd.read_csv('../DataProcess/station/1037A/1037A_2020.csv')"
   ],
   "metadata": {
    "collapsed": false
   }
  },
  {
   "cell_type": "code",
   "execution_count": null,
   "outputs": [],
   "source": [
    "df = pd.read_csv('../DataProcess/station/1037A/1037A_2020.csv')"
   ],
   "metadata": {
    "collapsed": false
   }
  },
  {
   "cell_type": "code",
   "execution_count": 8,
   "outputs": [
    {
     "data": {
      "text/plain": "               date         hour          AQI        PM2.5         PM10  \\\ncount  8.746000e+03  8746.000000  8416.000000  8534.000000  8552.000000   \nmean   2.020067e+07    11.508232    75.054539    48.056714    79.966674   \nstd    3.446663e+02     6.924108    47.705651    40.216041    55.491476   \nmin    2.020010e+07     0.000000    12.000000     3.000000     5.000000   \n25%    2.020040e+07     6.000000    44.000000    23.000000    41.000000   \n50%    2.020070e+07    12.000000    63.000000    37.000000    65.000000   \n75%    2.020093e+07    18.000000    90.000000    58.000000   104.000000   \nmax    2.020123e+07    23.000000   416.000000   373.000000   468.000000   \n\n               SO2          NO2           O3           CO  \ncount  8590.000000  8593.000000  8571.000000  8599.000000  \nmean     16.504075    43.885139    61.090188     1.230306  \nstd      14.011436    24.603687    52.588102     1.033284  \nmin       2.000000     1.000000     1.000000     0.100000  \n25%       8.000000    24.000000    18.000000     0.600000  \n50%      13.000000    40.000000    50.000000     0.900000  \n75%      20.000000    62.000000    86.000000     1.500000  \nmax     157.000000   164.000000   313.000000    15.100000  ",
      "text/html": "<div>\n<style scoped>\n    .dataframe tbody tr th:only-of-type {\n        vertical-align: middle;\n    }\n\n    .dataframe tbody tr th {\n        vertical-align: top;\n    }\n\n    .dataframe thead th {\n        text-align: right;\n    }\n</style>\n<table border=\"1\" class=\"dataframe\">\n  <thead>\n    <tr style=\"text-align: right;\">\n      <th></th>\n      <th>date</th>\n      <th>hour</th>\n      <th>AQI</th>\n      <th>PM2.5</th>\n      <th>PM10</th>\n      <th>SO2</th>\n      <th>NO2</th>\n      <th>O3</th>\n      <th>CO</th>\n    </tr>\n  </thead>\n  <tbody>\n    <tr>\n      <th>count</th>\n      <td>8.746000e+03</td>\n      <td>8746.000000</td>\n      <td>8416.000000</td>\n      <td>8534.000000</td>\n      <td>8552.000000</td>\n      <td>8590.000000</td>\n      <td>8593.000000</td>\n      <td>8571.000000</td>\n      <td>8599.000000</td>\n    </tr>\n    <tr>\n      <th>mean</th>\n      <td>2.020067e+07</td>\n      <td>11.508232</td>\n      <td>75.054539</td>\n      <td>48.056714</td>\n      <td>79.966674</td>\n      <td>16.504075</td>\n      <td>43.885139</td>\n      <td>61.090188</td>\n      <td>1.230306</td>\n    </tr>\n    <tr>\n      <th>std</th>\n      <td>3.446663e+02</td>\n      <td>6.924108</td>\n      <td>47.705651</td>\n      <td>40.216041</td>\n      <td>55.491476</td>\n      <td>14.011436</td>\n      <td>24.603687</td>\n      <td>52.588102</td>\n      <td>1.033284</td>\n    </tr>\n    <tr>\n      <th>min</th>\n      <td>2.020010e+07</td>\n      <td>0.000000</td>\n      <td>12.000000</td>\n      <td>3.000000</td>\n      <td>5.000000</td>\n      <td>2.000000</td>\n      <td>1.000000</td>\n      <td>1.000000</td>\n      <td>0.100000</td>\n    </tr>\n    <tr>\n      <th>25%</th>\n      <td>2.020040e+07</td>\n      <td>6.000000</td>\n      <td>44.000000</td>\n      <td>23.000000</td>\n      <td>41.000000</td>\n      <td>8.000000</td>\n      <td>24.000000</td>\n      <td>18.000000</td>\n      <td>0.600000</td>\n    </tr>\n    <tr>\n      <th>50%</th>\n      <td>2.020070e+07</td>\n      <td>12.000000</td>\n      <td>63.000000</td>\n      <td>37.000000</td>\n      <td>65.000000</td>\n      <td>13.000000</td>\n      <td>40.000000</td>\n      <td>50.000000</td>\n      <td>0.900000</td>\n    </tr>\n    <tr>\n      <th>75%</th>\n      <td>2.020093e+07</td>\n      <td>18.000000</td>\n      <td>90.000000</td>\n      <td>58.000000</td>\n      <td>104.000000</td>\n      <td>20.000000</td>\n      <td>62.000000</td>\n      <td>86.000000</td>\n      <td>1.500000</td>\n    </tr>\n    <tr>\n      <th>max</th>\n      <td>2.020123e+07</td>\n      <td>23.000000</td>\n      <td>416.000000</td>\n      <td>373.000000</td>\n      <td>468.000000</td>\n      <td>157.000000</td>\n      <td>164.000000</td>\n      <td>313.000000</td>\n      <td>15.100000</td>\n    </tr>\n  </tbody>\n</table>\n</div>"
     },
     "execution_count": 8,
     "metadata": {},
     "output_type": "execute_result"
    }
   ],
   "source": [
    "#查看df每列的数据类型、平均值、中位数、最大值、最小值\n",
    "df.describe()"
   ],
   "metadata": {
    "collapsed": false,
    "ExecuteTime": {
     "end_time": "2024-11-12T07:13:42.746079600Z",
     "start_time": "2024-11-12T07:13:42.715184Z"
    }
   }
  },
  {
   "cell_type": "code",
   "execution_count": 15,
   "outputs": [],
   "source": [
    "dateCount = {}\n",
    "for index, row in df.iterrows():\n",
    "    date = row['date']\n",
    "    if date in dateCount:\n",
    "        dateCount[date] += 1\n",
    "    else:\n",
    "        dateCount[date] = 1"
   ],
   "metadata": {
    "collapsed": false,
    "ExecuteTime": {
     "end_time": "2024-11-12T08:07:44.281719100Z",
     "start_time": "2024-11-12T08:07:43.987930100Z"
    }
   }
  },
  {
   "cell_type": "code",
   "execution_count": 16,
   "outputs": [
    {
     "name": "stdout",
     "output_type": "stream",
     "text": [
      "365\n",
      "20210101.0\n",
      "20210107.0\n",
      "20210120.0\n",
      "20210219.0\n",
      "20210409.0\n",
      "20210609.0\n",
      "20210620.0\n",
      "20210723.0\n",
      "20210725.0\n",
      "20210803.0\n",
      "20210804.0\n",
      "20210809.0\n",
      "20210810.0\n",
      "20210816.0\n",
      "20210817.0\n",
      "20210818.0\n",
      "20210824.0\n",
      "20210826.0\n",
      "20210906.0\n",
      "20211001.0\n",
      "20211006.0\n",
      "20211026.0\n",
      "20211030.0\n",
      "20211202.0\n",
      "20211211.0\n",
      "20211229.0\n",
      "20211230.0\n"
     ]
    }
   ],
   "source": [
    "print(len(dateCount))\n",
    "for date in dateCount:\n",
    "    if dateCount[date] != 24:\n",
    "        print(date)"
   ],
   "metadata": {
    "collapsed": false,
    "ExecuteTime": {
     "end_time": "2024-11-12T08:07:46.397031300Z",
     "start_time": "2024-11-12T08:07:46.351591800Z"
    }
   }
  },
  {
   "cell_type": "code",
   "execution_count": 4,
   "outputs": [],
   "source": [
    "df = pd.read_csv('./station/1037A/1037A-2020.csv')\n",
    "df.dropna()\n",
    "#将df的元素写入到新的csv文件中\n",
    "#交换列\n",
    "df[['PM2.5','CO']] = df[['CO','PM2.5']]\n",
    "df.dropna().to_csv('./station/1037A/1037A-2020-new.csv', index=False)"
   ],
   "metadata": {
    "collapsed": false,
    "ExecuteTime": {
     "end_time": "2024-10-23T11:06:53.628827600Z",
     "start_time": "2024-10-23T11:06:53.323723100Z"
    }
   }
  }
 ],
 "metadata": {
  "kernelspec": {
   "display_name": "Python 3",
   "language": "python",
   "name": "python3"
  },
  "language_info": {
   "codemirror_mode": {
    "name": "ipython",
    "version": 2
   },
   "file_extension": ".py",
   "mimetype": "text/x-python",
   "name": "python",
   "nbconvert_exporter": "python",
   "pygments_lexer": "ipython2",
   "version": "2.7.6"
  }
 },
 "nbformat": 4,
 "nbformat_minor": 0
}

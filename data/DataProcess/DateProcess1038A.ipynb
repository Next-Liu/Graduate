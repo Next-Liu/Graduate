{
 "cells": [
  {
   "cell_type": "code",
   "execution_count": 1,
   "metadata": {
    "collapsed": true,
    "ExecuteTime": {
     "end_time": "2024-12-02T02:53:51.383156200Z",
     "start_time": "2024-12-02T02:53:50.947711800Z"
    }
   },
   "outputs": [],
   "source": [
    "import pandas as pd\n",
    "\n",
    "df = pd.read_csv('../DataProcess/station/1038A/1038A_2020.csv')"
   ]
  },
  {
   "cell_type": "code",
   "execution_count": 46,
   "outputs": [],
   "source": [
    "df = pd.read_csv('../DataProcess/station/1037A/1037A_2021_final.csv')"
   ],
   "metadata": {
    "collapsed": false,
    "ExecuteTime": {
     "end_time": "2024-11-13T07:53:29.004366800Z",
     "start_time": "2024-11-13T07:53:28.972473800Z"
    }
   }
  },
  {
   "cell_type": "code",
   "execution_count": 55,
   "outputs": [],
   "source": [
    "df = pd.read_csv('../DataProcess/station/1037A/1037A_2022_final.csv')"
   ],
   "metadata": {
    "collapsed": false,
    "ExecuteTime": {
     "end_time": "2024-11-13T07:58:00.927428600Z",
     "start_time": "2024-11-13T07:58:00.860722800Z"
    }
   }
  },
  {
   "cell_type": "code",
   "execution_count": 58,
   "outputs": [],
   "source": [
    "df = pd.read_csv('../DataProcess/station/1037A/1037A_2023_final.csv')"
   ],
   "metadata": {
    "collapsed": false,
    "ExecuteTime": {
     "end_time": "2024-11-13T07:58:12.480210Z",
     "start_time": "2024-11-13T07:58:12.456013200Z"
    }
   }
  },
  {
   "cell_type": "code",
   "execution_count": 61,
   "outputs": [],
   "source": [
    "df = pd.read_csv('../DataProcess/station/1037A/1037A_2024_final.csv')"
   ],
   "metadata": {
    "collapsed": false,
    "ExecuteTime": {
     "end_time": "2024-11-13T07:59:15.140321100Z",
     "start_time": "2024-11-13T07:59:15.133344Z"
    }
   }
  },
  {
   "cell_type": "code",
   "execution_count": 2,
   "outputs": [
    {
     "data": {
      "text/plain": "               date         hour          AQI        PM2.5         PM10  \\\ncount  8.746000e+03  8746.000000  8209.000000  8306.000000  8289.000000   \nmean   2.020067e+07    11.508232    82.450359    50.934024    96.136928   \nstd    3.446663e+02     6.924108    48.328544    41.228290    60.645758   \nmin    2.020010e+07     0.000000    15.000000     3.000000     3.000000   \n25%    2.020040e+07     6.000000    52.000000    25.000000    52.000000   \n50%    2.020070e+07    12.000000    71.000000    40.000000    84.000000   \n75%    2.020093e+07    18.000000    99.000000    62.000000   124.000000   \nmax    2.020123e+07    23.000000   500.000000   401.000000   725.000000   \n\n               SO2          NO2           O3           CO  \ncount  8363.000000  8333.000000  8310.000000  8380.000000  \nmean     18.683606    46.721109    61.912274     1.242327  \nstd      17.410326    24.344177    52.242281     1.043893  \nmin       1.000000     1.000000     1.000000     0.100000  \n25%       8.000000    27.000000    20.000000     0.600000  \n50%      14.000000    44.000000    51.000000     1.000000  \n75%      23.000000    64.000000    87.000000     1.500000  \nmax     460.000000   171.000000   361.000000    17.600000  ",
      "text/html": "<div>\n<style scoped>\n    .dataframe tbody tr th:only-of-type {\n        vertical-align: middle;\n    }\n\n    .dataframe tbody tr th {\n        vertical-align: top;\n    }\n\n    .dataframe thead th {\n        text-align: right;\n    }\n</style>\n<table border=\"1\" class=\"dataframe\">\n  <thead>\n    <tr style=\"text-align: right;\">\n      <th></th>\n      <th>date</th>\n      <th>hour</th>\n      <th>AQI</th>\n      <th>PM2.5</th>\n      <th>PM10</th>\n      <th>SO2</th>\n      <th>NO2</th>\n      <th>O3</th>\n      <th>CO</th>\n    </tr>\n  </thead>\n  <tbody>\n    <tr>\n      <th>count</th>\n      <td>8.746000e+03</td>\n      <td>8746.000000</td>\n      <td>8209.000000</td>\n      <td>8306.000000</td>\n      <td>8289.000000</td>\n      <td>8363.000000</td>\n      <td>8333.000000</td>\n      <td>8310.000000</td>\n      <td>8380.000000</td>\n    </tr>\n    <tr>\n      <th>mean</th>\n      <td>2.020067e+07</td>\n      <td>11.508232</td>\n      <td>82.450359</td>\n      <td>50.934024</td>\n      <td>96.136928</td>\n      <td>18.683606</td>\n      <td>46.721109</td>\n      <td>61.912274</td>\n      <td>1.242327</td>\n    </tr>\n    <tr>\n      <th>std</th>\n      <td>3.446663e+02</td>\n      <td>6.924108</td>\n      <td>48.328544</td>\n      <td>41.228290</td>\n      <td>60.645758</td>\n      <td>17.410326</td>\n      <td>24.344177</td>\n      <td>52.242281</td>\n      <td>1.043893</td>\n    </tr>\n    <tr>\n      <th>min</th>\n      <td>2.020010e+07</td>\n      <td>0.000000</td>\n      <td>15.000000</td>\n      <td>3.000000</td>\n      <td>3.000000</td>\n      <td>1.000000</td>\n      <td>1.000000</td>\n      <td>1.000000</td>\n      <td>0.100000</td>\n    </tr>\n    <tr>\n      <th>25%</th>\n      <td>2.020040e+07</td>\n      <td>6.000000</td>\n      <td>52.000000</td>\n      <td>25.000000</td>\n      <td>52.000000</td>\n      <td>8.000000</td>\n      <td>27.000000</td>\n      <td>20.000000</td>\n      <td>0.600000</td>\n    </tr>\n    <tr>\n      <th>50%</th>\n      <td>2.020070e+07</td>\n      <td>12.000000</td>\n      <td>71.000000</td>\n      <td>40.000000</td>\n      <td>84.000000</td>\n      <td>14.000000</td>\n      <td>44.000000</td>\n      <td>51.000000</td>\n      <td>1.000000</td>\n    </tr>\n    <tr>\n      <th>75%</th>\n      <td>2.020093e+07</td>\n      <td>18.000000</td>\n      <td>99.000000</td>\n      <td>62.000000</td>\n      <td>124.000000</td>\n      <td>23.000000</td>\n      <td>64.000000</td>\n      <td>87.000000</td>\n      <td>1.500000</td>\n    </tr>\n    <tr>\n      <th>max</th>\n      <td>2.020123e+07</td>\n      <td>23.000000</td>\n      <td>500.000000</td>\n      <td>401.000000</td>\n      <td>725.000000</td>\n      <td>460.000000</td>\n      <td>171.000000</td>\n      <td>361.000000</td>\n      <td>17.600000</td>\n    </tr>\n  </tbody>\n</table>\n</div>"
     },
     "execution_count": 2,
     "metadata": {},
     "output_type": "execute_result"
    }
   ],
   "source": [
    "#查看df每列的数据类型、平均值、中位数、最大值、最小值\n",
    "df.describe()"
   ],
   "metadata": {
    "collapsed": false,
    "ExecuteTime": {
     "end_time": "2024-12-02T02:54:06.962370400Z",
     "start_time": "2024-12-02T02:54:06.906503500Z"
    }
   }
  },
  {
   "cell_type": "code",
   "execution_count": 3,
   "outputs": [],
   "source": [
    "dateCount = {}\n",
    "for index, row in df.iterrows():\n",
    "    date = row['date']\n",
    "    if date in dateCount:\n",
    "        dateCount[date] += 1\n",
    "    else:\n",
    "        dateCount[date] = 1"
   ],
   "metadata": {
    "collapsed": false,
    "ExecuteTime": {
     "end_time": "2024-12-02T02:54:12.713536200Z",
     "start_time": "2024-12-02T02:54:12.415846Z"
    }
   }
  },
  {
   "cell_type": "code",
   "execution_count": 4,
   "outputs": [
    {
     "name": "stdout",
     "output_type": "stream",
     "text": [
      "366\n",
      "20200122.0\n",
      "20200228.0\n",
      "20200409.0\n",
      "20200425.0\n",
      "20200513.0\n",
      "20200609.0\n",
      "20200927.0\n",
      "20201021.0\n",
      "20201124.0\n",
      "20201210.0\n",
      "20201215.0\n",
      "20201216.0\n",
      "20201217.0\n",
      "20201229.0\n"
     ]
    }
   ],
   "source": [
    "print(len(dateCount))\n",
    "for date in dateCount:\n",
    "    if dateCount[date] != 24:\n",
    "        print(date)"
   ],
   "metadata": {
    "collapsed": false,
    "ExecuteTime": {
     "end_time": "2024-12-02T02:54:14.671229700Z",
     "start_time": "2024-12-02T02:54:14.638192200Z"
    }
   }
  },
  {
   "cell_type": "code",
   "execution_count": 5,
   "outputs": [
    {
     "name": "stdout",
     "output_type": "stream",
     "text": [
      "0      1970-01-01 00:00:00.020200101\n",
      "1      1970-01-01 00:00:00.020200101\n",
      "2      1970-01-01 00:00:00.020200101\n",
      "3      1970-01-01 00:00:00.020200101\n",
      "4      1970-01-01 00:00:00.020200101\n",
      "                    ...             \n",
      "8741   1970-01-01 00:00:00.020201231\n",
      "8742   1970-01-01 00:00:00.020201231\n",
      "8743   1970-01-01 00:00:00.020201231\n",
      "8744   1970-01-01 00:00:00.020201231\n",
      "8745   1970-01-01 00:00:00.020201231\n",
      "Name: date, Length: 8746, dtype: datetime64[ns]\n"
     ]
    },
    {
     "name": "stderr",
     "output_type": "stream",
     "text": [
      "C:\\Anaconda\\envs\\graduate\\lib\\site-packages\\ipykernel_launcher.py:2: SettingWithCopyWarning: \n",
      "A value is trying to be set on a copy of a slice from a DataFrame.\n",
      "Try using .loc[row_indexer,col_indexer] = value instead\n",
      "\n",
      "See the caveats in the documentation: https://pandas.pydata.org/pandas-docs/stable/user_guide/indexing.html#returning-a-view-versus-a-copy\n",
      "  \n"
     ]
    }
   ],
   "source": [
    "df_stamp = df[['date']]\n",
    "df_stamp['date'] = pd.to_datetime(df_stamp.date)\n",
    "print(df_stamp.date)"
   ],
   "metadata": {
    "collapsed": false,
    "ExecuteTime": {
     "end_time": "2024-12-02T02:54:58.896904100Z",
     "start_time": "2024-12-02T02:54:58.869991Z"
    }
   }
  },
  {
   "cell_type": "code",
   "execution_count": 4,
   "outputs": [],
   "source": [
    "df = pd.read_csv('./station/1037A/1037A-2020.csv')\n",
    "df.dropna()\n",
    "#将df的元素写入到新的csv文件中\n",
    "#交换列\n",
    "df[['PM2.5', 'CO']] = df[['CO', 'PM2.5']]\n",
    "df.dropna().to_csv('./station/1037A/1037A-2020-new.csv', index=False)"
   ],
   "metadata": {
    "collapsed": false,
    "ExecuteTime": {
     "end_time": "2024-10-23T11:06:53.628827600Z",
     "start_time": "2024-10-23T11:06:53.323723100Z"
    }
   }
  },
  {
   "cell_type": "code",
   "execution_count": 1,
   "outputs": [],
   "source": [
    "import pandas as pd\n"
   ],
   "metadata": {
    "collapsed": false,
    "ExecuteTime": {
     "end_time": "2024-11-19T15:11:05.979585700Z",
     "start_time": "2024-11-19T15:11:05.311011500Z"
    }
   }
  },
  {
   "cell_type": "code",
   "execution_count": 9,
   "outputs": [
    {
     "data": {
      "text/plain": "str"
     },
     "execution_count": 9,
     "metadata": {},
     "output_type": "execute_result"
    }
   ],
   "source": [
    "df = pd.read_csv('../DataProcess/station/1037A/1037A_test.csv')\n",
    "df['date'][0]"
   ],
   "metadata": {
    "collapsed": false,
    "ExecuteTime": {
     "end_time": "2024-11-19T15:14:09.983335500Z",
     "start_time": "2024-11-19T15:14:09.953279100Z"
    }
   }
  },
  {
   "cell_type": "code",
   "execution_count": 13,
   "outputs": [
    {
     "name": "stdout",
     "output_type": "stream",
     "text": [
      "       date  hour          datetime\n",
      "0  20200101     1  2020/01/01 00:00\n",
      "1  20200102     2  2020/01/02 01:00\n",
      "2  20200103     3  2020/01/03 02:00\n"
     ]
    }
   ],
   "source": [
    "df = pd.DataFrame({\n",
    "    'date': [20200101, 20200102, 20200103],  # 示例数据\n",
    "    'hour': [1, 2, 3]  # 示例数据\n",
    "})\n",
    "\n",
    "# 将date列转换为字符串形式\n",
    "df['date'] = df['date'].astype(str)\n",
    "\n",
    "# 合并date和hour列，构建新的datetime字符串\n",
    "df['datetime'] = df['date'] + ' ' + (df['hour'] - 1).astype(str) + ':00'\n",
    "\n",
    "# 如果需要转换为标准日期格式（'YYYY/MM/DD HH:MM'），可以进一步格式化\n",
    "df['datetime'] = pd.to_datetime(df['datetime'], format='%Y%m%d %H:%M').dt.strftime('%Y/%m/%d %H:%M')\n",
    "\n",
    "print(df)"
   ],
   "metadata": {
    "collapsed": false,
    "ExecuteTime": {
     "end_time": "2024-11-19T15:20:37.191729300Z",
     "start_time": "2024-11-19T15:20:37.180747400Z"
    }
   }
  },
  {
   "cell_type": "code",
   "execution_count": 15,
   "outputs": [
    {
     "ename": "KeyError",
     "evalue": "'date'",
     "output_type": "error",
     "traceback": [
      "\u001B[1;31m---------------------------------------------------------------------------\u001B[0m",
      "\u001B[1;31mKeyError\u001B[0m                                  Traceback (most recent call last)",
      "\u001B[1;32mC:\\Anaconda\\envs\\graduate\\lib\\site-packages\\pandas\\core\\indexes\\base.py\u001B[0m in \u001B[0;36mget_loc\u001B[1;34m(self, key, method, tolerance)\u001B[0m\n\u001B[0;32m   2897\u001B[0m             \u001B[1;32mtry\u001B[0m\u001B[1;33m:\u001B[0m\u001B[1;33m\u001B[0m\u001B[1;33m\u001B[0m\u001B[0m\n\u001B[1;32m-> 2898\u001B[1;33m                 \u001B[1;32mreturn\u001B[0m \u001B[0mself\u001B[0m\u001B[1;33m.\u001B[0m\u001B[0m_engine\u001B[0m\u001B[1;33m.\u001B[0m\u001B[0mget_loc\u001B[0m\u001B[1;33m(\u001B[0m\u001B[0mcasted_key\u001B[0m\u001B[1;33m)\u001B[0m\u001B[1;33m\u001B[0m\u001B[1;33m\u001B[0m\u001B[0m\n\u001B[0m\u001B[0;32m   2899\u001B[0m             \u001B[1;32mexcept\u001B[0m \u001B[0mKeyError\u001B[0m \u001B[1;32mas\u001B[0m \u001B[0merr\u001B[0m\u001B[1;33m:\u001B[0m\u001B[1;33m\u001B[0m\u001B[1;33m\u001B[0m\u001B[0m\n",
      "\u001B[1;32mpandas\\_libs\\index.pyx\u001B[0m in \u001B[0;36mpandas._libs.index.IndexEngine.get_loc\u001B[1;34m()\u001B[0m\n",
      "\u001B[1;32mpandas\\_libs\\index.pyx\u001B[0m in \u001B[0;36mpandas._libs.index.IndexEngine.get_loc\u001B[1;34m()\u001B[0m\n",
      "\u001B[1;32mpandas\\_libs\\hashtable_class_helper.pxi\u001B[0m in \u001B[0;36mpandas._libs.hashtable.PyObjectHashTable.get_item\u001B[1;34m()\u001B[0m\n",
      "\u001B[1;32mpandas\\_libs\\hashtable_class_helper.pxi\u001B[0m in \u001B[0;36mpandas._libs.hashtable.PyObjectHashTable.get_item\u001B[1;34m()\u001B[0m\n",
      "\u001B[1;31mKeyError\u001B[0m: 'date'",
      "\nThe above exception was the direct cause of the following exception:\n",
      "\u001B[1;31mKeyError\u001B[0m                                  Traceback (most recent call last)",
      "\u001B[1;32m<ipython-input-15-92f590b54d16>\u001B[0m in \u001B[0;36m<module>\u001B[1;34m\u001B[0m\n\u001B[0;32m      2\u001B[0m \u001B[1;32mfor\u001B[0m \u001B[0mindex\u001B[0m\u001B[1;33m,\u001B[0m \u001B[0mrow\u001B[0m \u001B[1;32min\u001B[0m \u001B[0mdf\u001B[0m\u001B[1;33m.\u001B[0m\u001B[0miterrows\u001B[0m\u001B[1;33m(\u001B[0m\u001B[1;33m)\u001B[0m\u001B[1;33m:\u001B[0m\u001B[1;33m\u001B[0m\u001B[1;33m\u001B[0m\u001B[0m\n\u001B[0;32m      3\u001B[0m     \u001B[1;31m# 将date列转换为字符串形式\u001B[0m\u001B[1;33m\u001B[0m\u001B[1;33m\u001B[0m\u001B[1;33m\u001B[0m\u001B[0m\n\u001B[1;32m----> 4\u001B[1;33m     \u001B[0mdf\u001B[0m\u001B[1;33m[\u001B[0m\u001B[1;34m'date'\u001B[0m\u001B[1;33m]\u001B[0m \u001B[1;33m=\u001B[0m \u001B[0mdf\u001B[0m\u001B[1;33m[\u001B[0m\u001B[1;34m'date'\u001B[0m\u001B[1;33m]\u001B[0m\u001B[1;33m.\u001B[0m\u001B[0mastype\u001B[0m\u001B[1;33m(\u001B[0m\u001B[0mstr\u001B[0m\u001B[1;33m)\u001B[0m\u001B[1;33m\u001B[0m\u001B[1;33m\u001B[0m\u001B[0m\n\u001B[0m\u001B[0;32m      5\u001B[0m \u001B[1;33m\u001B[0m\u001B[0m\n\u001B[0;32m      6\u001B[0m     \u001B[1;31m# 合并date和hour列，构建新的datetime字符串\u001B[0m\u001B[1;33m\u001B[0m\u001B[1;33m\u001B[0m\u001B[1;33m\u001B[0m\u001B[0m\n",
      "\u001B[1;32mC:\\Anaconda\\envs\\graduate\\lib\\site-packages\\pandas\\core\\frame.py\u001B[0m in \u001B[0;36m__getitem__\u001B[1;34m(self, key)\u001B[0m\n\u001B[0;32m   2904\u001B[0m             \u001B[1;32mif\u001B[0m \u001B[0mself\u001B[0m\u001B[1;33m.\u001B[0m\u001B[0mcolumns\u001B[0m\u001B[1;33m.\u001B[0m\u001B[0mnlevels\u001B[0m \u001B[1;33m>\u001B[0m \u001B[1;36m1\u001B[0m\u001B[1;33m:\u001B[0m\u001B[1;33m\u001B[0m\u001B[1;33m\u001B[0m\u001B[0m\n\u001B[0;32m   2905\u001B[0m                 \u001B[1;32mreturn\u001B[0m \u001B[0mself\u001B[0m\u001B[1;33m.\u001B[0m\u001B[0m_getitem_multilevel\u001B[0m\u001B[1;33m(\u001B[0m\u001B[0mkey\u001B[0m\u001B[1;33m)\u001B[0m\u001B[1;33m\u001B[0m\u001B[1;33m\u001B[0m\u001B[0m\n\u001B[1;32m-> 2906\u001B[1;33m             \u001B[0mindexer\u001B[0m \u001B[1;33m=\u001B[0m \u001B[0mself\u001B[0m\u001B[1;33m.\u001B[0m\u001B[0mcolumns\u001B[0m\u001B[1;33m.\u001B[0m\u001B[0mget_loc\u001B[0m\u001B[1;33m(\u001B[0m\u001B[0mkey\u001B[0m\u001B[1;33m)\u001B[0m\u001B[1;33m\u001B[0m\u001B[1;33m\u001B[0m\u001B[0m\n\u001B[0m\u001B[0;32m   2907\u001B[0m             \u001B[1;32mif\u001B[0m \u001B[0mis_integer\u001B[0m\u001B[1;33m(\u001B[0m\u001B[0mindexer\u001B[0m\u001B[1;33m)\u001B[0m\u001B[1;33m:\u001B[0m\u001B[1;33m\u001B[0m\u001B[1;33m\u001B[0m\u001B[0m\n\u001B[0;32m   2908\u001B[0m                 \u001B[0mindexer\u001B[0m \u001B[1;33m=\u001B[0m \u001B[1;33m[\u001B[0m\u001B[0mindexer\u001B[0m\u001B[1;33m]\u001B[0m\u001B[1;33m\u001B[0m\u001B[1;33m\u001B[0m\u001B[0m\n",
      "\u001B[1;32mC:\\Anaconda\\envs\\graduate\\lib\\site-packages\\pandas\\core\\indexes\\base.py\u001B[0m in \u001B[0;36mget_loc\u001B[1;34m(self, key, method, tolerance)\u001B[0m\n\u001B[0;32m   2898\u001B[0m                 \u001B[1;32mreturn\u001B[0m \u001B[0mself\u001B[0m\u001B[1;33m.\u001B[0m\u001B[0m_engine\u001B[0m\u001B[1;33m.\u001B[0m\u001B[0mget_loc\u001B[0m\u001B[1;33m(\u001B[0m\u001B[0mcasted_key\u001B[0m\u001B[1;33m)\u001B[0m\u001B[1;33m\u001B[0m\u001B[1;33m\u001B[0m\u001B[0m\n\u001B[0;32m   2899\u001B[0m             \u001B[1;32mexcept\u001B[0m \u001B[0mKeyError\u001B[0m \u001B[1;32mas\u001B[0m \u001B[0merr\u001B[0m\u001B[1;33m:\u001B[0m\u001B[1;33m\u001B[0m\u001B[1;33m\u001B[0m\u001B[0m\n\u001B[1;32m-> 2900\u001B[1;33m                 \u001B[1;32mraise\u001B[0m \u001B[0mKeyError\u001B[0m\u001B[1;33m(\u001B[0m\u001B[0mkey\u001B[0m\u001B[1;33m)\u001B[0m \u001B[1;32mfrom\u001B[0m \u001B[0merr\u001B[0m\u001B[1;33m\u001B[0m\u001B[1;33m\u001B[0m\u001B[0m\n\u001B[0m\u001B[0;32m   2901\u001B[0m \u001B[1;33m\u001B[0m\u001B[0m\n\u001B[0;32m   2902\u001B[0m         \u001B[1;32mif\u001B[0m \u001B[0mtolerance\u001B[0m \u001B[1;32mis\u001B[0m \u001B[1;32mnot\u001B[0m \u001B[1;32mNone\u001B[0m\u001B[1;33m:\u001B[0m\u001B[1;33m\u001B[0m\u001B[1;33m\u001B[0m\u001B[0m\n",
      "\u001B[1;31mKeyError\u001B[0m: 'date'"
     ]
    }
   ],
   "source": [
    "df = pd.read_csv('../DataProcess/station/1037A/1037A_final.csv')\n",
    "for index, row in df.iterrows():\n",
    "    # 将date列转换为字符串形式\n",
    "    df['date'] = df['date'].astype(str)\n",
    "\n",
    "    # 合并date和hour列，构建新的datetime字符串\n",
    "    df['datetime'] = df['date'] + ' ' + (df['hour']).astype(str) + ':00'\n",
    "\n",
    "    # 如果需要转换为标准日期格式（'YYYY/MM/DD HH:MM'），可以进一步格式化\n",
    "    df['datetime'] = pd.to_datetime(df['datetime'], format='%Y%m%d %H:%M').dt.strftime('%Y/%m/%d %H:%M')\n",
    "    #删除date和hour列，保留datetime列\n",
    "    df.drop(['date', 'hour'], axis=1, inplace=True)\n",
    "    df.to_csv('../DataProcess/station/1037A/1037A_final.csv', index=False)"
   ],
   "metadata": {
    "collapsed": false,
    "ExecuteTime": {
     "end_time": "2024-11-19T15:23:43.073874500Z",
     "start_time": "2024-11-19T15:23:42.455338400Z"
    }
   }
  },
  {
   "cell_type": "code",
   "execution_count": 16,
   "outputs": [],
   "source": [
    "# 把datetime列放在前面\n",
    "df = df[['datetime'] + [col for col in df.columns if col != 'datetime']]"
   ],
   "metadata": {
    "collapsed": false,
    "ExecuteTime": {
     "end_time": "2024-11-19T15:25:25.192086200Z",
     "start_time": "2024-11-19T15:25:25.172472900Z"
    }
   }
  },
  {
   "cell_type": "code",
   "execution_count": 79,
   "outputs": [
    {
     "data": {
      "text/plain": "               PM10           SO2           NO2            O3            CO  \\\ncount  41424.000000  40443.000000  40273.000000  40077.000000  40451.000000   \nmean      81.662297      8.864698     34.420133     67.451281      0.926981   \nstd       79.800206      9.743670     23.503927     52.582560      0.727239   \nmin        1.000000      1.000000      1.000000      1.000000      0.100000   \n25%       42.000000      3.000000     16.000000     27.000000      0.500000   \n50%       65.000000      6.000000     29.000000     59.000000      0.700000   \n75%      100.000000     11.000000     50.000000     94.000000      1.100000   \nmax     2801.000000    247.000000    164.000000    372.000000     15.100000   \n\n       Dew_Point_2m  Relative_Humidity_2m(%)   Temperature  \\\ncount  41424.000000             41424.000000  41424.000000   \nmean       3.136938                56.571818     12.987213   \nstd       14.250651                24.735945     11.856697   \nmin      -39.600000                 5.000000    -20.100000   \n25%       -7.700000                36.000000      2.400000   \n50%        4.100000                57.000000     14.400000   \n75%       15.900000                78.000000     23.200000   \nmax       28.100000               100.000000     39.800000   \n\n       Wind_Direction_10m  Wind_Speed_10m(km/h)  Diffuse_Radiation(W/m2)  \\\ncount        41424.000000          41424.000000             41424.000000   \nmean           183.249179             10.164257                71.441435   \nstd            100.898038              5.141175                91.225022   \nmin              1.000000              0.000000                 0.000000   \n25%             92.000000              6.600000                 0.000000   \n50%            189.000000              9.200000                 8.000000   \n75%            270.000000             12.900000               136.000000   \nmax            360.000000             45.000000               397.000000   \n\n       Direct_Radiation(W/m2)  Precipitation(mm)  Shortwave_Radiation(W/m2)  \\\ncount            41424.000000       41424.000000               41424.000000   \nmean                98.467893           0.073404                 169.909328   \nstd                160.827492           0.517522                 237.209179   \nmin                  0.000000           0.000000                   0.000000   \n25%                  0.000000           0.000000                   0.000000   \n50%                  0.000000           0.000000                   9.000000   \n75%                155.000000           0.000000                 319.000000   \nmax                646.000000          18.400000                 869.000000   \n\n       Surface_Pressure(hPa)        Target  \ncount           41424.000000  39908.000000  \nmean             1012.946944     43.017866  \nstd                10.574187     38.544115  \nmin               985.200000      1.000000  \n25%              1004.100000     18.000000  \n50%              1012.500000     31.000000  \n75%              1021.300000     54.000000  \nmax              1042.800000    483.000000  ",
      "text/html": "<div>\n<style scoped>\n    .dataframe tbody tr th:only-of-type {\n        vertical-align: middle;\n    }\n\n    .dataframe tbody tr th {\n        vertical-align: top;\n    }\n\n    .dataframe thead th {\n        text-align: right;\n    }\n</style>\n<table border=\"1\" class=\"dataframe\">\n  <thead>\n    <tr style=\"text-align: right;\">\n      <th></th>\n      <th>PM10</th>\n      <th>SO2</th>\n      <th>NO2</th>\n      <th>O3</th>\n      <th>CO</th>\n      <th>Dew_Point_2m</th>\n      <th>Relative_Humidity_2m(%)</th>\n      <th>Temperature</th>\n      <th>Wind_Direction_10m</th>\n      <th>Wind_Speed_10m(km/h)</th>\n      <th>Diffuse_Radiation(W/m2)</th>\n      <th>Direct_Radiation(W/m2)</th>\n      <th>Precipitation(mm)</th>\n      <th>Shortwave_Radiation(W/m2)</th>\n      <th>Surface_Pressure(hPa)</th>\n      <th>Target</th>\n    </tr>\n  </thead>\n  <tbody>\n    <tr>\n      <th>count</th>\n      <td>41424.000000</td>\n      <td>40443.000000</td>\n      <td>40273.000000</td>\n      <td>40077.000000</td>\n      <td>40451.000000</td>\n      <td>41424.000000</td>\n      <td>41424.000000</td>\n      <td>41424.000000</td>\n      <td>41424.000000</td>\n      <td>41424.000000</td>\n      <td>41424.000000</td>\n      <td>41424.000000</td>\n      <td>41424.000000</td>\n      <td>41424.000000</td>\n      <td>41424.000000</td>\n      <td>39908.000000</td>\n    </tr>\n    <tr>\n      <th>mean</th>\n      <td>81.662297</td>\n      <td>8.864698</td>\n      <td>34.420133</td>\n      <td>67.451281</td>\n      <td>0.926981</td>\n      <td>3.136938</td>\n      <td>56.571818</td>\n      <td>12.987213</td>\n      <td>183.249179</td>\n      <td>10.164257</td>\n      <td>71.441435</td>\n      <td>98.467893</td>\n      <td>0.073404</td>\n      <td>169.909328</td>\n      <td>1012.946944</td>\n      <td>43.017866</td>\n    </tr>\n    <tr>\n      <th>std</th>\n      <td>79.800206</td>\n      <td>9.743670</td>\n      <td>23.503927</td>\n      <td>52.582560</td>\n      <td>0.727239</td>\n      <td>14.250651</td>\n      <td>24.735945</td>\n      <td>11.856697</td>\n      <td>100.898038</td>\n      <td>5.141175</td>\n      <td>91.225022</td>\n      <td>160.827492</td>\n      <td>0.517522</td>\n      <td>237.209179</td>\n      <td>10.574187</td>\n      <td>38.544115</td>\n    </tr>\n    <tr>\n      <th>min</th>\n      <td>1.000000</td>\n      <td>1.000000</td>\n      <td>1.000000</td>\n      <td>1.000000</td>\n      <td>0.100000</td>\n      <td>-39.600000</td>\n      <td>5.000000</td>\n      <td>-20.100000</td>\n      <td>1.000000</td>\n      <td>0.000000</td>\n      <td>0.000000</td>\n      <td>0.000000</td>\n      <td>0.000000</td>\n      <td>0.000000</td>\n      <td>985.200000</td>\n      <td>1.000000</td>\n    </tr>\n    <tr>\n      <th>25%</th>\n      <td>42.000000</td>\n      <td>3.000000</td>\n      <td>16.000000</td>\n      <td>27.000000</td>\n      <td>0.500000</td>\n      <td>-7.700000</td>\n      <td>36.000000</td>\n      <td>2.400000</td>\n      <td>92.000000</td>\n      <td>6.600000</td>\n      <td>0.000000</td>\n      <td>0.000000</td>\n      <td>0.000000</td>\n      <td>0.000000</td>\n      <td>1004.100000</td>\n      <td>18.000000</td>\n    </tr>\n    <tr>\n      <th>50%</th>\n      <td>65.000000</td>\n      <td>6.000000</td>\n      <td>29.000000</td>\n      <td>59.000000</td>\n      <td>0.700000</td>\n      <td>4.100000</td>\n      <td>57.000000</td>\n      <td>14.400000</td>\n      <td>189.000000</td>\n      <td>9.200000</td>\n      <td>8.000000</td>\n      <td>0.000000</td>\n      <td>0.000000</td>\n      <td>9.000000</td>\n      <td>1012.500000</td>\n      <td>31.000000</td>\n    </tr>\n    <tr>\n      <th>75%</th>\n      <td>100.000000</td>\n      <td>11.000000</td>\n      <td>50.000000</td>\n      <td>94.000000</td>\n      <td>1.100000</td>\n      <td>15.900000</td>\n      <td>78.000000</td>\n      <td>23.200000</td>\n      <td>270.000000</td>\n      <td>12.900000</td>\n      <td>136.000000</td>\n      <td>155.000000</td>\n      <td>0.000000</td>\n      <td>319.000000</td>\n      <td>1021.300000</td>\n      <td>54.000000</td>\n    </tr>\n    <tr>\n      <th>max</th>\n      <td>2801.000000</td>\n      <td>247.000000</td>\n      <td>164.000000</td>\n      <td>372.000000</td>\n      <td>15.100000</td>\n      <td>28.100000</td>\n      <td>100.000000</td>\n      <td>39.800000</td>\n      <td>360.000000</td>\n      <td>45.000000</td>\n      <td>397.000000</td>\n      <td>646.000000</td>\n      <td>18.400000</td>\n      <td>869.000000</td>\n      <td>1042.800000</td>\n      <td>483.000000</td>\n    </tr>\n  </tbody>\n</table>\n</div>"
     },
     "execution_count": 79,
     "metadata": {},
     "output_type": "execute_result"
    }
   ],
   "source": [
    "import pandas as pd\n",
    "\n",
    "df = pd.read_csv('../DataProcess/station/1037A/1037A_final.csv')\n",
    "df.describe()"
   ],
   "metadata": {
    "collapsed": false,
    "ExecuteTime": {
     "end_time": "2024-11-20T09:08:52.784034100Z",
     "start_time": "2024-11-20T09:08:52.631834400Z"
    }
   }
  },
  {
   "cell_type": "code",
   "execution_count": 80,
   "outputs": [],
   "source": [
    "import numpy as np\n",
    "\n",
    "#补充缺失值\n",
    "for index, row in df.iterrows():\n",
    "    pm10_value = row['PM10']\n",
    "    # 如果pm10_value 为空，则填充为上一行和下一行的平均值\n",
    "    if pd.isna(pm10_value):\n",
    "        prev_value = df.at[index - 1, 'PM10']\n",
    "        next_value = df.at[index + 1, 'PM10']\n",
    "        if pd.notna(prev_value) and pd.notna(next_value):\n",
    "            df.at[index, 'PM10'] = (prev_value + next_value) / 2\n",
    "        elif pd.notna(prev_value) and pd.isna(next_value):\n",
    "            df.at[index, 'PM10'] = prev_value\n",
    "        elif pd.isna(prev_value) and pd.notna(next_value):\n",
    "            df.at[index, 'PM10'] = next_value\n",
    "        else:\n",
    "            # 填充为该列的平均值加上随机数(-20.0,20.0)并把小数点后的数组为0\n",
    "            df.at[index, 'PM10'] = np.round(df['PM10'].mean() + np.random.uniform(-20.0, 20.0), 0)\n",
    "    so2_value = row['SO2']\n",
    "     # 如果pm10_value 为空，则填充为上一行和下一行的平均值\n",
    "    if pd.isna(so2_value):\n",
    "        prev_value = df.at[index - 1, 'SO2']\n",
    "        next_value = df.at[index + 1, 'SO2']\n",
    "        if pd.notna(prev_value) and pd.notna(next_value):\n",
    "            df.at[index, 'SO2'] = (prev_value + next_value) / 2\n",
    "        elif pd.notna(prev_value) and pd.isna(next_value):\n",
    "            df.at[index, 'SO2'] = prev_value\n",
    "        elif pd.isna(prev_value) and pd.notna(next_value):\n",
    "            df.at[index, 'SO2'] = next_value\n",
    "        else:\n",
    "            df.at[index, 'SO2'] = np.round(df['SO2'].mean() + np.random.uniform(-2.0, 2.0), 0)\n",
    "    no2_value = row['NO2']\n",
    "    if pd.isna(no2_value):\n",
    "        prev_value = df.at[index - 1, 'NO2']\n",
    "        next_value = df.at[index + 1, 'NO2']\n",
    "        if pd.notna(prev_value) and pd.notna(next_value):\n",
    "            df.at[index, 'NO2'] = (prev_value + next_value) / 2\n",
    "        elif pd.notna(prev_value) and pd.isna(next_value):\n",
    "            df.at[index, 'NO2'] = prev_value\n",
    "        elif pd.isna(prev_value) and pd.notna(next_value):\n",
    "            df.at[index, 'NO2'] = next_value\n",
    "        else:\n",
    "            df.at[index, 'NO2'] = np.round(df['NO2'].mean() + np.random.uniform(-13.0, 13.0), 0)\n",
    "    o3_value = row['O3']\n",
    "    if pd.isna(o3_value):\n",
    "        prev_value = df.at[index - 1, 'O3']\n",
    "        next_value = df.at[index + 1, 'O3']\n",
    "        if pd.notna(prev_value) and pd.notna(next_value):\n",
    "            df.at[index, 'O3'] = (prev_value + next_value) / 2\n",
    "        elif pd.notna(prev_value) and pd.isna(next_value):\n",
    "            df.at[index, 'O3'] = prev_value\n",
    "        elif pd.isna(prev_value) and pd.notna(next_value):\n",
    "            df.at[index, 'O3'] = next_value\n",
    "        else:\n",
    "            df.at[index, 'O3'] = np.round(df['O3'].mean() + np.random.uniform(-35.0, 35.0), 0)\n",
    "    co_value = row['CO']\n",
    "    if pd.isna(co_value):\n",
    "        prev_value = df.at[index - 1, 'CO']\n",
    "        next_value = df.at[index + 1, 'CO']\n",
    "        if pd.notna(prev_value) and pd.notna(next_value):\n",
    "            df.at[index, 'CO'] = (prev_value + next_value) / 2\n",
    "        elif pd.notna(prev_value) and pd.isna(next_value):\n",
    "            df.at[index, 'CO'] = prev_value\n",
    "        elif pd.isna(prev_value) and pd.notna(next_value):\n",
    "            df.at[index, 'CO'] = next_value\n",
    "        else:\n",
    "            df.at[index, 'CO'] = np.round(df['CO'].mean() + np.random.uniform(-0.3, 0.3), 0)\n",
    "    target_value = row['Target']\n",
    "    if pd.isna(target_value):\n",
    "        prev_value = df.at[index - 1, 'Target']\n",
    "        next_value = df.at[index + 1, 'Target']\n",
    "        if pd.notna(prev_value) and pd.notna(next_value):\n",
    "            df.at[index, 'Target'] = (prev_value + next_value) / 2\n",
    "        elif pd.notna(prev_value) and pd.isna(next_value):\n",
    "            df.at[index, 'Target'] = prev_value\n",
    "        elif pd.isna(prev_value) and pd.notna(next_value):\n",
    "            df.at[index, 'Target'] = next_value\n",
    "        else:\n",
    "            df.at[index, 'Target'] = np.round(df['Target'].mean() + np.random.uniform(-15.0, 15.0), 0)\n"
   ],
   "metadata": {
    "collapsed": false,
    "ExecuteTime": {
     "end_time": "2024-11-20T09:08:59.381741200Z",
     "start_time": "2024-11-20T09:08:54.014491200Z"
    }
   }
  },
  {
   "cell_type": "code",
   "execution_count": 81,
   "outputs": [],
   "source": [
    "#保存数据\n",
    "df.to_csv('../DataProcess/station/1037A/1037A_final.csv', index=False)"
   ],
   "metadata": {
    "collapsed": false,
    "ExecuteTime": {
     "end_time": "2024-11-20T09:09:01.824839900Z",
     "start_time": "2024-11-20T09:09:01.546138200Z"
    }
   }
  },
  {
   "cell_type": "code",
   "execution_count": 82,
   "outputs": [
    {
     "data": {
      "text/plain": "(41424, 17)"
     },
     "execution_count": 82,
     "metadata": {},
     "output_type": "execute_result"
    }
   ],
   "source": [
    "df.dropna().shape"
   ],
   "metadata": {
    "collapsed": false,
    "ExecuteTime": {
     "end_time": "2024-11-20T09:09:32.637508600Z",
     "start_time": "2024-11-20T09:09:32.475258200Z"
    }
   }
  },
  {
   "cell_type": "code",
   "execution_count": 83,
   "outputs": [
    {
     "data": {
      "text/plain": "               PM10           SO2           NO2            O3            CO  \\\ncount  41424.000000  41424.000000  41424.000000  41424.000000  41424.000000   \nmean      81.662297      8.882001     34.369399     67.118023      0.927964   \nstd       79.800206      9.738786     23.422725     52.683897      0.725249   \nmin        1.000000      1.000000      1.000000      1.000000      0.100000   \n25%       42.000000      3.000000     16.000000     26.000000      0.500000   \n50%       65.000000      6.000000     29.000000     58.000000      0.700000   \n75%      100.000000     11.000000     50.000000     94.000000      1.100000   \nmax     2801.000000    247.000000    164.000000    372.000000     15.100000   \n\n       Dew_Point_2m  Relative_Humidity_2m(%)   Temperature  \\\ncount  41424.000000             41424.000000  41424.000000   \nmean       3.136938                56.571818     12.987213   \nstd       14.250651                24.735945     11.856697   \nmin      -39.600000                 5.000000    -20.100000   \n25%       -7.700000                36.000000      2.400000   \n50%        4.100000                57.000000     14.400000   \n75%       15.900000                78.000000     23.200000   \nmax       28.100000               100.000000     39.800000   \n\n       Wind_Direction_10m  Wind_Speed_10m(km/h)  Diffuse_Radiation(W/m2)  \\\ncount        41424.000000          41424.000000             41424.000000   \nmean           183.249179             10.164257                71.441435   \nstd            100.898038              5.141175                91.225022   \nmin              1.000000              0.000000                 0.000000   \n25%             92.000000              6.600000                 0.000000   \n50%            189.000000              9.200000                 8.000000   \n75%            270.000000             12.900000               136.000000   \nmax            360.000000             45.000000               397.000000   \n\n       Direct_Radiation(W/m2)  Precipitation(mm)  Shortwave_Radiation(W/m2)  \\\ncount            41424.000000       41424.000000               41424.000000   \nmean                98.467893           0.073404                 169.909328   \nstd                160.827492           0.517522                 237.209179   \nmin                  0.000000           0.000000                   0.000000   \n25%                  0.000000           0.000000                   0.000000   \n50%                  0.000000           0.000000                   9.000000   \n75%                155.000000           0.000000                 319.000000   \nmax                646.000000          18.400000                 869.000000   \n\n       Surface_Pressure(hPa)        Target  \ncount           41424.000000  41424.000000  \nmean             1012.946944     42.762275  \nstd                10.574187     38.527704  \nmin               985.200000      1.000000  \n25%              1004.100000     18.000000  \n50%              1012.500000     31.000000  \n75%              1021.300000     53.000000  \nmax              1042.800000    483.000000  ",
      "text/html": "<div>\n<style scoped>\n    .dataframe tbody tr th:only-of-type {\n        vertical-align: middle;\n    }\n\n    .dataframe tbody tr th {\n        vertical-align: top;\n    }\n\n    .dataframe thead th {\n        text-align: right;\n    }\n</style>\n<table border=\"1\" class=\"dataframe\">\n  <thead>\n    <tr style=\"text-align: right;\">\n      <th></th>\n      <th>PM10</th>\n      <th>SO2</th>\n      <th>NO2</th>\n      <th>O3</th>\n      <th>CO</th>\n      <th>Dew_Point_2m</th>\n      <th>Relative_Humidity_2m(%)</th>\n      <th>Temperature</th>\n      <th>Wind_Direction_10m</th>\n      <th>Wind_Speed_10m(km/h)</th>\n      <th>Diffuse_Radiation(W/m2)</th>\n      <th>Direct_Radiation(W/m2)</th>\n      <th>Precipitation(mm)</th>\n      <th>Shortwave_Radiation(W/m2)</th>\n      <th>Surface_Pressure(hPa)</th>\n      <th>Target</th>\n    </tr>\n  </thead>\n  <tbody>\n    <tr>\n      <th>count</th>\n      <td>41424.000000</td>\n      <td>41424.000000</td>\n      <td>41424.000000</td>\n      <td>41424.000000</td>\n      <td>41424.000000</td>\n      <td>41424.000000</td>\n      <td>41424.000000</td>\n      <td>41424.000000</td>\n      <td>41424.000000</td>\n      <td>41424.000000</td>\n      <td>41424.000000</td>\n      <td>41424.000000</td>\n      <td>41424.000000</td>\n      <td>41424.000000</td>\n      <td>41424.000000</td>\n      <td>41424.000000</td>\n    </tr>\n    <tr>\n      <th>mean</th>\n      <td>81.662297</td>\n      <td>8.882001</td>\n      <td>34.369399</td>\n      <td>67.118023</td>\n      <td>0.927964</td>\n      <td>3.136938</td>\n      <td>56.571818</td>\n      <td>12.987213</td>\n      <td>183.249179</td>\n      <td>10.164257</td>\n      <td>71.441435</td>\n      <td>98.467893</td>\n      <td>0.073404</td>\n      <td>169.909328</td>\n      <td>1012.946944</td>\n      <td>42.762275</td>\n    </tr>\n    <tr>\n      <th>std</th>\n      <td>79.800206</td>\n      <td>9.738786</td>\n      <td>23.422725</td>\n      <td>52.683897</td>\n      <td>0.725249</td>\n      <td>14.250651</td>\n      <td>24.735945</td>\n      <td>11.856697</td>\n      <td>100.898038</td>\n      <td>5.141175</td>\n      <td>91.225022</td>\n      <td>160.827492</td>\n      <td>0.517522</td>\n      <td>237.209179</td>\n      <td>10.574187</td>\n      <td>38.527704</td>\n    </tr>\n    <tr>\n      <th>min</th>\n      <td>1.000000</td>\n      <td>1.000000</td>\n      <td>1.000000</td>\n      <td>1.000000</td>\n      <td>0.100000</td>\n      <td>-39.600000</td>\n      <td>5.000000</td>\n      <td>-20.100000</td>\n      <td>1.000000</td>\n      <td>0.000000</td>\n      <td>0.000000</td>\n      <td>0.000000</td>\n      <td>0.000000</td>\n      <td>0.000000</td>\n      <td>985.200000</td>\n      <td>1.000000</td>\n    </tr>\n    <tr>\n      <th>25%</th>\n      <td>42.000000</td>\n      <td>3.000000</td>\n      <td>16.000000</td>\n      <td>26.000000</td>\n      <td>0.500000</td>\n      <td>-7.700000</td>\n      <td>36.000000</td>\n      <td>2.400000</td>\n      <td>92.000000</td>\n      <td>6.600000</td>\n      <td>0.000000</td>\n      <td>0.000000</td>\n      <td>0.000000</td>\n      <td>0.000000</td>\n      <td>1004.100000</td>\n      <td>18.000000</td>\n    </tr>\n    <tr>\n      <th>50%</th>\n      <td>65.000000</td>\n      <td>6.000000</td>\n      <td>29.000000</td>\n      <td>58.000000</td>\n      <td>0.700000</td>\n      <td>4.100000</td>\n      <td>57.000000</td>\n      <td>14.400000</td>\n      <td>189.000000</td>\n      <td>9.200000</td>\n      <td>8.000000</td>\n      <td>0.000000</td>\n      <td>0.000000</td>\n      <td>9.000000</td>\n      <td>1012.500000</td>\n      <td>31.000000</td>\n    </tr>\n    <tr>\n      <th>75%</th>\n      <td>100.000000</td>\n      <td>11.000000</td>\n      <td>50.000000</td>\n      <td>94.000000</td>\n      <td>1.100000</td>\n      <td>15.900000</td>\n      <td>78.000000</td>\n      <td>23.200000</td>\n      <td>270.000000</td>\n      <td>12.900000</td>\n      <td>136.000000</td>\n      <td>155.000000</td>\n      <td>0.000000</td>\n      <td>319.000000</td>\n      <td>1021.300000</td>\n      <td>53.000000</td>\n    </tr>\n    <tr>\n      <th>max</th>\n      <td>2801.000000</td>\n      <td>247.000000</td>\n      <td>164.000000</td>\n      <td>372.000000</td>\n      <td>15.100000</td>\n      <td>28.100000</td>\n      <td>100.000000</td>\n      <td>39.800000</td>\n      <td>360.000000</td>\n      <td>45.000000</td>\n      <td>397.000000</td>\n      <td>646.000000</td>\n      <td>18.400000</td>\n      <td>869.000000</td>\n      <td>1042.800000</td>\n      <td>483.000000</td>\n    </tr>\n  </tbody>\n</table>\n</div>"
     },
     "execution_count": 83,
     "metadata": {},
     "output_type": "execute_result"
    }
   ],
   "source": [
    "df.describe()"
   ],
   "metadata": {
    "collapsed": false,
    "ExecuteTime": {
     "end_time": "2024-11-20T09:09:45.154836200Z",
     "start_time": "2024-11-20T09:09:44.608359200Z"
    }
   }
  }
 ],
 "metadata": {
  "kernelspec": {
   "display_name": "Python 3",
   "language": "python",
   "name": "python3"
  },
  "language_info": {
   "codemirror_mode": {
    "name": "ipython",
    "version": 2
   },
   "file_extension": ".py",
   "mimetype": "text/x-python",
   "name": "python",
   "nbconvert_exporter": "python",
   "pygments_lexer": "ipython2",
   "version": "2.7.6"
  }
 },
 "nbformat": 4,
 "nbformat_minor": 0
}
